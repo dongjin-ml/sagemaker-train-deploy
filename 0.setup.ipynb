{
 "cells": [
  {
   "cell_type": "markdown",
   "id": "8f3dd71b-f63a-4106-b323-67be004b482e",
   "metadata": {},
   "source": [
    "# <B> Setup for SageMaker BYOM examples </B>\n",
    "* Container: pytorch_p39"
   ]
  },
  {
   "cell_type": "markdown",
   "id": "aaeaff49-a119-4a0c-b48a-f66ab721c458",
   "metadata": {},
   "source": [
    "## AutoReload"
   ]
  },
  {
   "cell_type": "code",
   "execution_count": 26,
   "id": "9f8f8f99-aaa0-42f9-8695-c8bd1884504c",
   "metadata": {
    "tags": []
   },
   "outputs": [
    {
     "name": "stdout",
     "output_type": "stream",
     "text": [
      "The autoreload extension is already loaded. To reload it, use:\n",
      "  %reload_ext autoreload\n"
     ]
    }
   ],
   "source": [
    "%load_ext autoreload\n",
    "%autoreload 2"
   ]
  },
  {
   "cell_type": "markdown",
   "id": "9d235cc4-356c-43e0-99ca-fea913797c99",
   "metadata": {},
   "source": [
    "## 1. Set roles"
   ]
  },
  {
   "cell_type": "code",
   "execution_count": 27,
   "id": "1f3a2019-2337-4b48-9bd8-f577ac13daed",
   "metadata": {
    "tags": []
   },
   "outputs": [],
   "source": [
    "from sagemaker import get_execution_role"
   ]
  },
  {
   "cell_type": "code",
   "execution_count": 28,
   "id": "3be71d18-b4b7-4196-abf1-1922f3013c4e",
   "metadata": {
    "tags": []
   },
   "outputs": [
    {
     "name": "stdout",
     "output_type": "stream",
     "text": [
      "SageMaker Execution Role Name: AmazonSageMaker-ExecutionRole-20221206T163436\n"
     ]
    }
   ],
   "source": [
    "strSageMakerRoleName = get_execution_role().rsplit('/', 1)[-1]\n",
    "print (f\"SageMaker Execution Role Name: {strSageMakerRoleName}\")"
   ]
  },
  {
   "cell_type": "markdown",
   "id": "8acda191-5a24-4904-b637-92e9bfd580e2",
   "metadata": {},
   "source": [
    "### 2.1 Attach IAM polich to sagemaker execution role (<b>with console</b>)\n",
    "> step 1. IAM console 로 이동    \n",
    ">\n",
    "> step 2. 왼쪽 네비게이터에서  \"Role\" 선택  \n",
    "> ![nn](images/Role.png)  \n",
    ">\n",
    "> step 3. SageMaker Execution Role 검색 후 role 선택 (상위 cell output 참조)  \n",
    "> ![nn](images/search-by-rolename.png)  \n",
    ">\n",
    "> step 4. \"attach policies\" 메뉴 선택 \n",
    "> ![nn](images/attach-policy-menu.png)  \n",
    ">\n",
    "> step 5. \"IAMFullAccess\" policy 검색 후 attach \n",
    "> ![nn](images/attach-policy.png) "
   ]
  },
  {
   "cell_type": "code",
   "execution_count": 29,
   "id": "c258dc86-c198-4458-8679-ae99eddfd01c",
   "metadata": {
    "tags": []
   },
   "outputs": [],
   "source": [
    "from utils.iam import iam_handler"
   ]
  },
  {
   "cell_type": "code",
   "execution_count": 30,
   "id": "a54390cd-9d8b-49c3-8f2c-1bfaed27936e",
   "metadata": {
    "tags": []
   },
   "outputs": [],
   "source": [
    "iam = iam_handler()"
   ]
  },
  {
   "cell_type": "markdown",
   "id": "b227ef91-1417-4295-9534-3196766279f8",
   "metadata": {},
   "source": [
    "### 2.2 Attach policy - sagemaker execution role\n",
    "> SSM  \n",
    "> EC2ContainerRegistry <BR>\n",
    "> S3"
   ]
  },
  {
   "cell_type": "code",
   "execution_count": 31,
   "id": "6c963c5c-ff7c-4622-b45f-6ead188d3e75",
   "metadata": {
    "tags": []
   },
   "outputs": [],
   "source": [
    "listPolicyArn=[\n",
    "    \"arn:aws:iam::aws:policy/AmazonSSMFullAccess\",\n",
    "    \"arn:aws:iam::aws:policy/AmazonEC2ContainerRegistryFullAccess\",\n",
    "    \"arn:aws:iam::aws:policy/AmazonS3FullAccess\",\n",
    "]\n",
    "for strPolicyArn in listPolicyArn: iam.attach_policy(strSageMakerRoleName, strPolicyArn)"
   ]
  },
  {
   "cell_type": "markdown",
   "id": "87fe7a4b-03e1-4422-8bd5-62d30e0a419f",
   "metadata": {},
   "source": [
    "## 2. Set default parameters"
   ]
  },
  {
   "cell_type": "code",
   "execution_count": 32,
   "id": "e5e8ad58-6a1e-41b4-88e5-aec263ef935e",
   "metadata": {
    "tags": []
   },
   "outputs": [],
   "source": [
    "import boto3\n",
    "import sagemaker\n",
    "from utils.ssm import parameter_store"
   ]
  },
  {
   "cell_type": "code",
   "execution_count": 33,
   "id": "f5aed719-2937-49ca-a675-f83b5a6bccd7",
   "metadata": {
    "tags": []
   },
   "outputs": [],
   "source": [
    "strRegionName=boto3.Session().region_name\n",
    "pm = parameter_store(strRegionName)"
   ]
  },
  {
   "cell_type": "code",
   "execution_count": 34,
   "id": "6a490232-b263-4cc2-a29d-ed7bc0edbadd",
   "metadata": {
    "tags": []
   },
   "outputs": [],
   "source": [
    "strPrefix = \"SM-BYOM-\""
   ]
  },
  {
   "cell_type": "code",
   "execution_count": 35,
   "id": "0cbbe6c5-469a-4952-ae8d-927d0dcdc19e",
   "metadata": {
    "tags": []
   },
   "outputs": [
    {
     "data": {
      "text/plain": [
       "'Store suceess'"
      ]
     },
     "execution_count": 35,
     "metadata": {},
     "output_type": "execute_result"
    }
   ],
   "source": [
    "pm.put_params(key=\"PREFIX\", value=strPrefix, overwrite=True)\n",
    "pm.put_params(key=\"\".join([strPrefix, \"REGION\"]), value=strRegionName, overwrite=True)\n",
    "pm.put_params(key=\"\".join([strPrefix, \"BUCKET\"]), value=sagemaker.Session().default_bucket(), overwrite=True)\n",
    "pm.put_params(key=\"\".join([strPrefix, \"SAGEMAKER-ROLE-ARN\"]), value=get_execution_role(), overwrite=True)\n",
    "pm.put_params(key=\"\".join([strPrefix, \"ACCOUNT-ID\"]), value=boto3.client(\"sts\").get_caller_identity().get(\"Account\"), overwrite=True)"
   ]
  },
  {
   "cell_type": "markdown",
   "id": "eab79806-4b21-4f95-b67d-60c360a62177",
   "metadata": {},
   "source": [
    "## 3. Data preparation\n",
    "* https://sagemaker-examples.readthedocs.io/en/latest/aws_sagemaker_studio/frameworks/pytorch_cnn_cifar10/pytorch_cnn_cifar10.html\n",
    "* The CIFAR-10 dataset is a subset of the 80 million tiny images dataset. It consists of 60,000 32x32 color images in 10 classes, with 6,000 images per class."
   ]
  },
  {
   "cell_type": "code",
   "execution_count": null,
   "id": "af818802-d984-4101-8810-fcb141410f6d",
   "metadata": {
    "tags": []
   },
   "outputs": [
    {
     "name": "stdout",
     "output_type": "stream",
     "text": [
      "--2023-03-02 02:57:42--  http://www.cs.toronto.edu/~kriz/cifar-10-python.tar.gz\n",
      "Resolving www.cs.toronto.edu (www.cs.toronto.edu)... 128.100.3.30\n",
      "Connecting to www.cs.toronto.edu (www.cs.toronto.edu)|128.100.3.30|:80... connected.\n",
      "HTTP request sent, awaiting response... 200 OK\n",
      "Length: 170498071 (163M) [application/x-gzip]\n",
      "Saving to: ‘cifar-10-python.tar.gz’\n",
      "\n",
      "100%[======================================>] 170,498,071 12.3MB/s   in 14s    \n",
      "\n",
      "2023-03-02 02:57:57 (11.2 MB/s) - ‘cifar-10-python.tar.gz’ saved [170498071/170498071]\n",
      "\n",
      "cifar-10-batches-py/\n",
      "cifar-10-batches-py/data_batch_4\n",
      "cifar-10-batches-py/readme.html\n",
      "cifar-10-batches-py/test_batch\n",
      "cifar-10-batches-py/data_batch_3\n",
      "cifar-10-batches-py/batches.meta\n",
      "cifar-10-batches-py/data_batch_2\n",
      "cifar-10-batches-py/data_batch_5\n"
     ]
    }
   ],
   "source": [
    "! wget http://www.cs.toronto.edu/~kriz/cifar-10-python.tar.gz\n",
    "! tar xfvz cifar-10-python.tar.gz\n",
    "! mkdir data\n",
    "! mv cifar-10-batches-py data/.\n",
    "! rm cifar-10-python.tar.gz"
   ]
  },
  {
   "cell_type": "markdown",
   "id": "9a135a35-8fb6-40a0-9ae7-ce055feda8ce",
   "metadata": {},
   "source": [
    "### 3.1 preview"
   ]
  },
  {
   "cell_type": "code",
   "execution_count": null,
   "id": "5f927896-3aeb-4e03-9016-e7a561897e6a",
   "metadata": {
    "tags": []
   },
   "outputs": [],
   "source": [
    "from utils.cifar_utils import classes, show_img, train_data_loader, test_data_loader\n",
    "train_loader = train_data_loader()\n",
    "test_loader = test_data_loader()"
   ]
  },
  {
   "cell_type": "code",
   "execution_count": null,
   "id": "1603827c-eedd-4bf4-98e4-ad47d27f3a41",
   "metadata": {
    "tags": []
   },
   "outputs": [],
   "source": [
    "import numpy as np\n",
    "import torchvision, torch\n",
    "\n",
    "# get some random training images\n",
    "dataiter = iter(train_loader)\n",
    "images, labels = next(iter(dataiter))\n",
    "\n",
    "# show images\n",
    "show_img(torchvision.utils.make_grid(images))\n",
    "\n",
    "# print labels\n",
    "print(\" \".join(\"%9s\" % classes[labels[j]] for j in range(4)))"
   ]
  },
  {
   "cell_type": "markdown",
   "id": "c7ab8e15-229a-4fc5-b1d1-e59e72879313",
   "metadata": {},
   "source": [
    "### 3.2 upload to S3"
   ]
  },
  {
   "cell_type": "code",
   "execution_count": null,
   "id": "42bcb764-50d5-42b3-ab31-5a32914e7a05",
   "metadata": {
    "tags": []
   },
   "outputs": [],
   "source": [
    "from utils.s3 import s3_handler"
   ]
  },
  {
   "cell_type": "code",
   "execution_count": null,
   "id": "6d2eeade-086c-49eb-a02a-788cf37fb41e",
   "metadata": {
    "tags": []
   },
   "outputs": [],
   "source": [
    "s3 = s3_handler()"
   ]
  },
  {
   "cell_type": "code",
   "execution_count": null,
   "id": "d712472f-7638-483d-b00c-03b52c226468",
   "metadata": {
    "tags": []
   },
   "outputs": [],
   "source": [
    "source_dir, target_bucket, target_dir = \"data\", pm.get_params(key=strPrefix+\"BUCKET\"), \"data\"\n",
    "s3.upload_dir(source_dir, target_bucket, target_dir)"
   ]
  },
  {
   "cell_type": "code",
   "execution_count": null,
   "id": "7f70c0c7-6ca2-4ff6-83aa-146c0cf295d2",
   "metadata": {
    "tags": []
   },
   "outputs": [],
   "source": [
    "pm.put_params(key=\"\".join([strPrefix, \"DATA-PATH\"]), value=f\"s3://{target_bucket}/{target_dir}\", overwrite=True)"
   ]
  },
  {
   "cell_type": "code",
   "execution_count": null,
   "id": "6e558b6b-1af1-4cf2-8c6d-2615da4d1e2e",
   "metadata": {
    "tags": []
   },
   "outputs": [],
   "source": [
    "print (f'input data: {pm.get_params(key=strPrefix + \"DATA-PATH\")}')"
   ]
  },
  {
   "cell_type": "code",
   "execution_count": null,
   "id": "7b3f10d7-7a58-4249-a160-076e4bb19bdc",
   "metadata": {},
   "outputs": [],
   "source": []
  }
 ],
 "metadata": {
  "kernelspec": {
   "display_name": "conda_pytorch_p39",
   "language": "python",
   "name": "conda_pytorch_p39"
  },
  "language_info": {
   "codemirror_mode": {
    "name": "ipython",
    "version": 3
   },
   "file_extension": ".py",
   "mimetype": "text/x-python",
   "name": "python",
   "nbconvert_exporter": "python",
   "pygments_lexer": "ipython3",
   "version": "3.9.15"
  },
  "vscode": {
   "interpreter": {
    "hash": "1f4a227f2552de404565d6626d9115986c409361ad6ef0bf195ad88ccd012b73"
   }
  }
 },
 "nbformat": 4,
 "nbformat_minor": 5
}
