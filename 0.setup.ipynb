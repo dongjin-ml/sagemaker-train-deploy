{
 "cells": [
  {
   "cell_type": "markdown",
   "id": "8f3dd71b-f63a-4106-b323-67be004b482e",
   "metadata": {},
   "source": [
    "# <B> Setup for SageMaker BYOM examples </B>\n",
    "* Container: pytorch_p39"
   ]
  },
  {
   "cell_type": "markdown",
   "id": "aaeaff49-a119-4a0c-b48a-f66ab721c458",
   "metadata": {},
   "source": [
    "## AutoReload"
   ]
  },
  {
   "cell_type": "code",
   "execution_count": 26,
   "id": "9f8f8f99-aaa0-42f9-8695-c8bd1884504c",
   "metadata": {
    "tags": []
   },
   "outputs": [
    {
     "name": "stdout",
     "output_type": "stream",
     "text": [
      "The autoreload extension is already loaded. To reload it, use:\n",
      "  %reload_ext autoreload\n"
     ]
    }
   ],
   "source": [
    "%load_ext autoreload\n",
    "%autoreload 2"
   ]
  },
  {
   "cell_type": "markdown",
   "id": "9d235cc4-356c-43e0-99ca-fea913797c99",
   "metadata": {},
   "source": [
    "## 1. Set roles"
   ]
  },
  {
   "cell_type": "code",
   "execution_count": 57,
   "id": "1f3a2019-2337-4b48-9bd8-f577ac13daed",
   "metadata": {
    "tags": []
   },
   "outputs": [],
   "source": [
    "from sagemaker import get_execution_role"
   ]
  },
  {
   "cell_type": "code",
   "execution_count": 58,
   "id": "3be71d18-b4b7-4196-abf1-1922f3013c4e",
   "metadata": {
    "tags": []
   },
   "outputs": [
    {
     "name": "stdout",
     "output_type": "stream",
     "text": [
      "SageMaker Execution Role Name: AmazonSageMaker-ExecutionRole-20221206T163436\n"
     ]
    }
   ],
   "source": [
    "strSageMakerRoleName = get_execution_role().rsplit('/', 1)[-1]\n",
    "print (f\"SageMaker Execution Role Name: {strSageMakerRoleName}\")"
   ]
  },
  {
   "cell_type": "markdown",
   "id": "8acda191-5a24-4904-b637-92e9bfd580e2",
   "metadata": {},
   "source": [
    "### 1.1 Attach IAM polich to sagemaker execution role (<b>with console</b>)\n",
    "> step 1. IAM console 로 이동    \n",
    ">\n",
    "> step 2. 왼쪽 네비게이터에서  \"Role\" 선택  \n",
    "> ![nn](images/Role.png)  \n",
    ">\n",
    "> step 3. SageMaker Execution Role 검색 후 role 선택 (상위 cell output 참조)  \n",
    "> ![nn](images/search-by-rolename.png)  \n",
    ">\n",
    "> step 4. \"attach policies\" 메뉴 선택 \n",
    "> ![nn](images/attach-policy-menu.png)  \n",
    ">\n",
    "> step 5. \"IAMFullAccess\" policy 검색 후 attach \n",
    "> ![nn](images/attach-policy.png) "
   ]
  },
  {
   "cell_type": "code",
   "execution_count": 48,
   "id": "c258dc86-c198-4458-8679-ae99eddfd01c",
   "metadata": {
    "tags": []
   },
   "outputs": [],
   "source": [
    "from utils.iam import iam_handler"
   ]
  },
  {
   "cell_type": "code",
   "execution_count": 49,
   "id": "a54390cd-9d8b-49c3-8f2c-1bfaed27936e",
   "metadata": {
    "tags": []
   },
   "outputs": [],
   "source": [
    "iam = iam_handler()"
   ]
  },
  {
   "cell_type": "code",
   "execution_count": 50,
   "id": "8e152954-1c5f-4408-acf1-96a946b389cc",
   "metadata": {
    "tags": []
   },
   "outputs": [],
   "source": [
    "strPrefix = \"SM-MLOPS-PIPELINE-\""
   ]
  },
  {
   "cell_type": "markdown",
   "id": "b227ef91-1417-4295-9534-3196766279f8",
   "metadata": {},
   "source": [
    "### 1.2 Attach policy - sagemaker execution role\n",
    "> SSM  \n",
    "> S3 <BR>\n",
    "> CodeCommit <BR>\n",
    "> CodeBuild <BR>\n",
    "> CodePipeline <BR>"
   ]
  },
  {
   "cell_type": "code",
   "execution_count": 56,
   "id": "6c963c5c-ff7c-4622-b45f-6ead188d3e75",
   "metadata": {
    "tags": []
   },
   "outputs": [],
   "source": [
    "listPolicyArn=[\n",
    "    \"arn:aws:iam::aws:policy/AmazonSSMFullAccess\",\n",
    "    #\"arn:aws:iam::aws:policy/AmazonS3FullAccess\",\n",
    "    \"arn:aws:iam::aws:policy/AWSCodeCommitFullAccess\",\n",
    "    \"arn:aws:iam::aws:policy/AWSCodeBuildAdminAccess\",\n",
    "    \"arn:aws:iam::aws:policy/AWSCodePipeline_FullAccess\",\n",
    "]\n",
    "for strPolicyArn in listPolicyArn: iam.attach_policy(strSageMakerRoleName, strPolicyArn)"
   ]
  },
  {
   "cell_type": "markdown",
   "id": "be7efd68-8807-4df9-b44c-a0e390467ad4",
   "metadata": {},
   "source": [
    "### 1.3 Create role for lambda"
   ]
  },
  {
   "cell_type": "code",
   "execution_count": 18,
   "id": "26b57063-9b68-48ce-96a6-03de36614436",
   "metadata": {
    "tags": []
   },
   "outputs": [],
   "source": [
    "listService = [\"lambda.amazonaws.com\"]\n",
    "strRoleName = strPrefix + \"LabmdaRole\"\n",
    "listPolicyArn = [\n",
    "    \"arn:aws:iam::aws:policy/service-role/AWSLambdaBasicExecutionRole\",\n",
    "    \"arn:aws:iam::aws:policy/AWSLambda_FullAccess\",\n",
    "    \"arn:aws:iam::aws:policy/AmazonSageMakerFullAccess\",\n",
    "]\n",
    "strDescription=\"Role for Lambda to call SageMaker functions'\""
   ]
  },
  {
   "cell_type": "code",
   "execution_count": 19,
   "id": "cca0ef7d-41c7-4338-b157-43a2fc049dc2",
   "metadata": {
    "tags": []
   },
   "outputs": [
    {
     "name": "stdout",
     "output_type": "stream",
     "text": [
      "== CREATE ROLE ==\n",
      "  Role Name: [SM-MLOPS-PIPELINE-LabmdaRole] is already exist!!, so, this will be deleted and re-created.\n",
      "{'ResponseMetadata': {'RequestId': '86069c01-70aa-4a5f-8e49-d732edadaaf0', 'HTTPStatusCode': 200, 'HTTPHeaders': {'x-amzn-requestid': '86069c01-70aa-4a5f-8e49-d732edadaaf0', 'content-type': 'text/xml', 'content-length': '212', 'date': 'Wed, 05 Apr 2023 05:12:45 GMT'}, 'RetryAttempts': 0}}\n",
      "arn:aws:iam::aws:policy/service-role/AWSLambdaBasicExecutionRole\n",
      "{'ResponseMetadata': {'RequestId': 'd613a521-8be6-4f74-99b6-0913c2340bb6', 'HTTPStatusCode': 200, 'HTTPHeaders': {'x-amzn-requestid': 'd613a521-8be6-4f74-99b6-0913c2340bb6', 'content-type': 'text/xml', 'content-length': '212', 'date': 'Wed, 05 Apr 2023 05:12:45 GMT'}, 'RetryAttempts': 0}}\n",
      "arn:aws:iam::aws:policy/AmazonSageMakerFullAccess\n",
      "{'ResponseMetadata': {'RequestId': '29ee5965-1d80-4665-ac3f-e489db432e14', 'HTTPStatusCode': 200, 'HTTPHeaders': {'x-amzn-requestid': '29ee5965-1d80-4665-ac3f-e489db432e14', 'content-type': 'text/xml', 'content-length': '212', 'date': 'Wed, 05 Apr 2023 05:12:45 GMT'}, 'RetryAttempts': 0}}\n",
      "arn:aws:iam::aws:policy/AWSLambda_FullAccess\n",
      "  Service name: ['lambda.amazonaws.com'], \n",
      "  Role name: SM-MLOPS-PIPELINE-LabmdaRole, \n",
      "  Policys: ['arn:aws:iam::aws:policy/service-role/AWSLambdaBasicExecutionRole', 'arn:aws:iam::aws:policy/AWSLambda_FullAccess', 'arn:aws:iam::aws:policy/AmazonSageMakerFullAccess'], \n",
      "  Role ARN: arn:aws:iam::419974056037:role/SM-MLOPS-PIPELINE-LabmdaRole\n",
      "== COMPLETED ==\n"
     ]
    }
   ],
   "source": [
    "lambdaRoleArn = iam.create_role(\n",
    "    listService=listService,\n",
    "    strRoleName=strRoleName,\n",
    "    listPolicyArn = listPolicyArn,\n",
    "    strDescription=strDescription\n",
    ")"
   ]
  },
  {
   "cell_type": "markdown",
   "id": "b3f8125a-f642-4e5e-96a9-342ba4286e1d",
   "metadata": {
    "tags": []
   },
   "source": [
    "### 1.4 role-codebuild"
   ]
  },
  {
   "cell_type": "code",
   "execution_count": 60,
   "id": "641cf8dd-7fcf-4851-b90b-3ea82fe99726",
   "metadata": {
    "tags": []
   },
   "outputs": [],
   "source": [
    "listService = [\"codebuild.amazonaws.com\", \"sagemaker.amazonaws.com\"]\n",
    "strRoleName = strPrefix + \"CodeBuildRole\"\n",
    "listPolicyArn = [\n",
    "    \"arn:aws:iam::aws:policy/AWSCodeCommitFullAccess\",\n",
    "    \"arn:aws:iam::aws:policy/AWSCodeBuildAdminAccess\",\n",
    "    \"arn:aws:iam::aws:policy/AmazonS3FullAccess\",\n",
    "    \"arn:aws:iam::aws:policy/CloudWatchFullAccess\",\n",
    "    \"arn:aws:iam::aws:policy/AmazonSageMakerFullAccess\",\n",
    "    \"arn:aws:iam::aws:policy/AWSLambda_FullAccess\",\n",
    "    \"arn:aws:iam::aws:policy/AmazonSSMFullAccess\",\n",
    "]\n",
    "strDescription=\"Role for CodeBuild\""
   ]
  },
  {
   "cell_type": "code",
   "execution_count": 61,
   "id": "d6e4a6a5-fa94-4cd0-b123-a0997f7afe42",
   "metadata": {
    "tags": []
   },
   "outputs": [
    {
     "name": "stdout",
     "output_type": "stream",
     "text": [
      "== CREATE ROLE ==\n",
      "  Role Name: [SM-MLOPS-PIPELINE-CodeBuildRole] is already exist!!, so, this will be deleted and re-created.\n",
      "{'ResponseMetadata': {'RequestId': '2eb6085d-371a-4954-ac40-a8290f62ebf4', 'HTTPStatusCode': 200, 'HTTPHeaders': {'x-amzn-requestid': '2eb6085d-371a-4954-ac40-a8290f62ebf4', 'content-type': 'text/xml', 'content-length': '212', 'date': 'Wed, 05 Apr 2023 09:05:47 GMT'}, 'RetryAttempts': 0}}\n",
      "arn:aws:iam::aws:policy/AmazonSSMFullAccess\n",
      "{'ResponseMetadata': {'RequestId': 'e3b887c6-768a-46a2-9a0b-8774be23b06c', 'HTTPStatusCode': 200, 'HTTPHeaders': {'x-amzn-requestid': 'e3b887c6-768a-46a2-9a0b-8774be23b06c', 'content-type': 'text/xml', 'content-length': '212', 'date': 'Wed, 05 Apr 2023 09:05:47 GMT'}, 'RetryAttempts': 0}}\n",
      "arn:aws:iam::aws:policy/AWSCodeBuildAdminAccess\n",
      "{'ResponseMetadata': {'RequestId': '17a614f8-06b2-4e75-8ea0-27ec79d1d854', 'HTTPStatusCode': 200, 'HTTPHeaders': {'x-amzn-requestid': '17a614f8-06b2-4e75-8ea0-27ec79d1d854', 'content-type': 'text/xml', 'content-length': '212', 'date': 'Wed, 05 Apr 2023 09:05:47 GMT'}, 'RetryAttempts': 0}}\n",
      "arn:aws:iam::aws:policy/AWSCodeCommitFullAccess\n",
      "{'ResponseMetadata': {'RequestId': '2f533e04-b4a3-4bd7-982d-4097ddb302b6', 'HTTPStatusCode': 200, 'HTTPHeaders': {'x-amzn-requestid': '2f533e04-b4a3-4bd7-982d-4097ddb302b6', 'content-type': 'text/xml', 'content-length': '212', 'date': 'Wed, 05 Apr 2023 09:05:47 GMT'}, 'RetryAttempts': 0}}\n",
      "arn:aws:iam::aws:policy/CloudWatchFullAccess\n",
      "{'ResponseMetadata': {'RequestId': '80e9f902-cec2-4351-9c5b-b7e17262a597', 'HTTPStatusCode': 200, 'HTTPHeaders': {'x-amzn-requestid': '80e9f902-cec2-4351-9c5b-b7e17262a597', 'content-type': 'text/xml', 'content-length': '212', 'date': 'Wed, 05 Apr 2023 09:05:47 GMT'}, 'RetryAttempts': 0}}\n",
      "arn:aws:iam::aws:policy/AmazonSageMakerFullAccess\n",
      "{'ResponseMetadata': {'RequestId': '1fde7951-0c2e-486e-86ea-2447beed95a3', 'HTTPStatusCode': 200, 'HTTPHeaders': {'x-amzn-requestid': '1fde7951-0c2e-486e-86ea-2447beed95a3', 'content-type': 'text/xml', 'content-length': '212', 'date': 'Wed, 05 Apr 2023 09:05:47 GMT'}, 'RetryAttempts': 0}}\n",
      "arn:aws:iam::aws:policy/AmazonS3FullAccess\n",
      "{'ResponseMetadata': {'RequestId': '72a6b691-5370-4ccd-a6ea-10876b241cca', 'HTTPStatusCode': 200, 'HTTPHeaders': {'x-amzn-requestid': '72a6b691-5370-4ccd-a6ea-10876b241cca', 'content-type': 'text/xml', 'content-length': '212', 'date': 'Wed, 05 Apr 2023 09:05:48 GMT'}, 'RetryAttempts': 0}}\n",
      "arn:aws:iam::aws:policy/AWSLambda_FullAccess\n",
      "  Service name: ['codebuild.amazonaws.com', 'sagemaker.amazonaws.com'], \n",
      "  Role name: SM-MLOPS-PIPELINE-CodeBuildRole, \n",
      "  Policys: ['arn:aws:iam::aws:policy/AWSCodeCommitFullAccess', 'arn:aws:iam::aws:policy/AWSCodeBuildAdminAccess', 'arn:aws:iam::aws:policy/AmazonS3FullAccess', 'arn:aws:iam::aws:policy/CloudWatchFullAccess', 'arn:aws:iam::aws:policy/AmazonSageMakerFullAccess', 'arn:aws:iam::aws:policy/AWSLambda_FullAccess', 'arn:aws:iam::aws:policy/AmazonSSMFullAccess'], \n",
      "  Role ARN: arn:aws:iam::419974056037:role/SM-MLOPS-PIPELINE-CodeBuildRole\n",
      "== COMPLETED ==\n",
      "CODE-BUILD-ROLE-ARN: arn:aws:iam::419974056037:role/SM-MLOPS-PIPELINE-CodeBuildRole\n"
     ]
    }
   ],
   "source": [
    "buildRoleArn = iam.create_role(\n",
    "    listService=listService,\n",
    "    strRoleName=strRoleName,\n",
    "    listPolicyArn = listPolicyArn,\n",
    "    strDescription=strDescription\n",
    ")\n",
    "print (f\"CODE-BUILD-ROLE-ARN: {buildRoleArn}\")"
   ]
  },
  {
   "cell_type": "markdown",
   "id": "b9a09e07-80a0-40a2-a8a2-9cf763aa11a6",
   "metadata": {
    "tags": []
   },
   "source": [
    "### 1.5 role-codepipeline"
   ]
  },
  {
   "cell_type": "code",
   "execution_count": 43,
   "id": "12eb5771-59de-4e66-aa2d-bfad4d9ac422",
   "metadata": {
    "tags": []
   },
   "outputs": [],
   "source": [
    "listService = [\"codepipeline.amazonaws.com\", \"codebuild.amazonaws.com\"]\n",
    "strRoleName = strPrefix + \"CodePipelineRole\"\n",
    "listPolicyArn = [\n",
    "    \"arn:aws:iam::aws:policy/AWSCodeCommitFullAccess\",\n",
    "    \"arn:aws:iam::aws:policy/AmazonS3FullAccess\",\n",
    "    \"arn:aws:iam::aws:policy/AWSCodeBuildAdminAccess\",\n",
    "    \"arn:aws:iam::aws:policy/AWSCodeDeployFullAccess\",\n",
    "    \"arn:aws:iam::aws:policy/AWSCodePipeline_FullAccess\"\n",
    "]\n",
    "strDescription=\"Role for CodePipeline\""
   ]
  },
  {
   "cell_type": "code",
   "execution_count": 44,
   "id": "b144f1f6-660d-4d82-b233-4cda985f62ad",
   "metadata": {
    "tags": []
   },
   "outputs": [
    {
     "name": "stdout",
     "output_type": "stream",
     "text": [
      "== CREATE ROLE ==\n",
      "  Service name: ['codepipeline.amazonaws.com', 'codebuild.amazonaws.com'], \n",
      "  Role name: SM-MLOPS-PIPELINE-CodePipelineRole, \n",
      "  Policys: ['arn:aws:iam::aws:policy/AWSCodeCommitFullAccess', 'arn:aws:iam::aws:policy/AmazonS3FullAccess', 'arn:aws:iam::aws:policy/AWSCodeBuildAdminAccess', 'arn:aws:iam::aws:policy/AWSCodeDeployFullAccess', 'arn:aws:iam::aws:policy/AWSCodePipeline_FullAccess'], \n",
      "  Role ARN: arn:aws:iam::419974056037:role/SM-MLOPS-PIPELINE-CodePipelineRole\n",
      "== COMPLETED ==\n",
      "CODE-PIPELINE-ROLE-ARN: arn:aws:iam::419974056037:role/SM-MLOPS-PIPELINE-CodePipelineRole\n"
     ]
    }
   ],
   "source": [
    "pipelineRoleArn = iam.create_role(\n",
    "    listService=listService,\n",
    "    strRoleName=strRoleName,\n",
    "    listPolicyArn = listPolicyArn,\n",
    "    strDescription=strDescription\n",
    ")\n",
    "\n",
    "print (f\"CODE-PIPELINE-ROLE-ARN: {pipelineRoleArn}\")"
   ]
  },
  {
   "cell_type": "markdown",
   "id": "87fe7a4b-03e1-4422-8bd5-62d30e0a419f",
   "metadata": {},
   "source": [
    "## 2. Set default parameters"
   ]
  },
  {
   "cell_type": "code",
   "execution_count": 45,
   "id": "e5e8ad58-6a1e-41b4-88e5-aec263ef935e",
   "metadata": {
    "tags": []
   },
   "outputs": [],
   "source": [
    "import boto3\n",
    "import sagemaker\n",
    "from utils.ssm import parameter_store"
   ]
  },
  {
   "cell_type": "code",
   "execution_count": 46,
   "id": "f5aed719-2937-49ca-a675-f83b5a6bccd7",
   "metadata": {
    "tags": []
   },
   "outputs": [],
   "source": [
    "strRegionName=boto3.Session().region_name\n",
    "pm = parameter_store(strRegionName)"
   ]
  },
  {
   "cell_type": "code",
   "execution_count": 59,
   "id": "0cbbe6c5-469a-4952-ae8d-927d0dcdc19e",
   "metadata": {
    "tags": []
   },
   "outputs": [
    {
     "data": {
      "text/plain": [
       "'Store suceess'"
      ]
     },
     "execution_count": 59,
     "metadata": {},
     "output_type": "execute_result"
    }
   ],
   "source": [
    "pm.put_params(key=\"PREFIX\", value=strPrefix, overwrite=True)\n",
    "pm.put_params(key=\"\".join([strPrefix, \"REGION\"]), value=strRegionName, overwrite=True)\n",
    "pm.put_params(key=\"\".join([strPrefix, \"BUCKET\"]), value=sagemaker.Session().default_bucket(), overwrite=True)\n",
    "pm.put_params(key=\"\".join([strPrefix, \"SAGEMAKER-ROLE-ARN\"]), value=get_execution_role(), overwrite=True)\n",
    "pm.put_params(key=\"\".join([strPrefix, \"ACCOUNT-ID\"]), value=boto3.client(\"sts\").get_caller_identity().get(\"Account\"), overwrite=True)\n",
    "pm.put_params(key=strPrefix + \"LAMBDA-ROLE-ARN\", value=lambdaRoleArn, overwrite=True)\n",
    "pm.put_params(key=strPrefix + \"CODE-BUILD-ROLE-ARN\", value=buildRoleArn, overwrite=True)\n",
    "pm.put_params(key=strPrefix + \"CODE-PIPELINE-ROLE-ARN\", value=pipelineRoleArn, overwrite=True)\n"
   ]
  },
  {
   "cell_type": "markdown",
   "id": "eab79806-4b21-4f95-b67d-60c360a62177",
   "metadata": {},
   "source": [
    "## 3. Data preparation\n",
    "* https://sagemaker-examples.readthedocs.io/en/latest/aws_sagemaker_studio/frameworks/pytorch_cnn_cifar10/pytorch_cnn_cifar10.html\n",
    "* The CIFAR-10 dataset is a subset of the 80 million tiny images dataset. It consists of 60,000 32x32 color images in 10 classes, with 6,000 images per class."
   ]
  },
  {
   "cell_type": "code",
   "execution_count": 24,
   "id": "af818802-d984-4101-8810-fcb141410f6d",
   "metadata": {
    "tags": []
   },
   "outputs": [
    {
     "name": "stdout",
     "output_type": "stream",
     "text": [
      "--2023-04-05 05:13:09--  http://www.cs.toronto.edu/~kriz/cifar-10-python.tar.gz\n",
      "Resolving www.cs.toronto.edu (www.cs.toronto.edu)... 128.100.3.30\n",
      "Connecting to www.cs.toronto.edu (www.cs.toronto.edu)|128.100.3.30|:80... connected.\n",
      "HTTP request sent, awaiting response... 200 OK\n",
      "Length: 170498071 (163M) [application/x-gzip]\n",
      "Saving to: ‘cifar-10-python.tar.gz’\n",
      "\n",
      "100%[======================================>] 170,498,071 79.3MB/s   in 2.0s   \n",
      "\n",
      "2023-04-05 05:13:12 (79.3 MB/s) - ‘cifar-10-python.tar.gz’ saved [170498071/170498071]\n",
      "\n",
      "cifar-10-batches-py/\n",
      "cifar-10-batches-py/data_batch_4\n",
      "cifar-10-batches-py/readme.html\n",
      "cifar-10-batches-py/test_batch\n",
      "cifar-10-batches-py/data_batch_3\n",
      "cifar-10-batches-py/batches.meta\n",
      "cifar-10-batches-py/data_batch_2\n",
      "cifar-10-batches-py/data_batch_5\n",
      "cifar-10-batches-py/data_batch_1\n"
     ]
    }
   ],
   "source": [
    "! wget http://www.cs.toronto.edu/~kriz/cifar-10-python.tar.gz\n",
    "! tar xfvz cifar-10-python.tar.gz\n",
    "! mkdir data\n",
    "! mv cifar-10-batches-py data/.\n",
    "! rm cifar-10-python.tar.gz"
   ]
  },
  {
   "cell_type": "markdown",
   "id": "9a135a35-8fb6-40a0-9ae7-ce055feda8ce",
   "metadata": {},
   "source": [
    "### 3.1 preview"
   ]
  },
  {
   "cell_type": "code",
   "execution_count": 25,
   "id": "5f927896-3aeb-4e03-9016-e7a561897e6a",
   "metadata": {
    "tags": []
   },
   "outputs": [],
   "source": [
    "from utils.cifar_utils import classes, show_img, train_data_loader, test_data_loader\n",
    "train_loader = train_data_loader()\n",
    "test_loader = test_data_loader()"
   ]
  },
  {
   "cell_type": "code",
   "execution_count": 26,
   "id": "1603827c-eedd-4bf4-98e4-ad47d27f3a41",
   "metadata": {
    "tags": []
   },
   "outputs": [
    {
     "name": "stdout",
     "output_type": "stream",
     "text": [
      "    horse     plane      ship      deer\n"
     ]
    },
    {
     "data": {
      "image/png": "[encoded data removed]",
      "text/plain": [
       "<Figure size 640x480 with 1 Axes>"
      ]
     },
     "metadata": {},
     "output_type": "display_data"
    }
   ],
   "source": [
    "import numpy as np\n",
    "import torchvision, torch\n",
    "\n",
    "# get some random training images\n",
    "dataiter = iter(train_loader)\n",
    "images, labels = next(iter(dataiter))\n",
    "\n",
    "# show images\n",
    "show_img(torchvision.utils.make_grid(images))\n",
    "\n",
    "# print labels\n",
    "print(\" \".join(\"%9s\" % classes[labels[j]] for j in range(4)))"
   ]
  },
  {
   "cell_type": "markdown",
   "id": "c7ab8e15-229a-4fc5-b1d1-e59e72879313",
   "metadata": {},
   "source": [
    "### 3.2 upload to S3"
   ]
  },
  {
   "cell_type": "code",
   "execution_count": 27,
   "id": "42bcb764-50d5-42b3-ab31-5a32914e7a05",
   "metadata": {
    "tags": []
   },
   "outputs": [],
   "source": [
    "from utils.s3 import s3_handler"
   ]
  },
  {
   "cell_type": "code",
   "execution_count": 28,
   "id": "6d2eeade-086c-49eb-a02a-788cf37fb41e",
   "metadata": {
    "tags": []
   },
   "outputs": [
    {
     "name": "stdout",
     "output_type": "stream",
     "text": [
      "This is a S3 handler with [None] region.\n"
     ]
    }
   ],
   "source": [
    "s3 = s3_handler()"
   ]
  },
  {
   "cell_type": "code",
   "execution_count": 29,
   "id": "d712472f-7638-483d-b00c-03b52c226468",
   "metadata": {
    "tags": []
   },
   "outputs": [
    {
     "name": "stdout",
     "output_type": "stream",
     "text": [
      "Upload:[data] was uploaded to [s3://sagemaker-us-east-1-419974056037/data]successfully\n"
     ]
    }
   ],
   "source": [
    "source_dir, target_bucket, target_dir = \"data\", pm.get_params(key=strPrefix+\"BUCKET\"), \"data\"\n",
    "s3.upload_dir(source_dir, target_bucket, target_dir)"
   ]
  },
  {
   "cell_type": "code",
   "execution_count": 30,
   "id": "7f70c0c7-6ca2-4ff6-83aa-146c0cf295d2",
   "metadata": {
    "tags": []
   },
   "outputs": [
    {
     "data": {
      "text/plain": [
       "'Store suceess'"
      ]
     },
     "execution_count": 30,
     "metadata": {},
     "output_type": "execute_result"
    }
   ],
   "source": [
    "pm.put_params(key=\"\".join([strPrefix, \"DATA-PATH\"]), value=f\"s3://{target_bucket}/{target_dir}\", overwrite=True)"
   ]
  },
  {
   "cell_type": "code",
   "execution_count": 31,
   "id": "6e558b6b-1af1-4cf2-8c6d-2615da4d1e2e",
   "metadata": {
    "tags": []
   },
   "outputs": [
    {
     "name": "stdout",
     "output_type": "stream",
     "text": [
      "input data: s3://sagemaker-us-east-1-419974056037/data\n"
     ]
    }
   ],
   "source": [
    "print (f'input data: {pm.get_params(key=strPrefix + \"DATA-PATH\")}')"
   ]
  },
  {
   "cell_type": "code",
   "execution_count": 34,
   "id": "7b3f10d7-7a58-4249-a160-076e4bb19bdc",
   "metadata": {},
   "outputs": [
    {
     "data": {
      "text/plain": [
       "'sagemaker-us-east-1-419974056037'"
      ]
     },
     "execution_count": 34,
     "metadata": {},
     "output_type": "execute_result"
    }
   ],
   "source": [
    "pm.get_params(key=strPrefix+\"BUCKET\")"
   ]
  },
  {
   "cell_type": "code",
   "execution_count": null,
   "id": "0de820d6-6c4d-4869-9878-63500cf4695c",
   "metadata": {},
   "outputs": [],
   "source": []
  }
 ],
 "metadata": {
  "kernelspec": {
   "display_name": "conda_pytorch_p39",
   "language": "python",
   "name": "conda_pytorch_p39"
  },
  "language_info": {
   "codemirror_mode": {
    "name": "ipython",
    "version": 3
   },
   "file_extension": ".py",
   "mimetype": "text/x-python",
   "name": "python",
   "nbconvert_exporter": "python",
   "pygments_lexer": "ipython3",
   "version": "3.9.15"
  },
  "vscode": {
   "interpreter": {
    "hash": "1f4a227f2552de404565d6626d9115986c409361ad6ef0bf195ad88ccd012b73"
   }
  }
 },
 "nbformat": 4,
 "nbformat_minor": 5
}
