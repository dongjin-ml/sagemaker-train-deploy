{
 "cells": [
  {
   "cell_type": "markdown",
   "id": "93de7fc8-120d-4f33-87e2-16a2fda7ba59",
   "metadata": {
    "jupyter": {
     "outputs_hidden": true
    },
    "tags": []
   },
   "source": [
    "# <B> Training models using the framework (Torch) </B>"
   ]
  },
  {
   "cell_type": "markdown",
   "id": "fcc3cc4d-c811-4f7a-ad0b-be6e1f836987",
   "metadata": {},
   "source": [
    "## AutoReload"
   ]
  },
  {
   "cell_type": "code",
   "execution_count": 15,
   "id": "ccb8c76f-4524-4e03-a66b-2e81837b4890",
   "metadata": {},
   "outputs": [
    {
     "name": "stdout",
     "output_type": "stream",
     "text": [
      "The autoreload extension is already loaded. To reload it, use:\n",
      "  %reload_ext autoreload\n"
     ]
    }
   ],
   "source": [
    "%load_ext autoreload\n",
    "%autoreload 2"
   ]
  },
  {
   "cell_type": "code",
   "execution_count": 16,
   "id": "65eda887-e6ab-4bb3-91c5-fff00a040ce9",
   "metadata": {
    "collapsed": true,
    "jupyter": {
     "outputs_hidden": true
    },
    "tags": []
   },
   "outputs": [
    {
     "name": "stdout",
     "output_type": "stream",
     "text": [
      "Looking in indexes: https://pypi.org/simple, https://pip.repos.neuron.amazonaws.com\n",
      "Requirement already satisfied: pip in /home/ec2-user/anaconda3/envs/pytorch_p39/lib/python3.9/site-packages (23.0)\n",
      "Looking in indexes: https://pypi.org/simple, https://pip.repos.neuron.amazonaws.com\n",
      "Requirement already satisfied: sagemaker in /home/ec2-user/anaconda3/envs/pytorch_p39/lib/python3.9/site-packages (2.132.0)\n",
      "Requirement already satisfied: boto3 in /home/ec2-user/anaconda3/envs/pytorch_p39/lib/python3.9/site-packages (1.26.72)\n",
      "Requirement already satisfied: botocore in /home/ec2-user/anaconda3/envs/pytorch_p39/lib/python3.9/site-packages (1.29.72)\n",
      "Requirement already satisfied: packaging>=20.0 in /home/ec2-user/anaconda3/envs/pytorch_p39/lib/python3.9/site-packages (from sagemaker) (21.3)\n",
      "Requirement already satisfied: attrs<23,>=20.3.0 in /home/ec2-user/anaconda3/envs/pytorch_p39/lib/python3.9/site-packages (from sagemaker) (22.1.0)\n",
      "Requirement already satisfied: smdebug-rulesconfig==1.0.1 in /home/ec2-user/anaconda3/envs/pytorch_p39/lib/python3.9/site-packages (from sagemaker) (1.0.1)\n",
      "Requirement already satisfied: schema in /home/ec2-user/anaconda3/envs/pytorch_p39/lib/python3.9/site-packages (from sagemaker) (0.7.5)\n",
      "Requirement already satisfied: pandas in /home/ec2-user/anaconda3/envs/pytorch_p39/lib/python3.9/site-packages (from sagemaker) (1.4.4)\n",
      "Requirement already satisfied: numpy<2.0,>=1.9.0 in /home/ec2-user/anaconda3/envs/pytorch_p39/lib/python3.9/site-packages (from sagemaker) (1.22.4)\n",
      "Requirement already satisfied: google-pasta in /home/ec2-user/anaconda3/envs/pytorch_p39/lib/python3.9/site-packages (from sagemaker) (0.2.0)\n",
      "Requirement already satisfied: protobuf<4.0,>=3.1 in /home/ec2-user/anaconda3/envs/pytorch_p39/lib/python3.9/site-packages (from sagemaker) (3.20.2)\n",
      "Requirement already satisfied: importlib-metadata<5.0,>=1.4.0 in /home/ec2-user/anaconda3/envs/pytorch_p39/lib/python3.9/site-packages (from sagemaker) (4.13.0)\n",
      "Requirement already satisfied: protobuf3-to-dict<1.0,>=0.1.5 in /home/ec2-user/anaconda3/envs/pytorch_p39/lib/python3.9/site-packages (from sagemaker) (0.1.5)\n",
      "Requirement already satisfied: pathos in /home/ec2-user/anaconda3/envs/pytorch_p39/lib/python3.9/site-packages (from sagemaker) (0.3.0)\n",
      "Requirement already satisfied: s3transfer<0.7.0,>=0.6.0 in /home/ec2-user/anaconda3/envs/pytorch_p39/lib/python3.9/site-packages (from boto3) (0.6.0)\n",
      "Requirement already satisfied: jmespath<2.0.0,>=0.7.1 in /home/ec2-user/anaconda3/envs/pytorch_p39/lib/python3.9/site-packages (from boto3) (1.0.1)\n",
      "Requirement already satisfied: urllib3<1.27,>=1.25.4 in /home/ec2-user/anaconda3/envs/pytorch_p39/lib/python3.9/site-packages (from botocore) (1.26.8)\n",
      "Requirement already satisfied: python-dateutil<3.0.0,>=2.1 in /home/ec2-user/anaconda3/envs/pytorch_p39/lib/python3.9/site-packages (from botocore) (2.8.2)\n",
      "Requirement already satisfied: zipp>=0.5 in /home/ec2-user/anaconda3/envs/pytorch_p39/lib/python3.9/site-packages (from importlib-metadata<5.0,>=1.4.0->sagemaker) (3.10.0)\n",
      "Requirement already satisfied: pyparsing!=3.0.5,>=2.0.2 in /home/ec2-user/anaconda3/envs/pytorch_p39/lib/python3.9/site-packages (from packaging>=20.0->sagemaker) (3.0.9)\n",
      "Requirement already satisfied: six in /home/ec2-user/anaconda3/envs/pytorch_p39/lib/python3.9/site-packages (from protobuf3-to-dict<1.0,>=0.1.5->sagemaker) (1.16.0)\n",
      "Requirement already satisfied: pytz>=2020.1 in /home/ec2-user/anaconda3/envs/pytorch_p39/lib/python3.9/site-packages (from pandas->sagemaker) (2022.5)\n",
      "Requirement already satisfied: multiprocess>=0.70.14 in /home/ec2-user/anaconda3/envs/pytorch_p39/lib/python3.9/site-packages (from pathos->sagemaker) (0.70.14)\n",
      "Requirement already satisfied: pox>=0.3.2 in /home/ec2-user/anaconda3/envs/pytorch_p39/lib/python3.9/site-packages (from pathos->sagemaker) (0.3.2)\n",
      "Requirement already satisfied: dill>=0.3.6 in /home/ec2-user/anaconda3/envs/pytorch_p39/lib/python3.9/site-packages (from pathos->sagemaker) (0.3.6)\n",
      "Requirement already satisfied: ppft>=1.7.6.6 in /home/ec2-user/anaconda3/envs/pytorch_p39/lib/python3.9/site-packages (from pathos->sagemaker) (1.7.6.6)\n",
      "Requirement already satisfied: contextlib2>=0.5.5 in /home/ec2-user/anaconda3/envs/pytorch_p39/lib/python3.9/site-packages (from schema->sagemaker) (21.6.0)\n"
     ]
    }
   ],
   "source": [
    "!pip install --upgrade pip\n",
    "!pip install --upgrade sagemaker==2.118.0\n",
    "!pip install -U boto3 botocore"
   ]
  },
  {
   "cell_type": "markdown",
   "id": "282a6609-067e-4154-b034-c81538a2e5d0",
   "metadata": {},
   "source": [
    "## 1. parameter store 셋팅"
   ]
  },
  {
   "cell_type": "code",
   "execution_count": 17,
   "id": "b47f5425-2013-49ca-98ef-29cb2131b1c1",
   "metadata": {},
   "outputs": [],
   "source": [
    "import boto3\n",
    "from utils.ssm import parameter_store"
   ]
  },
  {
   "cell_type": "code",
   "execution_count": 18,
   "id": "2c1a73ae-241c-447a-b682-3a882ebdffac",
   "metadata": {},
   "outputs": [],
   "source": [
    "strRegionName=boto3.Session().region_name\n",
    "pm = parameter_store(strRegionName)\n",
    "strPrefix = pm.get_params(key=\"PREFIX\")"
   ]
  },
  {
   "cell_type": "code",
   "execution_count": 19,
   "id": "dc67d3a2-9e60-4641-9ef9-d1960c4f68ae",
   "metadata": {},
   "outputs": [
    {
     "data": {
      "text/plain": [
       "'arn:aws:iam::419974056037:role/service-role/AmazonSageMaker-ExecutionRole-20221206T163436'"
      ]
     },
     "execution_count": 19,
     "metadata": {},
     "output_type": "execute_result"
    }
   ],
   "source": [
    "pm.get_params(key=strPrefix + \"SAGEMAKER-ROLE-ARN\")"
   ]
  },
  {
   "cell_type": "markdown",
   "id": "47a0afbb-666b-44a1-8d67-d34fa500cdb1",
   "metadata": {
    "tags": []
   },
   "source": [
    "## 2. train"
   ]
  },
  {
   "cell_type": "markdown",
   "id": "214501ef-2ca4-4f8b-9e1b-5c104f655e00",
   "metadata": {},
   "source": [
    "### 2.1 with built-in PyTorch image\n",
    "* https://sagemaker-examples.readthedocs.io/en/latest/aws_sagemaker_studio/frameworks/pytorch_cnn_cifar10/pytorch_cnn_cifar10.html\n",
    "* https://sagemaker.readthedocs.io/en/stable/frameworks/pytorch/using_pytorch.html\n",
    "* train, deploy and inference: https://sagemaker.readthedocs.io/en/stable/frameworks/pytorch/sagemaker.pytorch.html"
   ]
  },
  {
   "cell_type": "code",
   "execution_count": 20,
   "id": "64393344-31dc-47b4-976e-5d3516c6ef9f",
   "metadata": {},
   "outputs": [],
   "source": [
    "import sagemaker\n",
    "from sagemaker.pytorch import PyTorch"
   ]
  },
  {
   "cell_type": "code",
   "execution_count": 21,
   "id": "42ee4df1-61c5-423d-b10e-0a5df8c9eb5c",
   "metadata": {
    "collapsed": true,
    "jupyter": {
     "outputs_hidden": true
    },
    "tags": []
   },
   "outputs": [
    {
     "name": "stderr",
     "output_type": "stream",
     "text": [
      "INFO:sagemaker.image_uris:image_uri is not presented, retrieving image_uri based on instance_type, framework etc.\n",
      "INFO:sagemaker.image_uris:image_uri is not presented, retrieving image_uri based on instance_type, framework etc.\n",
      "INFO:sagemaker:Creating training-job with name: pytorch-training-2023-02-16-01-22-09-857\n"
     ]
    },
    {
     "name": "stdout",
     "output_type": "stream",
     "text": [
      "2023-02-16 01:22:10 Starting - Starting the training job...\n",
      "2023-02-16 01:22:26 Starting - Preparing the instances for training......\n",
      "2023-02-16 01:23:37 Downloading - Downloading input data\n",
      "2023-02-16 01:23:37 Training - Downloading the training image...........................\n",
      "2023-02-16 01:27:44 Training - Training image download completed. Training in progress.\u001b[34mbash: cannot set terminal process group (-1): Inappropriate ioctl for device\u001b[0m\n",
      "\u001b[34mbash: no job control in this shell\u001b[0m\n",
      "\u001b[34m2023-02-16 01:27:55,361 sagemaker-training-toolkit INFO     Imported framework sagemaker_pytorch_container.training\u001b[0m\n",
      "\u001b[34m2023-02-16 01:27:55,380 sagemaker-training-toolkit INFO     No Neurons detected (normal if no neurons installed)\u001b[0m\n",
      "\u001b[34m2023-02-16 01:27:55,390 sagemaker_pytorch_container.training INFO     Block until all host DNS lookups succeed.\u001b[0m\n",
      "\u001b[34m2023-02-16 01:27:55,394 sagemaker_pytorch_container.training INFO     Invoking user training script.\u001b[0m\n",
      "\u001b[34m2023-02-16 01:27:55,612 sagemaker-training-toolkit INFO     Installing dependencies from requirements.txt:\u001b[0m\n",
      "\u001b[34m/opt/conda/bin/python3.8 -m pip install -r requirements.txt\u001b[0m\n",
      "\u001b[34mRequirement already satisfied: sagemaker in /opt/conda/lib/python3.8/site-packages (from -r requirements.txt (line 1)) (2.132.0)\u001b[0m\n",
      "\u001b[34mRequirement already satisfied: boto3 in /opt/conda/lib/python3.8/site-packages (from -r requirements.txt (line 2)) (1.26.70)\u001b[0m\n",
      "\u001b[34mRequirement already satisfied: botocore in /opt/conda/lib/python3.8/site-packages (from -r requirements.txt (line 3)) (1.29.70)\u001b[0m\n",
      "\u001b[34mRequirement already satisfied: pandas in /opt/conda/lib/python3.8/site-packages (from -r requirements.txt (line 4)) (1.5.3)\u001b[0m\n",
      "\u001b[34mCollecting nvgpu\u001b[0m\n",
      "\u001b[34mDownloading nvgpu-0.9.0-py2.py3-none-any.whl (9.4 kB)\u001b[0m\n",
      "\u001b[34mRequirement already satisfied: google-pasta in /opt/conda/lib/python3.8/site-packages (from sagemaker->-r requirements.txt (line 1)) (0.2.0)\u001b[0m\n",
      "\u001b[34mRequirement already satisfied: attrs<23,>=20.3.0 in /opt/conda/lib/python3.8/site-packages (from sagemaker->-r requirements.txt (line 1)) (22.2.0)\u001b[0m\n",
      "\u001b[34mRequirement already satisfied: packaging>=20.0 in /opt/conda/lib/python3.8/site-packages (from sagemaker->-r requirements.txt (line 1)) (23.0)\u001b[0m\n",
      "\u001b[34mRequirement already satisfied: numpy<2.0,>=1.9.0 in /opt/conda/lib/python3.8/site-packages (from sagemaker->-r requirements.txt (line 1)) (1.23.5)\u001b[0m\n",
      "\u001b[34mRequirement already satisfied: pathos in /opt/conda/lib/python3.8/site-packages (from sagemaker->-r requirements.txt (line 1)) (0.3.0)\u001b[0m\n",
      "\u001b[34mRequirement already satisfied: protobuf<4.0,>=3.1 in /opt/conda/lib/python3.8/site-packages (from sagemaker->-r requirements.txt (line 1)) (3.20.2)\u001b[0m\n",
      "\u001b[34mRequirement already satisfied: schema in /opt/conda/lib/python3.8/site-packages (from sagemaker->-r requirements.txt (line 1)) (0.7.5)\u001b[0m\n",
      "\u001b[34mRequirement already satisfied: smdebug-rulesconfig==1.0.1 in /opt/conda/lib/python3.8/site-packages (from sagemaker->-r requirements.txt (line 1)) (1.0.1)\u001b[0m\n",
      "\u001b[34mRequirement already satisfied: importlib-metadata<5.0,>=1.4.0 in /opt/conda/lib/python3.8/site-packages (from sagemaker->-r requirements.txt (line 1)) (4.13.0)\u001b[0m\n",
      "\u001b[34mRequirement already satisfied: protobuf3-to-dict<1.0,>=0.1.5 in /opt/conda/lib/python3.8/site-packages (from sagemaker->-r requirements.txt (line 1)) (0.1.5)\u001b[0m\n",
      "\u001b[34mRequirement already satisfied: jmespath<2.0.0,>=0.7.1 in /opt/conda/lib/python3.8/site-packages (from boto3->-r requirements.txt (line 2)) (1.0.1)\u001b[0m\n",
      "\u001b[34mRequirement already satisfied: s3transfer<0.7.0,>=0.6.0 in /opt/conda/lib/python3.8/site-packages (from boto3->-r requirements.txt (line 2)) (0.6.0)\u001b[0m\n",
      "\u001b[34mRequirement already satisfied: urllib3<1.27,>=1.25.4 in /opt/conda/lib/python3.8/site-packages (from botocore->-r requirements.txt (line 3)) (1.26.14)\u001b[0m\n",
      "\u001b[34mRequirement already satisfied: python-dateutil<3.0.0,>=2.1 in /opt/conda/lib/python3.8/site-packages (from botocore->-r requirements.txt (line 3)) (2.8.2)\u001b[0m\n",
      "\u001b[34mRequirement already satisfied: pytz>=2020.1 in /opt/conda/lib/python3.8/site-packages (from pandas->-r requirements.txt (line 4)) (2022.7.1)\u001b[0m\n",
      "\u001b[34mCollecting termcolor\u001b[0m\n",
      "\u001b[34mDownloading termcolor-2.2.0-py3-none-any.whl (6.6 kB)\u001b[0m\n",
      "\u001b[34mRequirement already satisfied: tabulate in /opt/conda/lib/python3.8/site-packages (from nvgpu->-r requirements.txt (line 5)) (0.9.0)\u001b[0m\n",
      "\u001b[34mCollecting flask-restful\u001b[0m\n",
      "\u001b[34mDownloading Flask_RESTful-0.3.9-py2.py3-none-any.whl (25 kB)\u001b[0m\n",
      "\u001b[34mCollecting arrow\u001b[0m\n",
      "\u001b[34mDownloading arrow-1.2.3-py3-none-any.whl (66 kB)\u001b[0m\n",
      "\u001b[34m━━━━━━━━━━━━━━━━━━━━━━━━━━━━━━━━━━━━━━━━ 66.4/66.4 kB 11.0 MB/s eta 0:00:00\u001b[0m\n",
      "\u001b[34mCollecting flask\u001b[0m\n",
      "\u001b[34mDownloading Flask-2.2.3-py3-none-any.whl (101 kB)\u001b[0m\n",
      "\u001b[34m━━━━━━━━━━━━━━━━━━━━━━━━━━━━━━━━━━━━━━ 101.8/101.8 kB 32.4 MB/s eta 0:00:00\u001b[0m\n",
      "\u001b[34mRequirement already satisfied: six in /opt/conda/lib/python3.8/site-packages (from nvgpu->-r requirements.txt (line 5)) (1.16.0)\u001b[0m\n",
      "\u001b[34mCollecting ansi2html\u001b[0m\n",
      "\u001b[34mDownloading ansi2html-1.8.0-py3-none-any.whl (16 kB)\u001b[0m\n",
      "\u001b[34mCollecting pynvml\u001b[0m\n",
      "\u001b[34mDownloading pynvml-11.5.0-py3-none-any.whl (53 kB)\u001b[0m\n",
      "\u001b[34m━━━━━━━━━━━━━━━━━━━━━━━━━━━━━━━━━━━━━━━━ 53.1/53.1 kB 12.6 MB/s eta 0:00:00\u001b[0m\n",
      "\u001b[34mRequirement already satisfied: requests in /opt/conda/lib/python3.8/site-packages (from nvgpu->-r requirements.txt (line 5)) (2.28.2)\u001b[0m\n",
      "\u001b[34mRequirement already satisfied: psutil in /opt/conda/lib/python3.8/site-packages (from nvgpu->-r requirements.txt (line 5)) (5.9.4)\u001b[0m\n",
      "\u001b[34mRequirement already satisfied: zipp>=0.5 in /opt/conda/lib/python3.8/site-packages (from importlib-metadata<5.0,>=1.4.0->sagemaker->-r requirements.txt (line 1)) (3.13.0)\u001b[0m\n",
      "\u001b[34mRequirement already satisfied: Jinja2>=3.0 in /opt/conda/lib/python3.8/site-packages (from flask->nvgpu->-r requirements.txt (line 5)) (3.1.2)\u001b[0m\n",
      "\u001b[34mRequirement already satisfied: Werkzeug>=2.2.2 in /opt/conda/lib/python3.8/site-packages (from flask->nvgpu->-r requirements.txt (line 5)) (2.2.3)\u001b[0m\n",
      "\u001b[34mRequirement already satisfied: click>=8.0 in /opt/conda/lib/python3.8/site-packages (from flask->nvgpu->-r requirements.txt (line 5)) (8.1.3)\u001b[0m\n",
      "\u001b[34mCollecting itsdangerous>=2.0\u001b[0m\n",
      "\u001b[34mDownloading itsdangerous-2.1.2-py3-none-any.whl (15 kB)\u001b[0m\n",
      "\u001b[34mCollecting aniso8601>=0.82\u001b[0m\n",
      "\u001b[34mDownloading aniso8601-9.0.1-py2.py3-none-any.whl (52 kB)\u001b[0m\n",
      "\u001b[34m━━━━━━━━━━━━━━━━━━━━━━━━━━━━━━━━━━━━━━━━ 52.8/52.8 kB 15.4 MB/s eta 0:00:00\u001b[0m\n",
      "\u001b[34mRequirement already satisfied: ppft>=1.7.6.6 in /opt/conda/lib/python3.8/site-packages (from pathos->sagemaker->-r requirements.txt (line 1)) (1.7.6.6)\u001b[0m\n",
      "\u001b[34mRequirement already satisfied: pox>=0.3.2 in /opt/conda/lib/python3.8/site-packages (from pathos->sagemaker->-r requirements.txt (line 1)) (0.3.2)\u001b[0m\n",
      "\u001b[34mRequirement already satisfied: multiprocess>=0.70.14 in /opt/conda/lib/python3.8/site-packages (from pathos->sagemaker->-r requirements.txt (line 1)) (0.70.14)\u001b[0m\n",
      "\u001b[34mRequirement already satisfied: dill>=0.3.6 in /opt/conda/lib/python3.8/site-packages (from pathos->sagemaker->-r requirements.txt (line 1)) (0.3.6)\u001b[0m\n",
      "\u001b[34mRequirement already satisfied: charset-normalizer<4,>=2 in /opt/conda/lib/python3.8/site-packages (from requests->nvgpu->-r requirements.txt (line 5)) (2.1.1)\u001b[0m\n",
      "\u001b[34mRequirement already satisfied: idna<4,>=2.5 in /opt/conda/lib/python3.8/site-packages (from requests->nvgpu->-r requirements.txt (line 5)) (3.4)\u001b[0m\n",
      "\u001b[34mRequirement already satisfied: certifi>=2017.4.17 in /opt/conda/lib/python3.8/site-packages (from requests->nvgpu->-r requirements.txt (line 5)) (2022.12.7)\u001b[0m\n",
      "\u001b[34mRequirement already satisfied: contextlib2>=0.5.5 in /opt/conda/lib/python3.8/site-packages (from schema->sagemaker->-r requirements.txt (line 1)) (21.6.0)\u001b[0m\n",
      "\u001b[34mRequirement already satisfied: MarkupSafe>=2.0 in /opt/conda/lib/python3.8/site-packages (from Jinja2>=3.0->flask->nvgpu->-r requirements.txt (line 5)) (2.1.2)\u001b[0m\n",
      "\u001b[34mInstalling collected packages: aniso8601, termcolor, pynvml, itsdangerous, ansi2html, flask, arrow, flask-restful, nvgpu\u001b[0m\n",
      "\u001b[34mSuccessfully installed aniso8601-9.0.1 ansi2html-1.8.0 arrow-1.2.3 flask-2.2.3 flask-restful-0.3.9 itsdangerous-2.1.2 nvgpu-0.9.0 pynvml-11.5.0 termcolor-2.2.0\u001b[0m\n",
      "\u001b[34mWARNING: Running pip as the 'root' user can result in broken permissions and conflicting behaviour with the system package manager. It is recommended to use a virtual environment instead: https://pip.pypa.io/warnings/venv\u001b[0m\n",
      "\u001b[34m2023-02-16 01:27:57,760 sagemaker-training-toolkit INFO     Waiting for the process to finish and give a return code.\u001b[0m\n",
      "\u001b[34m2023-02-16 01:27:57,760 sagemaker-training-toolkit INFO     Done waiting for a return code. Received 0 from exiting process.\u001b[0m\n",
      "\u001b[34m2023-02-16 01:27:57,780 sagemaker-training-toolkit INFO     No Neurons detected (normal if no neurons installed)\u001b[0m\n",
      "\u001b[34m2023-02-16 01:27:57,810 sagemaker-training-toolkit INFO     No Neurons detected (normal if no neurons installed)\u001b[0m\n",
      "\u001b[34m2023-02-16 01:27:57,840 sagemaker-training-toolkit INFO     No Neurons detected (normal if no neurons installed)\u001b[0m\n",
      "\u001b[34m2023-02-16 01:27:57,852 sagemaker-training-toolkit INFO     Invoking user script\u001b[0m\n",
      "\u001b[34mTraining Env:\u001b[0m\n",
      "\u001b[34m{\n",
      "    \"additional_framework_parameters\": {},\n",
      "    \"channel_input_dirs\": {\n",
      "        \"TR\": \"/opt/ml/input/data/TR\"\n",
      "    },\n",
      "    \"current_host\": \"algo-1\",\n",
      "    \"current_instance_group\": \"homogeneousCluster\",\n",
      "    \"current_instance_group_hosts\": [\n",
      "        \"algo-1\"\n",
      "    ],\n",
      "    \"current_instance_type\": \"ml.g4dn.xlarge\",\n",
      "    \"distribution_hosts\": [],\n",
      "    \"distribution_instance_groups\": [],\n",
      "    \"framework_module\": \"sagemaker_pytorch_container.training:main\",\n",
      "    \"hosts\": [\n",
      "        \"algo-1\"\n",
      "    ],\n",
      "    \"hyperparameters\": {},\n",
      "    \"input_config_dir\": \"/opt/ml/input/config\",\n",
      "    \"input_data_config\": {\n",
      "        \"TR\": {\n",
      "            \"TrainingInputMode\": \"File\",\n",
      "            \"S3DistributionType\": \"FullyReplicated\",\n",
      "            \"RecordWrapperType\": \"None\"\n",
      "        }\n",
      "    },\n",
      "    \"input_dir\": \"/opt/ml/input\",\n",
      "    \"instance_groups\": [\n",
      "        \"homogeneousCluster\"\n",
      "    ],\n",
      "    \"instance_groups_dict\": {\n",
      "        \"homogeneousCluster\": {\n",
      "            \"instance_group_name\": \"homogeneousCluster\",\n",
      "            \"instance_type\": \"ml.g4dn.xlarge\",\n",
      "            \"hosts\": [\n",
      "                \"algo-1\"\n",
      "            ]\n",
      "        }\n",
      "    },\n",
      "    \"is_hetero\": false,\n",
      "    \"is_master\": true,\n",
      "    \"is_modelparallel_enabled\": null,\n",
      "    \"is_smddpmprun_installed\": true,\n",
      "    \"job_name\": \"pytorch-training-2023-02-16-01-22-09-857\",\n",
      "    \"log_level\": 20,\n",
      "    \"master_hostname\": \"algo-1\",\n",
      "    \"model_dir\": \"/opt/ml/model\",\n",
      "    \"module_dir\": \"s3://sagemaker-ap-northeast-2-419974056037/pytorch-training-2023-02-16-01-22-09-857/source/sourcedir.tar.gz\",\n",
      "    \"module_name\": \"cifar10\",\n",
      "    \"network_interface_name\": \"eth0\",\n",
      "    \"num_cpus\": 4,\n",
      "    \"num_gpus\": 1,\n",
      "    \"num_neurons\": 0,\n",
      "    \"output_data_dir\": \"/opt/ml/output/data\",\n",
      "    \"output_dir\": \"/opt/ml/output\",\n",
      "    \"output_intermediate_dir\": \"/opt/ml/output/intermediate\",\n",
      "    \"resource_config\": {\n",
      "        \"current_host\": \"algo-1\",\n",
      "        \"current_instance_type\": \"ml.g4dn.xlarge\",\n",
      "        \"current_group_name\": \"homogeneousCluster\",\n",
      "        \"hosts\": [\n",
      "            \"algo-1\"\n",
      "        ],\n",
      "        \"instance_groups\": [\n",
      "            {\n",
      "                \"instance_group_name\": \"homogeneousCluster\",\n",
      "                \"instance_type\": \"ml.g4dn.xlarge\",\n",
      "                \"hosts\": [\n",
      "                    \"algo-1\"\n",
      "                ]\n",
      "            }\n",
      "        ],\n",
      "        \"network_interface_name\": \"eth0\"\n",
      "    },\n",
      "    \"user_entry_point\": \"cifar10.py\"\u001b[0m\n",
      "\u001b[34m}\u001b[0m\n",
      "\u001b[34mEnvironment variables:\u001b[0m\n",
      "\u001b[34mSM_HOSTS=[\"algo-1\"]\u001b[0m\n",
      "\u001b[34mSM_NETWORK_INTERFACE_NAME=eth0\u001b[0m\n",
      "\u001b[34mSM_HPS={}\u001b[0m\n",
      "\u001b[34mSM_USER_ENTRY_POINT=cifar10.py\u001b[0m\n",
      "\u001b[34mSM_FRAMEWORK_PARAMS={}\u001b[0m\n",
      "\u001b[34mSM_RESOURCE_CONFIG={\"current_group_name\":\"homogeneousCluster\",\"current_host\":\"algo-1\",\"current_instance_type\":\"ml.g4dn.xlarge\",\"hosts\":[\"algo-1\"],\"instance_groups\":[{\"hosts\":[\"algo-1\"],\"instance_group_name\":\"homogeneousCluster\",\"instance_type\":\"ml.g4dn.xlarge\"}],\"network_interface_name\":\"eth0\"}\u001b[0m\n",
      "\u001b[34mSM_INPUT_DATA_CONFIG={\"TR\":{\"RecordWrapperType\":\"None\",\"S3DistributionType\":\"FullyReplicated\",\"TrainingInputMode\":\"File\"}}\u001b[0m\n",
      "\u001b[34mSM_OUTPUT_DATA_DIR=/opt/ml/output/data\u001b[0m\n",
      "\u001b[34mSM_CHANNELS=[\"TR\"]\u001b[0m\n",
      "\u001b[34mSM_CURRENT_HOST=algo-1\u001b[0m\n",
      "\u001b[34mSM_CURRENT_INSTANCE_TYPE=ml.g4dn.xlarge\u001b[0m\n",
      "\u001b[34mSM_CURRENT_INSTANCE_GROUP=homogeneousCluster\u001b[0m\n",
      "\u001b[34mSM_CURRENT_INSTANCE_GROUP_HOSTS=[\"algo-1\"]\u001b[0m\n",
      "\u001b[34mSM_INSTANCE_GROUPS=[\"homogeneousCluster\"]\u001b[0m\n",
      "\u001b[34mSM_INSTANCE_GROUPS_DICT={\"homogeneousCluster\":{\"hosts\":[\"algo-1\"],\"instance_group_name\":\"homogeneousCluster\",\"instance_type\":\"ml.g4dn.xlarge\"}}\u001b[0m\n",
      "\u001b[34mSM_DISTRIBUTION_INSTANCE_GROUPS=[]\u001b[0m\n",
      "\u001b[34mSM_IS_HETERO=false\u001b[0m\n",
      "\u001b[34mSM_MODULE_NAME=cifar10\u001b[0m\n",
      "\u001b[34mSM_LOG_LEVEL=20\u001b[0m\n",
      "\u001b[34mSM_FRAMEWORK_MODULE=sagemaker_pytorch_container.training:main\u001b[0m\n",
      "\u001b[34mSM_INPUT_DIR=/opt/ml/input\u001b[0m\n",
      "\u001b[34mSM_INPUT_CONFIG_DIR=/opt/ml/input/config\u001b[0m\n",
      "\u001b[34mSM_OUTPUT_DIR=/opt/ml/output\u001b[0m\n",
      "\u001b[34mSM_NUM_CPUS=4\u001b[0m\n",
      "\u001b[34mSM_NUM_GPUS=1\u001b[0m\n",
      "\u001b[34mSM_NUM_NEURONS=0\u001b[0m\n",
      "\u001b[34mSM_MODEL_DIR=/opt/ml/model\u001b[0m\n",
      "\u001b[34mSM_MODULE_DIR=s3://sagemaker-ap-northeast-2-419974056037/pytorch-training-2023-02-16-01-22-09-857/source/sourcedir.tar.gz\u001b[0m\n",
      "\u001b[34mSM_TRAINING_ENV={\"additional_framework_parameters\":{},\"channel_input_dirs\":{\"TR\":\"/opt/ml/input/data/TR\"},\"current_host\":\"algo-1\",\"current_instance_group\":\"homogeneousCluster\",\"current_instance_group_hosts\":[\"algo-1\"],\"current_instance_type\":\"ml.g4dn.xlarge\",\"distribution_hosts\":[],\"distribution_instance_groups\":[],\"framework_module\":\"sagemaker_pytorch_container.training:main\",\"hosts\":[\"algo-1\"],\"hyperparameters\":{},\"input_config_dir\":\"/opt/ml/input/config\",\"input_data_config\":{\"TR\":{\"RecordWrapperType\":\"None\",\"S3DistributionType\":\"FullyReplicated\",\"TrainingInputMode\":\"File\"}},\"input_dir\":\"/opt/ml/input\",\"instance_groups\":[\"homogeneousCluster\"],\"instance_groups_dict\":{\"homogeneousCluster\":{\"hosts\":[\"algo-1\"],\"instance_group_name\":\"homogeneousCluster\",\"instance_type\":\"ml.g4dn.xlarge\"}},\"is_hetero\":false,\"is_master\":true,\"is_modelparallel_enabled\":null,\"is_smddpmprun_installed\":true,\"job_name\":\"pytorch-training-2023-02-16-01-22-09-857\",\"log_level\":20,\"master_hostname\":\"algo-1\",\"model_dir\":\"/opt/ml/model\",\"module_dir\":\"s3://sagemaker-ap-northeast-2-419974056037/pytorch-training-2023-02-16-01-22-09-857/source/sourcedir.tar.gz\",\"module_name\":\"cifar10\",\"network_interface_name\":\"eth0\",\"num_cpus\":4,\"num_gpus\":1,\"num_neurons\":0,\"output_data_dir\":\"/opt/ml/output/data\",\"output_dir\":\"/opt/ml/output\",\"output_intermediate_dir\":\"/opt/ml/output/intermediate\",\"resource_config\":{\"current_group_name\":\"homogeneousCluster\",\"current_host\":\"algo-1\",\"current_instance_type\":\"ml.g4dn.xlarge\",\"hosts\":[\"algo-1\"],\"instance_groups\":[{\"hosts\":[\"algo-1\"],\"instance_group_name\":\"homogeneousCluster\",\"instance_type\":\"ml.g4dn.xlarge\"}],\"network_interface_name\":\"eth0\"},\"user_entry_point\":\"cifar10.py\"}\u001b[0m\n",
      "\u001b[34mSM_USER_ARGS=[]\u001b[0m\n",
      "\u001b[34mSM_OUTPUT_INTERMEDIATE_DIR=/opt/ml/output/intermediate\u001b[0m\n",
      "\u001b[34mSM_CHANNEL_TR=/opt/ml/input/data/TR\u001b[0m\n",
      "\u001b[34mPYTHONPATH=/opt/ml/code:/opt/conda/bin:/opt/conda/lib/python38.zip:/opt/conda/lib/python3.8:/opt/conda/lib/python3.8/lib-dynload:/opt/conda/lib/python3.8/site-packages:/opt/conda/lib/python3.8/site-packages/smdebug-1.0.24b20230214-py3.8.egg:/opt/conda/lib/python3.8/site-packages/pyinstrument-3.4.2-py3.8.egg:/opt/conda/lib/python3.8/site-packages/pyinstrument_cext-0.2.4-py3.8-linux-x86_64.egg:/opt/conda/lib/python3.8/site-packages/flash_attn-0.1-py3.8-linux-x86_64.egg:/opt/conda/lib/python3.8/site-packages/einops-0.6.0-py3.8.egg\u001b[0m\n",
      "\u001b[34mInvoking script with the following command:\u001b[0m\n",
      "\u001b[34m/opt/conda/bin/python3.8 cifar10.py\u001b[0m\n",
      "\u001b[34m2023-02-16 01:28:00,335 sagemaker-training-toolkit INFO     Exceptions not imported for SageMaker TF as Tensorflow is not installed.\u001b[0m\n",
      "\u001b[34m[2023-02-16 01:28:05.874 algo-1:57 INFO utils.py:28] RULE_JOB_STOP_SIGNAL_FILENAME: None\u001b[0m\n",
      "\u001b[34m/opt/conda/lib/python3.8/site-packages/smdebug-1.0.24b20230214-py3.8.egg/smdebug/profiler/system_metrics_reader.py:78: SyntaxWarning: \"is not\" with a literal. Did you mean \"!=\"?\u001b[0m\n",
      "\u001b[34m/opt/conda/lib/python3.8/site-packages/smdebug-1.0.24b20230214-py3.8.egg/smdebug/profiler/system_metrics_reader.py:78: SyntaxWarning: \"is not\" with a literal. Did you mean \"!=\"?\u001b[0m\n",
      "\u001b[34m[2023-02-16 01:28:06.265 algo-1:57 INFO profiler_config_parser.py:111] User has disabled profiler.\u001b[0m\n",
      "\u001b[34m[2023-02-16 01:28:06.266 algo-1:57 INFO json_config.py:92] Creating hook from json_config at /opt/ml/input/config/debughookconfig.json.\u001b[0m\n",
      "\u001b[34m[2023-02-16 01:28:06.267 algo-1:57 INFO hook.py:206] tensorboard_dir has not been set for the hook. SMDebug will not be exporting tensorboard summaries.\u001b[0m\n",
      "\u001b[34m[2023-02-16 01:28:06.267 algo-1:57 INFO hook.py:259] Saving to /opt/ml/output/tensors\u001b[0m\n",
      "\u001b[34m[2023-02-16 01:28:06.267 algo-1:57 INFO state_store.py:77] The checkpoint config file /opt/ml/input/config/checkpointconfig.json does not exist.\u001b[0m\n",
      "\u001b[34m[1,  2000] loss: 2.214\u001b[0m\n",
      "\u001b[34m[1,  4000] loss: 1.882\u001b[0m\n",
      "\u001b[34m[1,  6000] loss: 1.700\u001b[0m\n",
      "\u001b[34m[1,  8000] loss: 1.590\u001b[0m\n",
      "\u001b[34m[1, 10000] loss: 1.511\u001b[0m\n",
      "\u001b[34m[1, 12000] loss: 1.489\u001b[0m\n",
      "\u001b[34m[2,  2000] loss: 1.392\u001b[0m\n",
      "\u001b[34m[2,  4000] loss: 1.367\u001b[0m\n",
      "\u001b[34m[2,  6000] loss: 1.358\u001b[0m\n",
      "\u001b[34m[2,  8000] loss: 1.337\u001b[0m\n",
      "\u001b[34m[2, 10000] loss: 1.302\u001b[0m\n",
      "\u001b[34m[2, 12000] loss: 1.277\u001b[0m\n",
      "\u001b[34mFinished Training\u001b[0m\n",
      "\u001b[34mINFO:__main__:Saving the model.\u001b[0m\n",
      "\u001b[34m2023-02-16 01:29:24,506 sagemaker-training-toolkit INFO     Waiting for the process to finish and give a return code.\u001b[0m\n",
      "\u001b[34m2023-02-16 01:29:24,506 sagemaker-training-toolkit INFO     Done waiting for a return code. Received 0 from exiting process.\u001b[0m\n",
      "\u001b[34m2023-02-16 01:29:24,507 sagemaker-training-toolkit INFO     Reporting training SUCCESS\u001b[0m\n",
      "\n",
      "2023-02-16 01:29:30 Uploading - Uploading generated training model\n",
      "2023-02-16 01:29:45 Completed - Training job completed\n",
      "Training seconds: 388\n",
      "Billable seconds: 388\n"
     ]
    }
   ],
   "source": [
    "estimator = PyTorch(\n",
    "    source_dir=\"./source/train\",\n",
    "    entry_point=\"cifar10.py\",\n",
    "    role=pm.get_params(key=strPrefix + \"SAGEMAKER-ROLE-ARN\"),\n",
    "    framework_version=\"1.12.1\",\n",
    "    py_version=\"py38\",\n",
    "    instance_count=1,\n",
    "    instance_type=\"ml.g4dn.xlarge\",\n",
    "    #instance_type=\"local_gpu\",\n",
    "    #session = sagemaker.LocalSession(), # 로컬 세션을 사용합니다.\n",
    "    output_path=f\"s3://{pm.get_params(key=strPrefix + 'BUCKET')}/{'byom-model-output'}\",\n",
    ")\n",
    "\n",
    "strDataChannel = \"TR\"\n",
    "estimator.fit(\n",
    "    inputs={strDataChannel: pm.get_params(key=strPrefix + \"DATA-PATH\")},\n",
    "    wait=True,\n",
    ")"
   ]
  },
  {
   "cell_type": "markdown",
   "id": "0ebf8832-80f7-49cc-9aca-4d3dc6eff96f",
   "metadata": {},
   "source": [
    "### 아래 코드는 학습이 완료된 후 에러없이 동작합니다. "
   ]
  },
  {
   "cell_type": "code",
   "execution_count": 22,
   "id": "07e290e9-c6a5-462e-854b-dd9a7672ae77",
   "metadata": {},
   "outputs": [
    {
     "name": "stderr",
     "output_type": "stream",
     "text": [
      "INFO:sagemaker.image_uris:image_uri is not presented, retrieving image_uri based on instance_type, framework etc.\n",
      "INFO:sagemaker.image_uris:image_uri is not presented, retrieving image_uri based on instance_type, framework etc.\n"
     ]
    },
    {
     "name": "stdout",
     "output_type": "stream",
     "text": [
      "Model artifact: s3://sagemaker-ap-northeast-2-419974056037/byom-model-output/pytorch-training-2023-02-16-01-22-09-857/output/model.tar.gz\n",
      "Train image uri: 763104351884.dkr.ecr.ap-northeast-2.amazonaws.com/pytorch-training:1.12.1-gpu-py38\n"
     ]
    }
   ],
   "source": [
    "pm.put_params(key=strPrefix + \"S3-MODEL-ARTIFACT\", value=estimator.model_data, overwrite=True)\n",
    "pm.put_params(key=strPrefix + \"TRAIN-IMAGE-URI\", value=estimator.training_image_uri(), overwrite=True)\n",
    "print (f\"Model artifact: {estimator.model_data}\")\n",
    "print (f\"Train image uri: {estimator.training_image_uri()}\")"
   ]
  },
  {
   "cell_type": "markdown",
   "id": "a505d75e-b59c-47e4-88d7-8a222419580c",
   "metadata": {},
   "source": [
    "### 2.1 with custom image"
   ]
  },
  {
   "cell_type": "markdown",
   "id": "6b8cb149-a4ee-4567-b1a4-dc8db096b804",
   "metadata": {},
   "source": [
    "#### 2.2.1. Build a docker and Register the image to ECR "
   ]
  },
  {
   "cell_type": "code",
   "execution_count": 84,
   "id": "65c40a2c-b2bf-4ca5-aeab-2a618e1af448",
   "metadata": {},
   "outputs": [],
   "source": [
    "import boto3\n",
    "from utils.ecr import ecr_handler"
   ]
  },
  {
   "cell_type": "code",
   "execution_count": 85,
   "id": "775eb7ed-c375-4bb2-964e-993cf86740f3",
   "metadata": {},
   "outputs": [],
   "source": [
    "ecr = ecr_handler()"
   ]
  },
  {
   "cell_type": "code",
   "execution_count": 86,
   "id": "719b288c-f1e6-4480-84d3-e20a352ee066",
   "metadata": {},
   "outputs": [
    {
     "name": "stdout",
     "output_type": "stream",
     "text": [
      "\u001b[34mFROM\u001b[39;49;00m\u001b[37m \u001b[39;49;00m\u001b[33mpytorch/pytorch:1.4-cuda10.1-cudnn7-devel\u001b[39;49;00m\n",
      "\n",
      "\u001b[34mRUN\u001b[39;49;00m\u001b[37m \u001b[39;49;00mpython3 -m pip install --upgrade pip\n",
      "\u001b[34mRUN\u001b[39;49;00m\u001b[37m \u001b[39;49;00mpip3 install pyOpenSSL --upgrade\n",
      "\u001b[34mRUN\u001b[39;49;00m\u001b[37m \u001b[39;49;00mpip3 install sagemaker-training\n",
      "\n",
      "\u001b[37m# Copies the training code inside the container\u001b[39;49;00m\n",
      "\u001b[34mCOPY\u001b[39;49;00m\u001b[37m \u001b[39;49;00m./code /opt/ml/code\n",
      "\u001b[34mWORKDIR\u001b[39;49;00m\u001b[37m \u001b[39;49;00m\u001b[33m/opt/ml/code\u001b[39;49;00m\n",
      "\n",
      "\u001b[37m# Defines train.py as script entrypoint\u001b[39;49;00m\n",
      "\u001b[34mENV\u001b[39;49;00m\u001b[37m \u001b[39;49;00mSAGEMAKER_PROGRAM cifar10.py\n",
      "\u001b[34mENV\u001b[39;49;00m\u001b[37m \u001b[39;49;00mPYTHONUNBUFFERED TRUE\n"
     ]
    }
   ],
   "source": [
    "! pygmentize docker/Dockerfile"
   ]
  },
  {
   "cell_type": "code",
   "execution_count": 87,
   "id": "35872858-ac49-4aac-b7e8-169a8d245797",
   "metadata": {},
   "outputs": [],
   "source": [
    "strRepositoryName = strPrefix + \"pytorch-container\"\n",
    "strRepositoryName = strRepositoryName.lower()\n",
    "strDockerDir = \"./docker/\"\n",
    "strTag = \":latest\"\n",
    "strRegionName=pm.get_params(key=strPrefix + \"REGION\")\n",
    "strAccountId=pm.get_params(key=strPrefix + \"ACCOUNT-ID\")  "
   ]
  },
  {
   "cell_type": "code",
   "execution_count": 88,
   "id": "ed367ff0-0a64-4b25-bf55-ec633fe7b241",
   "metadata": {
    "tags": []
   },
   "outputs": [
    {
     "name": "stdout",
     "output_type": "stream",
     "text": [
      "/home/ec2-user/SageMaker/bring-your-own-model\n",
      "/home/ec2-user/SageMaker/bring-your-own-model/docker\n",
      "Sending build context to Docker daemon  22.02kB\n",
      "\n",
      "Step 1/8 : FROM pytorch/pytorch:1.4-cuda10.1-cudnn7-devel\n",
      " ---> 76c152fbfd03\n",
      "Step 2/8 : RUN python3 -m pip install --upgrade pip\n",
      " ---> Using cache\n",
      " ---> 3e6cda4f983f\n",
      "Step 3/8 : RUN pip3 install pyOpenSSL --upgrade\n",
      " ---> Using cache\n",
      " ---> 9a19fc10d7b0\n",
      "Step 4/8 : RUN pip3 install sagemaker-training\n",
      " ---> Using cache\n",
      " ---> 0b5306eea8bd\n",
      "Step 5/8 : COPY ./code /opt/ml/code\n",
      " ---> Using cache\n",
      " ---> 33518b6490fd\n",
      "Step 6/8 : WORKDIR /opt/ml/code\n",
      " ---> Using cache\n",
      " ---> 470f0a5751a1\n",
      "Step 7/8 : ENV SAGEMAKER_PROGRAM cifar10.py\n",
      " ---> Using cache\n",
      " ---> c9f840cf58f4\n",
      "Step 8/8 : ENV PYTHONUNBUFFERED TRUE\n",
      " ---> Using cache\n",
      " ---> 7752acff6c9d\n",
      "Successfully built 7752acff6c9d\n",
      "Successfully tagged sm-byom-pytorch-container:latest\n",
      "\n",
      "/home/ec2-user/SageMaker/bring-your-own-model\n"
     ]
    }
   ],
   "source": [
    "ecr.build_docker(strDockerDir, strRepositoryName)"
   ]
  },
  {
   "cell_type": "code",
   "execution_count": 89,
   "id": "04b31962-527d-4ff5-9a19-6d9ababa179b",
   "metadata": {},
   "outputs": [
    {
     "name": "stdout",
     "output_type": "stream",
     "text": [
      "== REGISTER AN IMAGE TO ECR ==\n",
      "  processing_repository_uri: 419974056037.dkr.ecr.ap-northeast-2.amazonaws.com/sm-byom-pytorch-container:latest\n",
      "aws ecr get-login --region 'ap-northeast-2' --registry-ids '419974056037' --no-include-email\n"
     ]
    },
    {
     "name": "stderr",
     "output_type": "stream",
     "text": [
      "WARNING! Using --password via the CLI is insecure. Use --password-stdin.\n",
      "WARNING! Your password will be stored unencrypted in /home/ec2-user/.docker/config.json.\n",
      "Configure a credential helper to remove this warning. See\n",
      "https://docs.docker.com/engine/reference/commandline/login/#credentials-store\n",
      "\n"
     ]
    },
    {
     "name": "stdout",
     "output_type": "stream",
     "text": [
      "Login Succeeded\n",
      "\n",
      "aws ecr create-repository --repository-name 'sm-byom-pytorch-container'\n"
     ]
    },
    {
     "name": "stderr",
     "output_type": "stream",
     "text": [
      "\n",
      "An error occurred (RepositoryAlreadyExistsException) when calling the CreateRepository operation: The repository with name 'sm-byom-pytorch-container' already exists in the registry with id '419974056037'\n"
     ]
    },
    {
     "name": "stdout",
     "output_type": "stream",
     "text": [
      "docker tag 'sm-byom-pytorch-container:latest' '419974056037.dkr.ecr.ap-northeast-2.amazonaws.com/sm-byom-pytorch-container:latest'\n",
      "docker push '419974056037.dkr.ecr.ap-northeast-2.amazonaws.com/sm-byom-pytorch-container:latest'\n",
      "== REGISTER AN IMAGE TO ECR ==\n",
      "==============================\n"
     ]
    },
    {
     "data": {
      "text/plain": [
       "'Store suceess'"
      ]
     },
     "execution_count": 89,
     "metadata": {},
     "output_type": "execute_result"
    }
   ],
   "source": [
    "strEcrRepositoryUri = ecr.register_image_to_ecr(strRegionName, strAccountId, strRepositoryName, strTag)\n",
    "pm.put_params(key=strPrefix + \"PYTORCH-ECR-URI\", value=strEcrRepositoryUri, overwrite=True)"
   ]
  },
  {
   "cell_type": "markdown",
   "id": "6d6ee5f7-e9d8-4506-9ce0-1252eadbcfc1",
   "metadata": {},
   "source": [
    "#### 2.2.2. Train model with the custom image\n",
    "* https://docs.aws.amazon.com/sagemaker/latest/dg/adapt-training-container.html#:%7E:text=Step%202%3A%20Create%20and%20upload%20the%20Dockerfile%20and%20Python%20training%20scripts"
   ]
  },
  {
   "cell_type": "code",
   "execution_count": 90,
   "id": "b22ca55c-5b94-4eb7-919b-00224db7876a",
   "metadata": {},
   "outputs": [],
   "source": [
    "from distutils.dir_util import copy_tree\n",
    "from sagemaker.estimator import Estimator"
   ]
  },
  {
   "cell_type": "code",
   "execution_count": 91,
   "id": "af5842fb-54f6-4b49-8289-e5311ebd7efd",
   "metadata": {},
   "outputs": [
    {
     "data": {
      "text/plain": [
       "['./docker/code/.ipynb_checkpoints/cifar10-checkpoint.py',\n",
       " './docker/code/.ipynb_checkpoints/requirements-checkpoint.txt',\n",
       " './docker/code/requirements.txt',\n",
       " './docker/code/cifar10.py']"
      ]
     },
     "execution_count": 91,
     "metadata": {},
     "output_type": "execute_result"
    }
   ],
   "source": [
    "copy_tree(\"./source/train\", \"./docker/code\")"
   ]
  },
  {
   "cell_type": "code",
   "execution_count": 92,
   "id": "9c66e7fb-8e47-4d97-aa37-b27a79063aed",
   "metadata": {},
   "outputs": [],
   "source": [
    "estimator=Estimator(\n",
    "    image_uri=pm.get_params(key=strPrefix + \"PYTORCH-ECR-URI\"),\n",
    "    role=pm.get_params(key=strPrefix + \"SAGEMAKER-ROLE-ARN\"), \n",
    "    instance_count=1,\n",
    "    #instance_type=\"ml.g4dn.xlarge\",\n",
    "    instance_type=\"local_gpu\",\n",
    "    volume_size=30,\n",
    "    max_run=360000,\n",
    "    input_mode= 'File',\n",
    "    output_path=f\"s3://{pm.get_params(key=strPrefix + 'BUCKET')}/{'byom-model-output'}\"\n",
    "    #sagemaker_session=self.pipeline_session ## add\n",
    ")"
   ]
  },
  {
   "cell_type": "code",
   "execution_count": null,
   "id": "918faef4-d289-4533-a9db-8d404421161c",
   "metadata": {
    "collapsed": true,
    "jupyter": {
     "outputs_hidden": true
    },
    "tags": []
   },
   "outputs": [
    {
     "name": "stderr",
     "output_type": "stream",
     "text": [
      "INFO:sagemaker:Creating training-job with name: sm-byom-pytorch-container-2023-02-07-07-51-20-184\n",
      "INFO:sagemaker.local.local_session:Starting training job\n",
      "INFO:botocore.credentials:Found credentials from IAM Role: BaseNotebookInstanceEc2InstanceRole\n",
      "INFO:botocore.credentials:Found credentials from IAM Role: BaseNotebookInstanceEc2InstanceRole\n",
      "INFO:sagemaker.local.image:No AWS credentials found in session but credentials from EC2 Metadata Service are available.\n",
      "INFO:sagemaker.local.image:docker compose file: \n",
      "networks:\n",
      "  sagemaker-local:\n",
      "    name: sagemaker-local\n",
      "services:\n",
      "  algo-1-axxbt:\n",
      "    command: train\n",
      "    container_name: s2ul0rjqso-algo-1-axxbt\n",
      "    deploy:\n",
      "      resources:\n",
      "        reservations:\n",
      "          devices:\n",
      "          - capabilities:\n",
      "            - gpu\n",
      "    environment:\n",
      "    - '[Masked]'\n",
      "    - '[Masked]'\n",
      "    image: 419974056037.dkr.ecr.ap-northeast-2.amazonaws.com/sm-byom-pytorch-container:latest\n",
      "    networks:\n",
      "      sagemaker-local:\n",
      "        aliases:\n",
      "        - algo-1-axxbt\n",
      "    stdin_open: true\n",
      "    tty: true\n",
      "    volumes:\n",
      "    - /tmp/tmpk6dwint4/algo-1-axxbt/input:/opt/ml/input\n",
      "    - /tmp/tmpk6dwint4/algo-1-axxbt/output:/opt/ml/output\n",
      "    - /tmp/tmpk6dwint4/algo-1-axxbt/output/data:/opt/ml/output/data\n",
      "    - /tmp/tmpk6dwint4/model:/opt/ml/model\n",
      "    - /opt/ml/metadata:/opt/ml/metadata\n",
      "    - /tmp/tmpcea07szg:/opt/ml/input/data/TR\n",
      "version: '2.3'\n",
      "\n",
      "INFO:sagemaker.local.image:docker command: docker-compose -f /tmp/tmpk6dwint4/docker-compose.yaml up --build --abort-on-container-exit\n"
     ]
    },
    {
     "name": "stdout",
     "output_type": "stream",
     "text": [
      "Creating s2ul0rjqso-algo-1-axxbt ... \n",
      "Creating s2ul0rjqso-algo-1-axxbt ... done\n",
      "Attaching to s2ul0rjqso-algo-1-axxbt\n",
      "\u001b[36ms2ul0rjqso-algo-1-axxbt |\u001b[0m 2023-02-07 07:51:23,120 sagemaker-training-toolkit INFO     Installing dependencies from requirements.txt:\n",
      "\u001b[36ms2ul0rjqso-algo-1-axxbt |\u001b[0m /opt/conda/bin/python3 -m pip install -r requirements.txt\n",
      "\u001b[36ms2ul0rjqso-algo-1-axxbt |\u001b[0m Collecting pandas\n",
      "\u001b[36ms2ul0rjqso-algo-1-axxbt |\u001b[0m   Downloading pandas-1.3.5-cp37-cp37m-manylinux_2_17_x86_64.manylinux2014_x86_64.whl (11.3 MB)\n",
      "\u001b[2K     \u001b[90m━━━━━━━━━━━━━━━━━━━━━━━━━━━━━━━━━━━━━━━\u001b[0m \u001b[32m11.3/11.3 MB\u001b[0m \u001b[31m100.1 MB/s\u001b[0m eta \u001b[36m0:00:00\u001b[0m00:01\u001b[0m00:01\u001b[0m:--:--\u001b[0m\n",
      "\u001b[36ms2ul0rjqso-algo-1-axxbt |\u001b[0m \u001b[?25hRequirement already satisfied: python-dateutil>=2.7.3 in /opt/conda/lib/python3.7/site-packages (from pandas->-r requirements.txt (line 1)) (2.8.2)\n",
      "\u001b[36ms2ul0rjqso-algo-1-axxbt |\u001b[0m Requirement already satisfied: numpy>=1.17.3 in /opt/conda/lib/python3.7/site-packages (from pandas->-r requirements.txt (line 1)) (1.17.4)\n",
      "\u001b[36ms2ul0rjqso-algo-1-axxbt |\u001b[0m Requirement already satisfied: pytz>=2017.3 in /opt/conda/lib/python3.7/site-packages (from pandas->-r requirements.txt (line 1)) (2019.3)\n",
      "\u001b[36ms2ul0rjqso-algo-1-axxbt |\u001b[0m Requirement already satisfied: six>=1.5 in /opt/conda/lib/python3.7/site-packages (from python-dateutil>=2.7.3->pandas->-r requirements.txt (line 1)) (1.12.0)\n",
      "\u001b[36ms2ul0rjqso-algo-1-axxbt |\u001b[0m Installing collected packages: pandas\n",
      "\u001b[36ms2ul0rjqso-algo-1-axxbt |\u001b[0m Successfully installed pandas-1.3.5\n",
      "\u001b[36ms2ul0rjqso-algo-1-axxbt |\u001b[0m \u001b[33mWARNING: Running pip as the 'root' user can result in broken permissions and conflicting behaviour with the system package manager. It is recommended to use a virtual environment instead: https://pip.pypa.io/warnings/venv\u001b[0m\u001b[33m\n",
      "\u001b[36ms2ul0rjqso-algo-1-axxbt |\u001b[0m \u001b[0m2023-02-07 07:51:27,331 sagemaker-training-toolkit INFO     No Neurons detected (normal if no neurons installed)\n",
      "\u001b[36ms2ul0rjqso-algo-1-axxbt |\u001b[0m 2023-02-07 07:51:27,354 sagemaker-training-toolkit INFO     instance_groups entry not present in resource_config\n",
      "\u001b[36ms2ul0rjqso-algo-1-axxbt |\u001b[0m 2023-02-07 07:51:27,381 sagemaker-training-toolkit INFO     No Neurons detected (normal if no neurons installed)\n",
      "\u001b[36ms2ul0rjqso-algo-1-axxbt |\u001b[0m 2023-02-07 07:51:27,390 sagemaker-training-toolkit INFO     instance_groups entry not present in resource_config\n",
      "\u001b[36ms2ul0rjqso-algo-1-axxbt |\u001b[0m 2023-02-07 07:51:27,413 sagemaker-training-toolkit INFO     No Neurons detected (normal if no neurons installed)\n",
      "\u001b[36ms2ul0rjqso-algo-1-axxbt |\u001b[0m 2023-02-07 07:51:27,422 sagemaker-training-toolkit INFO     instance_groups entry not present in resource_config\n",
      "\u001b[36ms2ul0rjqso-algo-1-axxbt |\u001b[0m 2023-02-07 07:51:27,424 sagemaker-training-toolkit INFO     Invoking user script\n",
      "\u001b[36ms2ul0rjqso-algo-1-axxbt |\u001b[0m \n",
      "\u001b[36ms2ul0rjqso-algo-1-axxbt |\u001b[0m Training Env:\n",
      "\u001b[36ms2ul0rjqso-algo-1-axxbt |\u001b[0m \n",
      "\u001b[36ms2ul0rjqso-algo-1-axxbt |\u001b[0m {\n",
      "\u001b[36ms2ul0rjqso-algo-1-axxbt |\u001b[0m     \"additional_framework_parameters\": {},\n",
      "\u001b[36ms2ul0rjqso-algo-1-axxbt |\u001b[0m     \"channel_input_dirs\": {\n",
      "\u001b[36ms2ul0rjqso-algo-1-axxbt |\u001b[0m         \"TR\": \"/opt/ml/input/data/TR\"\n",
      "\u001b[36ms2ul0rjqso-algo-1-axxbt |\u001b[0m     },\n",
      "\u001b[36ms2ul0rjqso-algo-1-axxbt |\u001b[0m     \"current_host\": \"algo-1-axxbt\",\n",
      "\u001b[36ms2ul0rjqso-algo-1-axxbt |\u001b[0m     \"current_instance_group\": \"homogeneousCluster\",\n",
      "\u001b[36ms2ul0rjqso-algo-1-axxbt |\u001b[0m     \"current_instance_group_hosts\": [],\n",
      "\u001b[36ms2ul0rjqso-algo-1-axxbt |\u001b[0m     \"current_instance_type\": \"local\",\n",
      "\u001b[36ms2ul0rjqso-algo-1-axxbt |\u001b[0m     \"distribution_hosts\": [\n",
      "\u001b[36ms2ul0rjqso-algo-1-axxbt |\u001b[0m         \"algo-1-axxbt\"\n",
      "\u001b[36ms2ul0rjqso-algo-1-axxbt |\u001b[0m     ],\n",
      "\u001b[36ms2ul0rjqso-algo-1-axxbt |\u001b[0m     \"distribution_instance_groups\": [],\n",
      "\u001b[36ms2ul0rjqso-algo-1-axxbt |\u001b[0m     \"framework_module\": null,\n",
      "\u001b[36ms2ul0rjqso-algo-1-axxbt |\u001b[0m     \"hosts\": [\n",
      "\u001b[36ms2ul0rjqso-algo-1-axxbt |\u001b[0m         \"algo-1-axxbt\"\n",
      "\u001b[36ms2ul0rjqso-algo-1-axxbt |\u001b[0m     ],\n",
      "\u001b[36ms2ul0rjqso-algo-1-axxbt |\u001b[0m     \"hyperparameters\": {},\n",
      "\u001b[36ms2ul0rjqso-algo-1-axxbt |\u001b[0m     \"input_config_dir\": \"/opt/ml/input/config\",\n",
      "\u001b[36ms2ul0rjqso-algo-1-axxbt |\u001b[0m     \"input_data_config\": {\n",
      "\u001b[36ms2ul0rjqso-algo-1-axxbt |\u001b[0m         \"TR\": {\n",
      "\u001b[36ms2ul0rjqso-algo-1-axxbt |\u001b[0m             \"TrainingInputMode\": \"File\"\n",
      "\u001b[36ms2ul0rjqso-algo-1-axxbt |\u001b[0m         }\n",
      "\u001b[36ms2ul0rjqso-algo-1-axxbt |\u001b[0m     },\n",
      "\u001b[36ms2ul0rjqso-algo-1-axxbt |\u001b[0m     \"input_dir\": \"/opt/ml/input\",\n",
      "\u001b[36ms2ul0rjqso-algo-1-axxbt |\u001b[0m     \"instance_groups\": [],\n",
      "\u001b[36ms2ul0rjqso-algo-1-axxbt |\u001b[0m     \"instance_groups_dict\": {},\n",
      "\u001b[36ms2ul0rjqso-algo-1-axxbt |\u001b[0m     \"is_hetero\": false,\n",
      "\u001b[36ms2ul0rjqso-algo-1-axxbt |\u001b[0m     \"is_master\": true,\n",
      "\u001b[36ms2ul0rjqso-algo-1-axxbt |\u001b[0m     \"is_modelparallel_enabled\": null,\n",
      "\u001b[36ms2ul0rjqso-algo-1-axxbt |\u001b[0m     \"is_smddpmprun_installed\": false,\n",
      "\u001b[36ms2ul0rjqso-algo-1-axxbt |\u001b[0m     \"job_name\": \"sm-byom-pytorch-container-2023-02-07-07-51-20-184\",\n",
      "\u001b[36ms2ul0rjqso-algo-1-axxbt |\u001b[0m     \"log_level\": 20,\n",
      "\u001b[36ms2ul0rjqso-algo-1-axxbt |\u001b[0m     \"master_hostname\": \"algo-1-axxbt\",\n",
      "\u001b[36ms2ul0rjqso-algo-1-axxbt |\u001b[0m     \"model_dir\": \"/opt/ml/model\",\n",
      "\u001b[36ms2ul0rjqso-algo-1-axxbt |\u001b[0m     \"module_dir\": \"/opt/ml/code\",\n",
      "\u001b[36ms2ul0rjqso-algo-1-axxbt |\u001b[0m     \"module_name\": \"cifar10\",\n",
      "\u001b[36ms2ul0rjqso-algo-1-axxbt |\u001b[0m     \"network_interface_name\": \"eth0\",\n",
      "\u001b[36ms2ul0rjqso-algo-1-axxbt |\u001b[0m     \"num_cpus\": 8,\n",
      "\u001b[36ms2ul0rjqso-algo-1-axxbt |\u001b[0m     \"num_gpus\": 1,\n",
      "\u001b[36ms2ul0rjqso-algo-1-axxbt |\u001b[0m     \"num_neurons\": 0,\n",
      "\u001b[36ms2ul0rjqso-algo-1-axxbt |\u001b[0m     \"output_data_dir\": \"/opt/ml/output/data\",\n",
      "\u001b[36ms2ul0rjqso-algo-1-axxbt |\u001b[0m     \"output_dir\": \"/opt/ml/output\",\n",
      "\u001b[36ms2ul0rjqso-algo-1-axxbt |\u001b[0m     \"output_intermediate_dir\": \"/opt/ml/output/intermediate\",\n",
      "\u001b[36ms2ul0rjqso-algo-1-axxbt |\u001b[0m     \"resource_config\": {\n",
      "\u001b[36ms2ul0rjqso-algo-1-axxbt |\u001b[0m         \"current_host\": \"algo-1-axxbt\",\n",
      "\u001b[36ms2ul0rjqso-algo-1-axxbt |\u001b[0m         \"hosts\": [\n",
      "\u001b[36ms2ul0rjqso-algo-1-axxbt |\u001b[0m             \"algo-1-axxbt\"\n",
      "\u001b[36ms2ul0rjqso-algo-1-axxbt |\u001b[0m         ]\n",
      "\u001b[36ms2ul0rjqso-algo-1-axxbt |\u001b[0m     },\n",
      "\u001b[36ms2ul0rjqso-algo-1-axxbt |\u001b[0m     \"user_entry_point\": \"cifar10.py\"\n",
      "\u001b[36ms2ul0rjqso-algo-1-axxbt |\u001b[0m }\n",
      "\u001b[36ms2ul0rjqso-algo-1-axxbt |\u001b[0m \n",
      "\u001b[36ms2ul0rjqso-algo-1-axxbt |\u001b[0m Environment variables:\n",
      "\u001b[36ms2ul0rjqso-algo-1-axxbt |\u001b[0m \n",
      "\u001b[36ms2ul0rjqso-algo-1-axxbt |\u001b[0m SM_HOSTS=[\"algo-1-axxbt\"]\n",
      "\u001b[36ms2ul0rjqso-algo-1-axxbt |\u001b[0m SM_NETWORK_INTERFACE_NAME=eth0\n",
      "\u001b[36ms2ul0rjqso-algo-1-axxbt |\u001b[0m SM_HPS={}\n",
      "\u001b[36ms2ul0rjqso-algo-1-axxbt |\u001b[0m SM_USER_ENTRY_POINT=cifar10.py\n",
      "\u001b[36ms2ul0rjqso-algo-1-axxbt |\u001b[0m SM_FRAMEWORK_PARAMS={}\n",
      "\u001b[36ms2ul0rjqso-algo-1-axxbt |\u001b[0m SM_RESOURCE_CONFIG={\"current_host\":\"algo-1-axxbt\",\"hosts\":[\"algo-1-axxbt\"]}\n",
      "\u001b[36ms2ul0rjqso-algo-1-axxbt |\u001b[0m SM_INPUT_DATA_CONFIG={\"TR\":{\"TrainingInputMode\":\"File\"}}\n",
      "\u001b[36ms2ul0rjqso-algo-1-axxbt |\u001b[0m SM_OUTPUT_DATA_DIR=/opt/ml/output/data\n",
      "\u001b[36ms2ul0rjqso-algo-1-axxbt |\u001b[0m SM_CHANNELS=[\"TR\"]\n",
      "\u001b[36ms2ul0rjqso-algo-1-axxbt |\u001b[0m SM_CURRENT_HOST=algo-1-axxbt\n",
      "\u001b[36ms2ul0rjqso-algo-1-axxbt |\u001b[0m SM_CURRENT_INSTANCE_TYPE=local\n",
      "\u001b[36ms2ul0rjqso-algo-1-axxbt |\u001b[0m SM_CURRENT_INSTANCE_GROUP=homogeneousCluster\n",
      "\u001b[36ms2ul0rjqso-algo-1-axxbt |\u001b[0m SM_CURRENT_INSTANCE_GROUP_HOSTS=[]\n",
      "\u001b[36ms2ul0rjqso-algo-1-axxbt |\u001b[0m SM_INSTANCE_GROUPS=[]\n",
      "\u001b[36ms2ul0rjqso-algo-1-axxbt |\u001b[0m SM_INSTANCE_GROUPS_DICT={}\n",
      "\u001b[36ms2ul0rjqso-algo-1-axxbt |\u001b[0m SM_DISTRIBUTION_INSTANCE_GROUPS=[]\n",
      "\u001b[36ms2ul0rjqso-algo-1-axxbt |\u001b[0m SM_IS_HETERO=false\n",
      "\u001b[36ms2ul0rjqso-algo-1-axxbt |\u001b[0m SM_MODULE_NAME=cifar10\n",
      "\u001b[36ms2ul0rjqso-algo-1-axxbt |\u001b[0m SM_LOG_LEVEL=20\n",
      "\u001b[36ms2ul0rjqso-algo-1-axxbt |\u001b[0m SM_FRAMEWORK_MODULE=\n",
      "\u001b[36ms2ul0rjqso-algo-1-axxbt |\u001b[0m SM_INPUT_DIR=/opt/ml/input\n",
      "\u001b[36ms2ul0rjqso-algo-1-axxbt |\u001b[0m SM_INPUT_CONFIG_DIR=/opt/ml/input/config\n",
      "\u001b[36ms2ul0rjqso-algo-1-axxbt |\u001b[0m SM_OUTPUT_DIR=/opt/ml/output\n",
      "\u001b[36ms2ul0rjqso-algo-1-axxbt |\u001b[0m SM_NUM_CPUS=8\n",
      "\u001b[36ms2ul0rjqso-algo-1-axxbt |\u001b[0m SM_NUM_GPUS=1\n",
      "\u001b[36ms2ul0rjqso-algo-1-axxbt |\u001b[0m SM_NUM_NEURONS=0\n",
      "\u001b[36ms2ul0rjqso-algo-1-axxbt |\u001b[0m SM_MODEL_DIR=/opt/ml/model\n",
      "\u001b[36ms2ul0rjqso-algo-1-axxbt |\u001b[0m SM_MODULE_DIR=/opt/ml/code\n",
      "\u001b[36ms2ul0rjqso-algo-1-axxbt |\u001b[0m SM_TRAINING_ENV={\"additional_framework_parameters\":{},\"channel_input_dirs\":{\"TR\":\"/opt/ml/input/data/TR\"},\"current_host\":\"algo-1-axxbt\",\"current_instance_group\":\"homogeneousCluster\",\"current_instance_group_hosts\":[],\"current_instance_type\":\"local\",\"distribution_hosts\":[\"algo-1-axxbt\"],\"distribution_instance_groups\":[],\"framework_module\":null,\"hosts\":[\"algo-1-axxbt\"],\"hyperparameters\":{},\"input_config_dir\":\"/opt/ml/input/config\",\"input_data_config\":{\"TR\":{\"TrainingInputMode\":\"File\"}},\"input_dir\":\"/opt/ml/input\",\"instance_groups\":[],\"instance_groups_dict\":{},\"is_hetero\":false,\"is_master\":true,\"is_modelparallel_enabled\":null,\"is_smddpmprun_installed\":false,\"job_name\":\"sm-byom-pytorch-container-2023-02-07-07-51-20-184\",\"log_level\":20,\"master_hostname\":\"algo-1-axxbt\",\"model_dir\":\"/opt/ml/model\",\"module_dir\":\"/opt/ml/code\",\"module_name\":\"cifar10\",\"network_interface_name\":\"eth0\",\"num_cpus\":8,\"num_gpus\":1,\"num_neurons\":0,\"output_data_dir\":\"/opt/ml/output/data\",\"output_dir\":\"/opt/ml/output\",\"output_intermediate_dir\":\"/opt/ml/output/intermediate\",\"resource_config\":{\"current_host\":\"algo-1-axxbt\",\"hosts\":[\"algo-1-axxbt\"]},\"user_entry_point\":\"cifar10.py\"}\n",
      "\u001b[36ms2ul0rjqso-algo-1-axxbt |\u001b[0m SM_USER_ARGS=[]\n",
      "\u001b[36ms2ul0rjqso-algo-1-axxbt |\u001b[0m SM_OUTPUT_INTERMEDIATE_DIR=/opt/ml/output/intermediate\n",
      "\u001b[36ms2ul0rjqso-algo-1-axxbt |\u001b[0m SM_CHANNEL_TR=/opt/ml/input/data/TR\n",
      "\u001b[36ms2ul0rjqso-algo-1-axxbt |\u001b[0m PYTHONPATH=/opt/ml/code:/opt/conda/bin:/opt/conda/lib/python37.zip:/opt/conda/lib/python3.7:/opt/conda/lib/python3.7/lib-dynload:/opt/conda/lib/python3.7/site-packages\n",
      "\u001b[36ms2ul0rjqso-algo-1-axxbt |\u001b[0m \n",
      "\u001b[36ms2ul0rjqso-algo-1-axxbt |\u001b[0m Invoking script with the following command:\n",
      "\u001b[36ms2ul0rjqso-algo-1-axxbt |\u001b[0m \n",
      "\u001b[36ms2ul0rjqso-algo-1-axxbt |\u001b[0m /opt/conda/bin/python3 cifar10.py\n",
      "\u001b[36ms2ul0rjqso-algo-1-axxbt |\u001b[0m \n",
      "\u001b[36ms2ul0rjqso-algo-1-axxbt |\u001b[0m \n",
      "\u001b[36ms2ul0rjqso-algo-1-axxbt |\u001b[0m 2023-02-07 07:51:27,425 sagemaker-training-toolkit INFO     Exceptions not imported for SageMaker Debugger as it is not installed.\n",
      "\u001b[36ms2ul0rjqso-algo-1-axxbt |\u001b[0m 2023-02-07 07:51:27,425 sagemaker-training-toolkit INFO     Exceptions not imported for SageMaker TF as Tensorflow is not installed.\n",
      "\u001b[36ms2ul0rjqso-algo-1-axxbt |\u001b[0m [1,  2000] loss: 2.154\n",
      "\u001b[36ms2ul0rjqso-algo-1-axxbt |\u001b[0m [1,  4000] loss: 1.812\n",
      "\u001b[36ms2ul0rjqso-algo-1-axxbt |\u001b[0m [1,  6000] loss: 1.662\n",
      "\u001b[36ms2ul0rjqso-algo-1-axxbt |\u001b[0m [1,  8000] loss: 1.553\n",
      "\u001b[36ms2ul0rjqso-algo-1-axxbt |\u001b[0m [1, 10000] loss: 1.502\n",
      "\u001b[36ms2ul0rjqso-algo-1-axxbt |\u001b[0m [1, 12000] loss: 1.467\n",
      "\u001b[36ms2ul0rjqso-algo-1-axxbt |\u001b[0m [2,  2000] loss: 1.378\n",
      "\u001b[36ms2ul0rjqso-algo-1-axxbt |\u001b[0m [2,  4000] loss: 1.373\n",
      "\u001b[36ms2ul0rjqso-algo-1-axxbt |\u001b[0m [2,  6000] loss: 1.365\n",
      "\u001b[36ms2ul0rjqso-algo-1-axxbt |\u001b[0m [2,  8000] loss: 1.338\n"
     ]
    }
   ],
   "source": [
    "strDataChannel = \"TR\"\n",
    "\n",
    "estimator.fit(\n",
    "    #inputs=pm.get_params(key=strPrefix + \"DATA-PATH\"),\n",
    "    inputs={strDataChannel: pm.get_params(key=strPrefix + \"DATA-PATH\")},\n",
    "    wait=True\n",
    ")"
   ]
  }
 ],
 "metadata": {
  "kernelspec": {
   "display_name": "conda_pytorch_p39",
   "language": "python",
   "name": "conda_pytorch_p39"
  },
  "language_info": {
   "codemirror_mode": {
    "name": "ipython",
    "version": 3
   },
   "file_extension": ".py",
   "mimetype": "text/x-python",
   "name": "python",
   "nbconvert_exporter": "python",
   "pygments_lexer": "ipython3",
   "version": "3.9.13"
  },
  "vscode": {
   "interpreter": {
    "hash": "1f4a227f2552de404565d6626d9115986c409361ad6ef0bf195ad88ccd012b73"
   }
  }
 },
 "nbformat": 4,
 "nbformat_minor": 5
}
