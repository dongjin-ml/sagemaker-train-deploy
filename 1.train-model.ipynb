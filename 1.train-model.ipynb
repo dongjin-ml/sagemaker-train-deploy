{
 "cells": [
  {
   "cell_type": "markdown",
   "id": "93de7fc8-120d-4f33-87e2-16a2fda7ba59",
   "metadata": {
    "jupyter": {
     "outputs_hidden": true
    },
    "tags": []
   },
   "source": [
    "# <B> Training models using the framework (Torch) </B>"
   ]
  },
  {
   "cell_type": "markdown",
   "id": "fcc3cc4d-c811-4f7a-ad0b-be6e1f836987",
   "metadata": {},
   "source": [
    "## AutoReload"
   ]
  },
  {
   "cell_type": "code",
   "execution_count": 1,
   "id": "ccb8c76f-4524-4e03-a66b-2e81837b4890",
   "metadata": {
    "tags": []
   },
   "outputs": [],
   "source": [
    "%load_ext autoreload\n",
    "%autoreload 2"
   ]
  },
  {
   "cell_type": "code",
   "execution_count": 2,
   "id": "65eda887-e6ab-4bb3-91c5-fff00a040ce9",
   "metadata": {
    "collapsed": true,
    "jupyter": {
     "outputs_hidden": true
    },
    "tags": []
   },
   "outputs": [
    {
     "name": "stdout",
     "output_type": "stream",
     "text": [
      "Looking in indexes: https://pypi.org/simple, https://pip.repos.neuron.amazonaws.com\n",
      "Requirement already satisfied: pip in /home/ec2-user/anaconda3/envs/pytorch_p39/lib/python3.9/site-packages (23.0.1)\n",
      "Looking in indexes: https://pypi.org/simple, https://pip.repos.neuron.amazonaws.com\n",
      "Requirement already satisfied: sagemaker==2.118.0 in /home/ec2-user/anaconda3/envs/pytorch_p39/lib/python3.9/site-packages (2.118.0)\n",
      "Requirement already satisfied: packaging>=20.0 in /home/ec2-user/anaconda3/envs/pytorch_p39/lib/python3.9/site-packages (from sagemaker==2.118.0) (21.3)\n",
      "Requirement already satisfied: boto3<2.0,>=1.26.20 in /home/ec2-user/anaconda3/envs/pytorch_p39/lib/python3.9/site-packages (from sagemaker==2.118.0) (1.26.71)\n",
      "Requirement already satisfied: google-pasta in /home/ec2-user/anaconda3/envs/pytorch_p39/lib/python3.9/site-packages (from sagemaker==2.118.0) (0.2.0)\n",
      "Requirement already satisfied: importlib-metadata<5.0,>=1.4.0 in /home/ec2-user/anaconda3/envs/pytorch_p39/lib/python3.9/site-packages (from sagemaker==2.118.0) (4.13.0)\n",
      "Requirement already satisfied: protobuf<4.0,>=3.1 in /home/ec2-user/anaconda3/envs/pytorch_p39/lib/python3.9/site-packages (from sagemaker==2.118.0) (3.20.2)\n",
      "Requirement already satisfied: smdebug-rulesconfig==1.0.1 in /home/ec2-user/anaconda3/envs/pytorch_p39/lib/python3.9/site-packages (from sagemaker==2.118.0) (1.0.1)\n",
      "Requirement already satisfied: numpy<2.0,>=1.9.0 in /home/ec2-user/anaconda3/envs/pytorch_p39/lib/python3.9/site-packages (from sagemaker==2.118.0) (1.23.5)\n",
      "Requirement already satisfied: pathos in /home/ec2-user/anaconda3/envs/pytorch_p39/lib/python3.9/site-packages (from sagemaker==2.118.0) (0.3.0)\n",
      "Requirement already satisfied: schema in /home/ec2-user/anaconda3/envs/pytorch_p39/lib/python3.9/site-packages (from sagemaker==2.118.0) (0.7.5)\n",
      "Requirement already satisfied: protobuf3-to-dict<1.0,>=0.1.5 in /home/ec2-user/anaconda3/envs/pytorch_p39/lib/python3.9/site-packages (from sagemaker==2.118.0) (0.1.5)\n",
      "Requirement already satisfied: attrs<23,>=20.3.0 in /home/ec2-user/anaconda3/envs/pytorch_p39/lib/python3.9/site-packages (from sagemaker==2.118.0) (22.2.0)\n",
      "Requirement already satisfied: pandas in /home/ec2-user/anaconda3/envs/pytorch_p39/lib/python3.9/site-packages (from sagemaker==2.118.0) (1.4.4)\n",
      "Requirement already satisfied: botocore<1.30.0,>=1.29.71 in /home/ec2-user/anaconda3/envs/pytorch_p39/lib/python3.9/site-packages (from boto3<2.0,>=1.26.20->sagemaker==2.118.0) (1.29.71)\n",
      "Requirement already satisfied: s3transfer<0.7.0,>=0.6.0 in /home/ec2-user/anaconda3/envs/pytorch_p39/lib/python3.9/site-packages (from boto3<2.0,>=1.26.20->sagemaker==2.118.0) (0.6.0)\n",
      "Requirement already satisfied: jmespath<2.0.0,>=0.7.1 in /home/ec2-user/anaconda3/envs/pytorch_p39/lib/python3.9/site-packages (from boto3<2.0,>=1.26.20->sagemaker==2.118.0) (1.0.1)\n",
      "Requirement already satisfied: zipp>=0.5 in /home/ec2-user/anaconda3/envs/pytorch_p39/lib/python3.9/site-packages (from importlib-metadata<5.0,>=1.4.0->sagemaker==2.118.0) (3.11.0)\n",
      "Requirement already satisfied: pyparsing!=3.0.5,>=2.0.2 in /home/ec2-user/anaconda3/envs/pytorch_p39/lib/python3.9/site-packages (from packaging>=20.0->sagemaker==2.118.0) (3.0.9)\n",
      "Requirement already satisfied: six in /home/ec2-user/anaconda3/envs/pytorch_p39/lib/python3.9/site-packages (from protobuf3-to-dict<1.0,>=0.1.5->sagemaker==2.118.0) (1.16.0)\n",
      "Requirement already satisfied: python-dateutil>=2.8.1 in /home/ec2-user/anaconda3/envs/pytorch_p39/lib/python3.9/site-packages (from pandas->sagemaker==2.118.0) (2.8.2)\n",
      "Requirement already satisfied: pytz>=2020.1 in /home/ec2-user/anaconda3/envs/pytorch_p39/lib/python3.9/site-packages (from pandas->sagemaker==2.118.0) (2022.7)\n",
      "Requirement already satisfied: ppft>=1.7.6.6 in /home/ec2-user/anaconda3/envs/pytorch_p39/lib/python3.9/site-packages (from pathos->sagemaker==2.118.0) (1.7.6.6)\n",
      "Requirement already satisfied: pox>=0.3.2 in /home/ec2-user/anaconda3/envs/pytorch_p39/lib/python3.9/site-packages (from pathos->sagemaker==2.118.0) (0.3.2)\n",
      "Requirement already satisfied: multiprocess>=0.70.14 in /home/ec2-user/anaconda3/envs/pytorch_p39/lib/python3.9/site-packages (from pathos->sagemaker==2.118.0) (0.70.14)\n",
      "Requirement already satisfied: dill>=0.3.6 in /home/ec2-user/anaconda3/envs/pytorch_p39/lib/python3.9/site-packages (from pathos->sagemaker==2.118.0) (0.3.6)\n",
      "Requirement already satisfied: contextlib2>=0.5.5 in /home/ec2-user/anaconda3/envs/pytorch_p39/lib/python3.9/site-packages (from schema->sagemaker==2.118.0) (21.6.0)\n",
      "Requirement already satisfied: urllib3<1.27,>=1.25.4 in /home/ec2-user/anaconda3/envs/pytorch_p39/lib/python3.9/site-packages (from botocore<1.30.0,>=1.29.71->boto3<2.0,>=1.26.20->sagemaker==2.118.0) (1.26.8)\n"
     ]
    }
   ],
   "source": [
    "!pip install --upgrade pip\n",
    "!pip install --upgrade sagemaker==2.118.0\n",
    "#!pip install -U boto3 botocore"
   ]
  },
  {
   "cell_type": "code",
   "execution_count": null,
   "id": "557a49dd-a714-4bed-9f19-2b7ec66f5563",
   "metadata": {
    "tags": []
   },
   "outputs": [],
   "source": [
    "import sagemaker "
   ]
  },
  {
   "cell_type": "markdown",
   "id": "282a6609-067e-4154-b034-c81538a2e5d0",
   "metadata": {},
   "source": [
    "## 1. parameter store 셋팅"
   ]
  },
  {
   "cell_type": "code",
   "execution_count": 3,
   "id": "b47f5425-2013-49ca-98ef-29cb2131b1c1",
   "metadata": {
    "tags": []
   },
   "outputs": [],
   "source": [
    "import boto3\n",
    "from utils.ssm import parameter_store"
   ]
  },
  {
   "cell_type": "code",
   "execution_count": 4,
   "id": "2c1a73ae-241c-447a-b682-3a882ebdffac",
   "metadata": {
    "tags": []
   },
   "outputs": [],
   "source": [
    "strRegionName=boto3.Session().region_name\n",
    "pm = parameter_store(strRegionName)\n",
    "strPrefix = pm.get_params(key=\"PREFIX\")"
   ]
  },
  {
   "cell_type": "code",
   "execution_count": 5,
   "id": "dc67d3a2-9e60-4641-9ef9-d1960c4f68ae",
   "metadata": {
    "tags": []
   },
   "outputs": [
    {
     "data": {
      "text/plain": [
       "'arn:aws:iam::419974056037:role/service-role/AmazonSageMaker-ExecutionRole-20221206T163436'"
      ]
     },
     "execution_count": 5,
     "metadata": {},
     "output_type": "execute_result"
    }
   ],
   "source": [
    "pm.get_params(key=strPrefix + \"SAGEMAKER-ROLE-ARN\")"
   ]
  },
  {
   "cell_type": "markdown",
   "id": "47a0afbb-666b-44a1-8d67-d34fa500cdb1",
   "metadata": {
    "tags": []
   },
   "source": [
    "## 2. train"
   ]
  },
  {
   "cell_type": "markdown",
   "id": "214501ef-2ca4-4f8b-9e1b-5c104f655e00",
   "metadata": {},
   "source": [
    "### 2.1 with built-in PyTorch image\n",
    "* https://sagemaker-examples.readthedocs.io/en/latest/aws_sagemaker_studio/frameworks/pytorch_cnn_cifar10/pytorch_cnn_cifar10.html\n",
    "* https://sagemaker.readthedocs.io/en/stable/frameworks/pytorch/using_pytorch.html\n",
    "* train, deploy and inference: https://sagemaker.readthedocs.io/en/stable/frameworks/pytorch/sagemaker.pytorch.html"
   ]
  },
  {
   "cell_type": "code",
   "execution_count": 6,
   "id": "64393344-31dc-47b4-976e-5d3516c6ef9f",
   "metadata": {
    "tags": []
   },
   "outputs": [],
   "source": [
    "import sagemaker\n",
    "from sagemaker.pytorch import PyTorch"
   ]
  },
  {
   "cell_type": "code",
   "execution_count": 7,
   "id": "42ee4df1-61c5-423d-b10e-0a5df8c9eb5c",
   "metadata": {
    "collapsed": true,
    "jupyter": {
     "outputs_hidden": true
    },
    "tags": []
   },
   "outputs": [
    {
     "name": "stdout",
     "output_type": "stream",
     "text": [
      "Creating 58zyksoz5y-algo-1-cynzs ... \n",
      "Creating 58zyksoz5y-algo-1-cynzs ... done\n",
      "Attaching to 58zyksoz5y-algo-1-cynzs\n",
      "\u001b[36m58zyksoz5y-algo-1-cynzs |\u001b[0m 2023-03-02 04:50:11,838 sagemaker-training-toolkit INFO     Imported framework sagemaker_pytorch_container.training\n",
      "\u001b[36m58zyksoz5y-algo-1-cynzs |\u001b[0m 2023-03-02 04:50:11,858 sagemaker-training-toolkit INFO     No Neurons detected (normal if no neurons installed)\n",
      "\u001b[36m58zyksoz5y-algo-1-cynzs |\u001b[0m 2023-03-02 04:50:11,866 sagemaker-training-toolkit INFO     instance_groups entry not present in resource_config\n",
      "\u001b[36m58zyksoz5y-algo-1-cynzs |\u001b[0m 2023-03-02 04:50:11,868 sagemaker_pytorch_container.training INFO     Block until all host DNS lookups succeed.\n",
      "\u001b[36m58zyksoz5y-algo-1-cynzs |\u001b[0m 2023-03-02 04:50:11,872 sagemaker_pytorch_container.training INFO     Invoking user training script.\n",
      "\u001b[36m58zyksoz5y-algo-1-cynzs |\u001b[0m 2023-03-02 04:50:11,905 botocore.credentials INFO     Found credentials from IAM Role: BaseNotebookInstanceEc2InstanceRole\n",
      "\u001b[36m58zyksoz5y-algo-1-cynzs |\u001b[0m 2023-03-02 04:50:12,100 sagemaker-training-toolkit INFO     Installing dependencies from requirements.txt:\n",
      "\u001b[36m58zyksoz5y-algo-1-cynzs |\u001b[0m /opt/conda/bin/python3.8 -m pip install -r requirements.txt\n",
      "\u001b[36m58zyksoz5y-algo-1-cynzs |\u001b[0m Requirement already satisfied: sagemaker in /opt/conda/lib/python3.8/site-packages (from -r requirements.txt (line 1)) (2.132.0)\n",
      "\u001b[36m58zyksoz5y-algo-1-cynzs |\u001b[0m Requirement already satisfied: boto3 in /opt/conda/lib/python3.8/site-packages (from -r requirements.txt (line 2)) (1.26.70)\n",
      "\u001b[36m58zyksoz5y-algo-1-cynzs |\u001b[0m Requirement already satisfied: botocore in /opt/conda/lib/python3.8/site-packages (from -r requirements.txt (line 3)) (1.29.70)\n",
      "\u001b[36m58zyksoz5y-algo-1-cynzs |\u001b[0m Requirement already satisfied: pandas in /opt/conda/lib/python3.8/site-packages (from -r requirements.txt (line 4)) (1.5.3)\n",
      "\u001b[36m58zyksoz5y-algo-1-cynzs |\u001b[0m Collecting nvgpu\n",
      "\u001b[36m58zyksoz5y-algo-1-cynzs |\u001b[0m Downloading nvgpu-0.9.0-py2.py3-none-any.whl (9.4 kB)\n",
      "\u001b[36m58zyksoz5y-algo-1-cynzs |\u001b[0m Requirement already satisfied: importlib-metadata<5.0,>=1.4.0 in /opt/conda/lib/python3.8/site-packages (from sagemaker->-r requirements.txt (line 1)) (4.13.0)\n",
      "\u001b[36m58zyksoz5y-algo-1-cynzs |\u001b[0m Requirement already satisfied: numpy<2.0,>=1.9.0 in /opt/conda/lib/python3.8/site-packages (from sagemaker->-r requirements.txt (line 1)) (1.23.5)\n",
      "\u001b[36m58zyksoz5y-algo-1-cynzs |\u001b[0m Requirement already satisfied: protobuf<4.0,>=3.1 in /opt/conda/lib/python3.8/site-packages (from sagemaker->-r requirements.txt (line 1)) (3.20.2)\n",
      "\u001b[36m58zyksoz5y-algo-1-cynzs |\u001b[0m Requirement already satisfied: protobuf3-to-dict<1.0,>=0.1.5 in /opt/conda/lib/python3.8/site-packages (from sagemaker->-r requirements.txt (line 1)) (0.1.5)\n",
      "\u001b[36m58zyksoz5y-algo-1-cynzs |\u001b[0m Requirement already satisfied: attrs<23,>=20.3.0 in /opt/conda/lib/python3.8/site-packages (from sagemaker->-r requirements.txt (line 1)) (22.2.0)\n",
      "\u001b[36m58zyksoz5y-algo-1-cynzs |\u001b[0m Requirement already satisfied: packaging>=20.0 in /opt/conda/lib/python3.8/site-packages (from sagemaker->-r requirements.txt (line 1)) (23.0)\n",
      "\u001b[36m58zyksoz5y-algo-1-cynzs |\u001b[0m Requirement already satisfied: google-pasta in /opt/conda/lib/python3.8/site-packages (from sagemaker->-r requirements.txt (line 1)) (0.2.0)\n",
      "\u001b[36m58zyksoz5y-algo-1-cynzs |\u001b[0m Requirement already satisfied: smdebug-rulesconfig==1.0.1 in /opt/conda/lib/python3.8/site-packages (from sagemaker->-r requirements.txt (line 1)) (1.0.1)\n",
      "\u001b[36m58zyksoz5y-algo-1-cynzs |\u001b[0m Requirement already satisfied: schema in /opt/conda/lib/python3.8/site-packages (from sagemaker->-r requirements.txt (line 1)) (0.7.5)\n",
      "\u001b[36m58zyksoz5y-algo-1-cynzs |\u001b[0m Requirement already satisfied: pathos in /opt/conda/lib/python3.8/site-packages (from sagemaker->-r requirements.txt (line 1)) (0.3.0)\n",
      "\u001b[36m58zyksoz5y-algo-1-cynzs |\u001b[0m Requirement already satisfied: s3transfer<0.7.0,>=0.6.0 in /opt/conda/lib/python3.8/site-packages (from boto3->-r requirements.txt (line 2)) (0.6.0)\n",
      "\u001b[36m58zyksoz5y-algo-1-cynzs |\u001b[0m Requirement already satisfied: jmespath<2.0.0,>=0.7.1 in /opt/conda/lib/python3.8/site-packages (from boto3->-r requirements.txt (line 2)) (1.0.1)\n",
      "\u001b[36m58zyksoz5y-algo-1-cynzs |\u001b[0m Requirement already satisfied: urllib3<1.27,>=1.25.4 in /opt/conda/lib/python3.8/site-packages (from botocore->-r requirements.txt (line 3)) (1.26.14)\n",
      "\u001b[36m58zyksoz5y-algo-1-cynzs |\u001b[0m Requirement already satisfied: python-dateutil<3.0.0,>=2.1 in /opt/conda/lib/python3.8/site-packages (from botocore->-r requirements.txt (line 3)) (2.8.2)\n",
      "\u001b[36m58zyksoz5y-algo-1-cynzs |\u001b[0m Requirement already satisfied: pytz>=2020.1 in /opt/conda/lib/python3.8/site-packages (from pandas->-r requirements.txt (line 4)) (2022.7.1)\n",
      "\u001b[36m58zyksoz5y-algo-1-cynzs |\u001b[0m Collecting arrow\n",
      "\u001b[36m58zyksoz5y-algo-1-cynzs |\u001b[0m Downloading arrow-1.2.3-py3-none-any.whl (66 kB)\n",
      "\u001b[36m58zyksoz5y-algo-1-cynzs |\u001b[0m ━━━━━━━━━━━━━━━━━━━━━━━━━━━━━━━━━━━━━━━━ 66.4/66.4 kB 4.7 MB/s eta 0:00:00\n",
      "\u001b[36m58zyksoz5y-algo-1-cynzs |\u001b[0m \n",
      "\u001b[36m58zyksoz5y-algo-1-cynzs |\u001b[0m Collecting ansi2html\n",
      "\u001b[36m58zyksoz5y-algo-1-cynzs |\u001b[0m Downloading ansi2html-1.8.0-py3-none-any.whl (16 kB)\n",
      "\u001b[36m58zyksoz5y-algo-1-cynzs |\u001b[0m Collecting flask-restful\n",
      "\u001b[36m58zyksoz5y-algo-1-cynzs |\u001b[0m Downloading Flask_RESTful-0.3.9-py2.py3-none-any.whl (25 kB)\n",
      "\u001b[36m58zyksoz5y-algo-1-cynzs |\u001b[0m Collecting pynvml\n",
      "\u001b[36m58zyksoz5y-algo-1-cynzs |\u001b[0m Downloading pynvml-11.5.0-py3-none-any.whl (53 kB)\n",
      "\u001b[36m58zyksoz5y-algo-1-cynzs |\u001b[0m ━━━━━━━━━━━━━━━━━━━━━━━━━━━━━━━━━━━━━━━━ 53.1/53.1 kB 11.8 MB/s eta 0:00:00\n",
      "\u001b[36m58zyksoz5y-algo-1-cynzs |\u001b[0m \n",
      "\u001b[36m58zyksoz5y-algo-1-cynzs |\u001b[0m Requirement already satisfied: six in /opt/conda/lib/python3.8/site-packages (from nvgpu->-r requirements.txt (line 5)) (1.16.0)\n",
      "\u001b[36m58zyksoz5y-algo-1-cynzs |\u001b[0m Collecting termcolor\n",
      "\u001b[36m58zyksoz5y-algo-1-cynzs |\u001b[0m Downloading termcolor-2.2.0-py3-none-any.whl (6.6 kB)\n",
      "\u001b[36m58zyksoz5y-algo-1-cynzs |\u001b[0m Collecting flask\n",
      "\u001b[36m58zyksoz5y-algo-1-cynzs |\u001b[0m Downloading Flask-2.2.3-py3-none-any.whl (101 kB)\n",
      "\u001b[36m58zyksoz5y-algo-1-cynzs |\u001b[0m ━━━━━━━━━━━━━━━━━━━━━━━━━━━━━━━━━━━━━━ 101.8/101.8 kB 15.1 MB/s eta 0:00:00\n",
      "\u001b[36m58zyksoz5y-algo-1-cynzs |\u001b[0m \n",
      "\u001b[36m58zyksoz5y-algo-1-cynzs |\u001b[0m Requirement already satisfied: tabulate in /opt/conda/lib/python3.8/site-packages (from nvgpu->-r requirements.txt (line 5)) (0.9.0)\n",
      "\u001b[36m58zyksoz5y-algo-1-cynzs |\u001b[0m Requirement already satisfied: requests in /opt/conda/lib/python3.8/site-packages (from nvgpu->-r requirements.txt (line 5)) (2.28.2)\n",
      "\u001b[36m58zyksoz5y-algo-1-cynzs |\u001b[0m Requirement already satisfied: psutil in /opt/conda/lib/python3.8/site-packages (from nvgpu->-r requirements.txt (line 5)) (5.9.4)\n",
      "\u001b[36m58zyksoz5y-algo-1-cynzs |\u001b[0m Requirement already satisfied: zipp>=0.5 in /opt/conda/lib/python3.8/site-packages (from importlib-metadata<5.0,>=1.4.0->sagemaker->-r requirements.txt (line 1)) (3.13.0)\n",
      "\u001b[36m58zyksoz5y-algo-1-cynzs |\u001b[0m Requirement already satisfied: Jinja2>=3.0 in /opt/conda/lib/python3.8/site-packages (from flask->nvgpu->-r requirements.txt (line 5)) (3.1.2)\n",
      "\u001b[36m58zyksoz5y-algo-1-cynzs |\u001b[0m Requirement already satisfied: click>=8.0 in /opt/conda/lib/python3.8/site-packages (from flask->nvgpu->-r requirements.txt (line 5)) (8.1.3)\n",
      "\u001b[36m58zyksoz5y-algo-1-cynzs |\u001b[0m Requirement already satisfied: Werkzeug>=2.2.2 in /opt/conda/lib/python3.8/site-packages (from flask->nvgpu->-r requirements.txt (line 5)) (2.2.3)\n",
      "\u001b[36m58zyksoz5y-algo-1-cynzs |\u001b[0m Collecting itsdangerous>=2.0\n",
      "\u001b[36m58zyksoz5y-algo-1-cynzs |\u001b[0m Downloading itsdangerous-2.1.2-py3-none-any.whl (15 kB)\n",
      "\u001b[36m58zyksoz5y-algo-1-cynzs |\u001b[0m Collecting aniso8601>=0.82\n",
      "\u001b[36m58zyksoz5y-algo-1-cynzs |\u001b[0m Downloading aniso8601-9.0.1-py2.py3-none-any.whl (52 kB)\n",
      "\u001b[36m58zyksoz5y-algo-1-cynzs |\u001b[0m ━━━━━━━━━━━━━━━━━━━━━━━━━━━━━━━━━━━━━━━━ 52.8/52.8 kB 16.3 MB/s eta 0:00:00\n",
      "\u001b[36m58zyksoz5y-algo-1-cynzs |\u001b[0m \n",
      "\u001b[36m58zyksoz5y-algo-1-cynzs |\u001b[0m Requirement already satisfied: multiprocess>=0.70.14 in /opt/conda/lib/python3.8/site-packages (from pathos->sagemaker->-r requirements.txt (line 1)) (0.70.14)\n",
      "\u001b[36m58zyksoz5y-algo-1-cynzs |\u001b[0m Requirement already satisfied: ppft>=1.7.6.6 in /opt/conda/lib/python3.8/site-packages (from pathos->sagemaker->-r requirements.txt (line 1)) (1.7.6.6)\n",
      "\u001b[36m58zyksoz5y-algo-1-cynzs |\u001b[0m Requirement already satisfied: dill>=0.3.6 in /opt/conda/lib/python3.8/site-packages (from pathos->sagemaker->-r requirements.txt (line 1)) (0.3.6)\n",
      "\u001b[36m58zyksoz5y-algo-1-cynzs |\u001b[0m Requirement already satisfied: pox>=0.3.2 in /opt/conda/lib/python3.8/site-packages (from pathos->sagemaker->-r requirements.txt (line 1)) (0.3.2)\n",
      "\u001b[36m58zyksoz5y-algo-1-cynzs |\u001b[0m Requirement already satisfied: certifi>=2017.4.17 in /opt/conda/lib/python3.8/site-packages (from requests->nvgpu->-r requirements.txt (line 5)) (2022.12.7)\n",
      "\u001b[36m58zyksoz5y-algo-1-cynzs |\u001b[0m Requirement already satisfied: charset-normalizer<4,>=2 in /opt/conda/lib/python3.8/site-packages (from requests->nvgpu->-r requirements.txt (line 5)) (2.1.1)\n",
      "\u001b[36m58zyksoz5y-algo-1-cynzs |\u001b[0m Requirement already satisfied: idna<4,>=2.5 in /opt/conda/lib/python3.8/site-packages (from requests->nvgpu->-r requirements.txt (line 5)) (3.4)\n",
      "\u001b[36m58zyksoz5y-algo-1-cynzs |\u001b[0m Requirement already satisfied: contextlib2>=0.5.5 in /opt/conda/lib/python3.8/site-packages (from schema->sagemaker->-r requirements.txt (line 1)) (21.6.0)\n",
      "\u001b[36m58zyksoz5y-algo-1-cynzs |\u001b[0m Requirement already satisfied: MarkupSafe>=2.0 in /opt/conda/lib/python3.8/site-packages (from Jinja2>=3.0->flask->nvgpu->-r requirements.txt (line 5)) (2.1.2)\n",
      "\u001b[36m58zyksoz5y-algo-1-cynzs |\u001b[0m Installing collected packages: aniso8601, termcolor, pynvml, itsdangerous, ansi2html, flask, arrow, flask-restful, nvgpu\n",
      "\u001b[36m58zyksoz5y-algo-1-cynzs |\u001b[0m Successfully installed aniso8601-9.0.1 ansi2html-1.8.0 arrow-1.2.3 flask-2.2.3 flask-restful-0.3.9 itsdangerous-2.1.2 nvgpu-0.9.0 pynvml-11.5.0 termcolor-2.2.0\n",
      "\u001b[36m58zyksoz5y-algo-1-cynzs |\u001b[0m WARNING: Running pip as the 'root' user can result in broken permissions and conflicting behaviour with the system package manager. It is recommended to use a virtual environment instead: https://pip.pypa.io/warnings/venv\n",
      "\u001b[36m58zyksoz5y-algo-1-cynzs |\u001b[0m [notice] A new release of pip is available: 23.0 -> 23.0.1\n",
      "\u001b[36m58zyksoz5y-algo-1-cynzs |\u001b[0m [notice] To update, run: pip install --upgrade pip\n",
      "\u001b[36m58zyksoz5y-algo-1-cynzs |\u001b[0m 2023-03-02 04:50:14,767 sagemaker-training-toolkit INFO     Waiting for the process to finish and give a return code.\n",
      "\u001b[36m58zyksoz5y-algo-1-cynzs |\u001b[0m 2023-03-02 04:50:14,767 sagemaker-training-toolkit INFO     Done waiting for a return code. Received 0 from exiting process.\n",
      "\u001b[36m58zyksoz5y-algo-1-cynzs |\u001b[0m 2023-03-02 04:50:14,789 sagemaker-training-toolkit INFO     No Neurons detected (normal if no neurons installed)\n",
      "\u001b[36m58zyksoz5y-algo-1-cynzs |\u001b[0m 2023-03-02 04:50:14,797 sagemaker-training-toolkit INFO     instance_groups entry not present in resource_config\n",
      "\u001b[36m58zyksoz5y-algo-1-cynzs |\u001b[0m 2023-03-02 04:50:14,821 sagemaker-training-toolkit INFO     No Neurons detected (normal if no neurons installed)\n",
      "\u001b[36m58zyksoz5y-algo-1-cynzs |\u001b[0m 2023-03-02 04:50:14,830 sagemaker-training-toolkit INFO     instance_groups entry not present in resource_config\n",
      "\u001b[36m58zyksoz5y-algo-1-cynzs |\u001b[0m 2023-03-02 04:50:14,854 sagemaker-training-toolkit INFO     No Neurons detected (normal if no neurons installed)\n",
      "\u001b[36m58zyksoz5y-algo-1-cynzs |\u001b[0m 2023-03-02 04:50:14,862 sagemaker-training-toolkit INFO     instance_groups entry not present in resource_config\n",
      "\u001b[36m58zyksoz5y-algo-1-cynzs |\u001b[0m 2023-03-02 04:50:14,865 sagemaker-training-toolkit INFO     Invoking user script\n",
      "\u001b[36m58zyksoz5y-algo-1-cynzs |\u001b[0m \n",
      "\u001b[36m58zyksoz5y-algo-1-cynzs |\u001b[0m Training Env:\n",
      "\u001b[36m58zyksoz5y-algo-1-cynzs |\u001b[0m \n",
      "\u001b[36m58zyksoz5y-algo-1-cynzs |\u001b[0m {\n",
      "\u001b[36m58zyksoz5y-algo-1-cynzs |\u001b[0m     \"additional_framework_parameters\": {},\n",
      "\u001b[36m58zyksoz5y-algo-1-cynzs |\u001b[0m     \"channel_input_dirs\": {\n",
      "\u001b[36m58zyksoz5y-algo-1-cynzs |\u001b[0m         \"TR\": \"/opt/ml/input/data/TR\"\n",
      "\u001b[36m58zyksoz5y-algo-1-cynzs |\u001b[0m     },\n",
      "\u001b[36m58zyksoz5y-algo-1-cynzs |\u001b[0m     \"current_host\": \"algo-1-cynzs\",\n",
      "\u001b[36m58zyksoz5y-algo-1-cynzs |\u001b[0m     \"current_instance_group\": \"homogeneousCluster\",\n",
      "\u001b[36m58zyksoz5y-algo-1-cynzs |\u001b[0m     \"current_instance_group_hosts\": [],\n",
      "\u001b[36m58zyksoz5y-algo-1-cynzs |\u001b[0m     \"current_instance_type\": \"local\",\n",
      "\u001b[36m58zyksoz5y-algo-1-cynzs |\u001b[0m     \"distribution_hosts\": [\n",
      "\u001b[36m58zyksoz5y-algo-1-cynzs |\u001b[0m         \"algo-1-cynzs\"\n",
      "\u001b[36m58zyksoz5y-algo-1-cynzs |\u001b[0m     ],\n",
      "\u001b[36m58zyksoz5y-algo-1-cynzs |\u001b[0m     \"distribution_instance_groups\": [],\n",
      "\u001b[36m58zyksoz5y-algo-1-cynzs |\u001b[0m     \"framework_module\": \"sagemaker_pytorch_container.training:main\",\n",
      "\u001b[36m58zyksoz5y-algo-1-cynzs |\u001b[0m     \"hosts\": [\n",
      "\u001b[36m58zyksoz5y-algo-1-cynzs |\u001b[0m         \"algo-1-cynzs\"\n",
      "\u001b[36m58zyksoz5y-algo-1-cynzs |\u001b[0m     ],\n",
      "\u001b[36m58zyksoz5y-algo-1-cynzs |\u001b[0m     \"hyperparameters\": {},\n",
      "\u001b[36m58zyksoz5y-algo-1-cynzs |\u001b[0m     \"input_config_dir\": \"/opt/ml/input/config\",\n",
      "\u001b[36m58zyksoz5y-algo-1-cynzs |\u001b[0m     \"input_data_config\": {\n",
      "\u001b[36m58zyksoz5y-algo-1-cynzs |\u001b[0m         \"TR\": {\n",
      "\u001b[36m58zyksoz5y-algo-1-cynzs |\u001b[0m             \"TrainingInputMode\": \"File\"\n",
      "\u001b[36m58zyksoz5y-algo-1-cynzs |\u001b[0m         }\n",
      "\u001b[36m58zyksoz5y-algo-1-cynzs |\u001b[0m     },\n",
      "\u001b[36m58zyksoz5y-algo-1-cynzs |\u001b[0m     \"input_dir\": \"/opt/ml/input\",\n",
      "\u001b[36m58zyksoz5y-algo-1-cynzs |\u001b[0m     \"instance_groups\": [],\n",
      "\u001b[36m58zyksoz5y-algo-1-cynzs |\u001b[0m     \"instance_groups_dict\": {},\n",
      "\u001b[36m58zyksoz5y-algo-1-cynzs |\u001b[0m     \"is_hetero\": false,\n",
      "\u001b[36m58zyksoz5y-algo-1-cynzs |\u001b[0m     \"is_master\": true,\n",
      "\u001b[36m58zyksoz5y-algo-1-cynzs |\u001b[0m     \"is_modelparallel_enabled\": null,\n",
      "\u001b[36m58zyksoz5y-algo-1-cynzs |\u001b[0m     \"is_smddpmprun_installed\": true,\n",
      "\u001b[36m58zyksoz5y-algo-1-cynzs |\u001b[0m     \"job_name\": \"pytorch-training-2023-03-02-04-50-07-688\",\n",
      "\u001b[36m58zyksoz5y-algo-1-cynzs |\u001b[0m     \"log_level\": 20,\n",
      "\u001b[36m58zyksoz5y-algo-1-cynzs |\u001b[0m     \"master_hostname\": \"algo-1-cynzs\",\n",
      "\u001b[36m58zyksoz5y-algo-1-cynzs |\u001b[0m     \"model_dir\": \"/opt/ml/model\",\n",
      "\u001b[36m58zyksoz5y-algo-1-cynzs |\u001b[0m     \"module_dir\": \"s3://sagemaker-ap-northeast-2-419974056037/pytorch-training-2023-03-02-04-50-07-688/source/sourcedir.tar.gz\",\n",
      "\u001b[36m58zyksoz5y-algo-1-cynzs |\u001b[0m     \"module_name\": \"cifar10\",\n",
      "\u001b[36m58zyksoz5y-algo-1-cynzs |\u001b[0m     \"network_interface_name\": \"eth0\",\n",
      "\u001b[36m58zyksoz5y-algo-1-cynzs |\u001b[0m     \"num_cpus\": 8,\n",
      "\u001b[36m58zyksoz5y-algo-1-cynzs |\u001b[0m     \"num_gpus\": 1,\n",
      "\u001b[36m58zyksoz5y-algo-1-cynzs |\u001b[0m     \"num_neurons\": 0,\n",
      "\u001b[36m58zyksoz5y-algo-1-cynzs |\u001b[0m     \"output_data_dir\": \"/opt/ml/output/data\",\n",
      "\u001b[36m58zyksoz5y-algo-1-cynzs |\u001b[0m     \"output_dir\": \"/opt/ml/output\",\n",
      "\u001b[36m58zyksoz5y-algo-1-cynzs |\u001b[0m     \"output_intermediate_dir\": \"/opt/ml/output/intermediate\",\n",
      "\u001b[36m58zyksoz5y-algo-1-cynzs |\u001b[0m     \"resource_config\": {\n",
      "\u001b[36m58zyksoz5y-algo-1-cynzs |\u001b[0m         \"current_host\": \"algo-1-cynzs\",\n",
      "\u001b[36m58zyksoz5y-algo-1-cynzs |\u001b[0m         \"hosts\": [\n",
      "\u001b[36m58zyksoz5y-algo-1-cynzs |\u001b[0m             \"algo-1-cynzs\"\n",
      "\u001b[36m58zyksoz5y-algo-1-cynzs |\u001b[0m         ]\n",
      "\u001b[36m58zyksoz5y-algo-1-cynzs |\u001b[0m     },\n",
      "\u001b[36m58zyksoz5y-algo-1-cynzs |\u001b[0m     \"user_entry_point\": \"cifar10.py\"\n",
      "\u001b[36m58zyksoz5y-algo-1-cynzs |\u001b[0m }\n",
      "\u001b[36m58zyksoz5y-algo-1-cynzs |\u001b[0m \n",
      "\u001b[36m58zyksoz5y-algo-1-cynzs |\u001b[0m Environment variables:\n",
      "\u001b[36m58zyksoz5y-algo-1-cynzs |\u001b[0m \n",
      "\u001b[36m58zyksoz5y-algo-1-cynzs |\u001b[0m SM_HOSTS=[\"algo-1-cynzs\"]\n",
      "\u001b[36m58zyksoz5y-algo-1-cynzs |\u001b[0m SM_NETWORK_INTERFACE_NAME=eth0\n",
      "\u001b[36m58zyksoz5y-algo-1-cynzs |\u001b[0m SM_HPS={}\n",
      "\u001b[36m58zyksoz5y-algo-1-cynzs |\u001b[0m SM_USER_ENTRY_POINT=cifar10.py\n",
      "\u001b[36m58zyksoz5y-algo-1-cynzs |\u001b[0m SM_FRAMEWORK_PARAMS={}\n",
      "\u001b[36m58zyksoz5y-algo-1-cynzs |\u001b[0m SM_RESOURCE_CONFIG={\"current_host\":\"algo-1-cynzs\",\"hosts\":[\"algo-1-cynzs\"]}\n",
      "\u001b[36m58zyksoz5y-algo-1-cynzs |\u001b[0m SM_INPUT_DATA_CONFIG={\"TR\":{\"TrainingInputMode\":\"File\"}}\n",
      "\u001b[36m58zyksoz5y-algo-1-cynzs |\u001b[0m SM_OUTPUT_DATA_DIR=/opt/ml/output/data\n",
      "\u001b[36m58zyksoz5y-algo-1-cynzs |\u001b[0m SM_CHANNELS=[\"TR\"]\n",
      "\u001b[36m58zyksoz5y-algo-1-cynzs |\u001b[0m SM_CURRENT_HOST=algo-1-cynzs\n",
      "\u001b[36m58zyksoz5y-algo-1-cynzs |\u001b[0m SM_CURRENT_INSTANCE_TYPE=local\n",
      "\u001b[36m58zyksoz5y-algo-1-cynzs |\u001b[0m SM_CURRENT_INSTANCE_GROUP=homogeneousCluster\n",
      "\u001b[36m58zyksoz5y-algo-1-cynzs |\u001b[0m SM_CURRENT_INSTANCE_GROUP_HOSTS=[]\n",
      "\u001b[36m58zyksoz5y-algo-1-cynzs |\u001b[0m SM_INSTANCE_GROUPS=[]\n",
      "\u001b[36m58zyksoz5y-algo-1-cynzs |\u001b[0m SM_INSTANCE_GROUPS_DICT={}\n",
      "\u001b[36m58zyksoz5y-algo-1-cynzs |\u001b[0m SM_DISTRIBUTION_INSTANCE_GROUPS=[]\n",
      "\u001b[36m58zyksoz5y-algo-1-cynzs |\u001b[0m SM_IS_HETERO=false\n",
      "\u001b[36m58zyksoz5y-algo-1-cynzs |\u001b[0m SM_MODULE_NAME=cifar10\n",
      "\u001b[36m58zyksoz5y-algo-1-cynzs |\u001b[0m SM_LOG_LEVEL=20\n",
      "\u001b[36m58zyksoz5y-algo-1-cynzs |\u001b[0m SM_FRAMEWORK_MODULE=sagemaker_pytorch_container.training:main\n",
      "\u001b[36m58zyksoz5y-algo-1-cynzs |\u001b[0m SM_INPUT_DIR=/opt/ml/input\n",
      "\u001b[36m58zyksoz5y-algo-1-cynzs |\u001b[0m SM_INPUT_CONFIG_DIR=/opt/ml/input/config\n",
      "\u001b[36m58zyksoz5y-algo-1-cynzs |\u001b[0m SM_OUTPUT_DIR=/opt/ml/output\n",
      "\u001b[36m58zyksoz5y-algo-1-cynzs |\u001b[0m SM_NUM_CPUS=8\n",
      "\u001b[36m58zyksoz5y-algo-1-cynzs |\u001b[0m SM_NUM_GPUS=1\n",
      "\u001b[36m58zyksoz5y-algo-1-cynzs |\u001b[0m SM_NUM_NEURONS=0\n",
      "\u001b[36m58zyksoz5y-algo-1-cynzs |\u001b[0m SM_MODEL_DIR=/opt/ml/model\n",
      "\u001b[36m58zyksoz5y-algo-1-cynzs |\u001b[0m SM_MODULE_DIR=s3://sagemaker-ap-northeast-2-419974056037/pytorch-training-2023-03-02-04-50-07-688/source/sourcedir.tar.gz\n",
      "\u001b[36m58zyksoz5y-algo-1-cynzs |\u001b[0m SM_TRAINING_ENV={\"additional_framework_parameters\":{},\"channel_input_dirs\":{\"TR\":\"/opt/ml/input/data/TR\"},\"current_host\":\"algo-1-cynzs\",\"current_instance_group\":\"homogeneousCluster\",\"current_instance_group_hosts\":[],\"current_instance_type\":\"local\",\"distribution_hosts\":[\"algo-1-cynzs\"],\"distribution_instance_groups\":[],\"framework_module\":\"sagemaker_pytorch_container.training:main\",\"hosts\":[\"algo-1-cynzs\"],\"hyperparameters\":{},\"input_config_dir\":\"/opt/ml/input/config\",\"input_data_config\":{\"TR\":{\"TrainingInputMode\":\"File\"}},\"input_dir\":\"/opt/ml/input\",\"instance_groups\":[],\"instance_groups_dict\":{},\"is_hetero\":false,\"is_master\":true,\"is_modelparallel_enabled\":null,\"is_smddpmprun_installed\":true,\"job_name\":\"pytorch-training-2023-03-02-04-50-07-688\",\"log_level\":20,\"master_hostname\":\"algo-1-cynzs\",\"model_dir\":\"/opt/ml/model\",\"module_dir\":\"s3://sagemaker-ap-northeast-2-419974056037/pytorch-training-2023-03-02-04-50-07-688/source/sourcedir.tar.gz\",\"module_name\":\"cifar10\",\"network_interface_name\":\"eth0\",\"num_cpus\":8,\"num_gpus\":1,\"num_neurons\":0,\"output_data_dir\":\"/opt/ml/output/data\",\"output_dir\":\"/opt/ml/output\",\"output_intermediate_dir\":\"/opt/ml/output/intermediate\",\"resource_config\":{\"current_host\":\"algo-1-cynzs\",\"hosts\":[\"algo-1-cynzs\"]},\"user_entry_point\":\"cifar10.py\"}\n",
      "\u001b[36m58zyksoz5y-algo-1-cynzs |\u001b[0m SM_USER_ARGS=[]\n",
      "\u001b[36m58zyksoz5y-algo-1-cynzs |\u001b[0m SM_OUTPUT_INTERMEDIATE_DIR=/opt/ml/output/intermediate\n",
      "\u001b[36m58zyksoz5y-algo-1-cynzs |\u001b[0m SM_CHANNEL_TR=/opt/ml/input/data/TR\n",
      "\u001b[36m58zyksoz5y-algo-1-cynzs |\u001b[0m PYTHONPATH=/opt/ml/code:/opt/conda/bin:/opt/conda/lib/python38.zip:/opt/conda/lib/python3.8:/opt/conda/lib/python3.8/lib-dynload:/opt/conda/lib/python3.8/site-packages:/opt/conda/lib/python3.8/site-packages/smdebug-1.0.24b20230214-py3.8.egg:/opt/conda/lib/python3.8/site-packages/pyinstrument-3.4.2-py3.8.egg:/opt/conda/lib/python3.8/site-packages/pyinstrument_cext-0.2.4-py3.8-linux-x86_64.egg:/opt/conda/lib/python3.8/site-packages/flash_attn-0.1-py3.8-linux-x86_64.egg:/opt/conda/lib/python3.8/site-packages/einops-0.6.0-py3.8.egg\n",
      "\u001b[36m58zyksoz5y-algo-1-cynzs |\u001b[0m \n",
      "\u001b[36m58zyksoz5y-algo-1-cynzs |\u001b[0m Invoking script with the following command:\n",
      "\u001b[36m58zyksoz5y-algo-1-cynzs |\u001b[0m \n",
      "\u001b[36m58zyksoz5y-algo-1-cynzs |\u001b[0m /opt/conda/bin/python3.8 cifar10.py\n",
      "\u001b[36m58zyksoz5y-algo-1-cynzs |\u001b[0m \n",
      "\u001b[36m58zyksoz5y-algo-1-cynzs |\u001b[0m \n",
      "\u001b[36m58zyksoz5y-algo-1-cynzs |\u001b[0m 2023-03-02 04:50:17,419 sagemaker-training-toolkit INFO     Exceptions not imported for SageMaker TF as Tensorflow is not installed.\n",
      "\u001b[36m58zyksoz5y-algo-1-cynzs |\u001b[0m [2023-03-02 04:50:22.650 algo-1-cynzs:60 INFO utils.py:28] RULE_JOB_STOP_SIGNAL_FILENAME: None\n",
      "\u001b[36m58zyksoz5y-algo-1-cynzs |\u001b[0m /opt/conda/lib/python3.8/site-packages/smdebug-1.0.24b20230214-py3.8.egg/smdebug/profiler/system_metrics_reader.py:78: SyntaxWarning: \"is not\" with a literal. Did you mean \"!=\"?\n",
      "\u001b[36m58zyksoz5y-algo-1-cynzs |\u001b[0m /opt/conda/lib/python3.8/site-packages/smdebug-1.0.24b20230214-py3.8.egg/smdebug/profiler/system_metrics_reader.py:78: SyntaxWarning: \"is not\" with a literal. Did you mean \"!=\"?\n",
      "\u001b[36m58zyksoz5y-algo-1-cynzs |\u001b[0m [2023-03-02 04:50:23.103 algo-1-cynzs:60 INFO profiler_config_parser.py:111] Unable to find config at /opt/ml/input/config/profilerconfig.json. Profiler is disabled.\n",
      "\u001b[36m58zyksoz5y-algo-1-cynzs |\u001b[0m [1,  2000] loss: 2.243\n",
      "\u001b[36m58zyksoz5y-algo-1-cynzs |\u001b[0m [1,  4000] loss: 1.904\n",
      "\u001b[36m58zyksoz5y-algo-1-cynzs |\u001b[0m [1,  6000] loss: 1.696\n",
      "\u001b[36m58zyksoz5y-algo-1-cynzs |\u001b[0m [1,  8000] loss: 1.587\n",
      "\u001b[36m58zyksoz5y-algo-1-cynzs |\u001b[0m [1, 10000] loss: 1.533\n",
      "\u001b[36m58zyksoz5y-algo-1-cynzs |\u001b[0m [1, 12000] loss: 1.466\n",
      "\u001b[36m58zyksoz5y-algo-1-cynzs |\u001b[0m [2,  2000] loss: 1.404\n",
      "\u001b[36m58zyksoz5y-algo-1-cynzs |\u001b[0m [2,  4000] loss: 1.384\n",
      "\u001b[36m58zyksoz5y-algo-1-cynzs |\u001b[0m [2,  6000] loss: 1.350\n",
      "\u001b[36m58zyksoz5y-algo-1-cynzs |\u001b[0m [2,  8000] loss: 1.333\n",
      "\u001b[36m58zyksoz5y-algo-1-cynzs |\u001b[0m [2, 10000] loss: 1.326\n",
      "\u001b[36m58zyksoz5y-algo-1-cynzs |\u001b[0m [2, 12000] loss: 1.272\n",
      "\u001b[36m58zyksoz5y-algo-1-cynzs |\u001b[0m Finished Training\n",
      "\u001b[36m58zyksoz5y-algo-1-cynzs |\u001b[0m INFO:__main__:Saving the model.\n",
      "\u001b[36m58zyksoz5y-algo-1-cynzs |\u001b[0m 2023-03-02 04:51:33,079 sagemaker-training-toolkit INFO     Waiting for the process to finish and give a return code.\n",
      "\u001b[36m58zyksoz5y-algo-1-cynzs |\u001b[0m 2023-03-02 04:51:33,080 sagemaker-training-toolkit INFO     Done waiting for a return code. Received 0 from exiting process.\n",
      "\u001b[36m58zyksoz5y-algo-1-cynzs |\u001b[0m 2023-03-02 04:51:33,080 sagemaker-training-toolkit INFO     Reporting training SUCCESS\n",
      "\u001b[36m58zyksoz5y-algo-1-cynzs exited with code 0\n",
      "\u001b[0mAborting on container exit...\n",
      "===== Job Complete =====\n"
     ]
    }
   ],
   "source": [
    "estimator = PyTorch(\n",
    "    source_dir=\"./source/train\",\n",
    "    entry_point=\"cifar10.py\",\n",
    "    role=pm.get_params(key=strPrefix + \"SAGEMAKER-ROLE-ARN\"),\n",
    "    framework_version=\"1.12.1\",\n",
    "    py_version=\"py38\",\n",
    "    instance_count=1,\n",
    "    #instance_type=\"ml.g4dn.xlarge\",\n",
    "    instance_type=\"local_gpu\",\n",
    "    session = sagemaker.LocalSession(), # 로컬 세션을 사용합니다.\n",
    "    output_path=f\"s3://{pm.get_params(key=strPrefix + 'BUCKET')}/{'byom-model-output'}\",\n",
    ")\n",
    "\n",
    "strDataChannel = \"TR\"\n",
    "estimator.fit(\n",
    "    inputs={strDataChannel: pm.get_params(key=strPrefix + \"DATA-PATH\")},\n",
    "    wait=True,\n",
    ")"
   ]
  },
  {
   "cell_type": "markdown",
   "id": "0ebf8832-80f7-49cc-9aca-4d3dc6eff96f",
   "metadata": {},
   "source": [
    "### 아래 코드는 학습이 완료된 후 에러없이 동작합니다. "
   ]
  },
  {
   "cell_type": "code",
   "execution_count": 9,
   "id": "07e290e9-c6a5-462e-854b-dd9a7672ae77",
   "metadata": {
    "tags": []
   },
   "outputs": [
    {
     "name": "stdout",
     "output_type": "stream",
     "text": [
      "Model artifact: s3://sagemaker-ap-northeast-2-419974056037/byom-model-output/pytorch-training-2023-03-02-04-50-07-688/model.tar.gz\n",
      "Train image uri: 763104351884.dkr.ecr.ap-northeast-2.amazonaws.com/pytorch-training:1.12.1-gpu-py38\n"
     ]
    }
   ],
   "source": [
    "pm.put_params(key=strPrefix + \"S3-MODEL-ARTIFACT\", value=estimator.model_data, overwrite=True)\n",
    "pm.put_params(key=strPrefix + \"TRAIN-IMAGE-URI\", value=estimator.training_image_uri(), overwrite=True)\n",
    "print (f\"Model artifact: {estimator.model_data}\")\n",
    "print (f\"Train image uri: {estimator.training_image_uri()}\")"
   ]
  },
  {
   "cell_type": "markdown",
   "id": "a505d75e-b59c-47e4-88d7-8a222419580c",
   "metadata": {},
   "source": [
    "### 2.1 with custom image"
   ]
  },
  {
   "cell_type": "markdown",
   "id": "6b8cb149-a4ee-4567-b1a4-dc8db096b804",
   "metadata": {},
   "source": [
    "#### 2.2.1. Build a docker and Register the image to ECR "
   ]
  },
  {
   "cell_type": "code",
   "execution_count": 60,
   "id": "65c40a2c-b2bf-4ca5-aeab-2a618e1af448",
   "metadata": {
    "tags": []
   },
   "outputs": [],
   "source": [
    "import boto3\n",
    "from utils.ecr import ecr_handler"
   ]
  },
  {
   "cell_type": "code",
   "execution_count": 61,
   "id": "775eb7ed-c375-4bb2-964e-993cf86740f3",
   "metadata": {
    "tags": []
   },
   "outputs": [],
   "source": [
    "ecr = ecr_handler()"
   ]
  },
  {
   "cell_type": "markdown",
   "id": "f69dc5ee-d7ca-4298-93b8-dcfc39116824",
   "metadata": {},
   "source": [
    "### 소스코드는 2가지 방식으로 제공 할 수 있음\n",
    "* 1.docker image 생성 시 도커 내 \"/opt/ml/code\"에 코드를 복사하는 방법\n",
    "    - \"DockerFile\"에서 \"COPY ./code /opt/ml/code\" 이용, 아래 copy_tree 사용\n",
    "* 2.docker image에 넣지 않고, esimator 셋팅 시 소스코드 전달하는 방법 (예제에서 사용하는 방법)\n",
    "    - \"source_dir\", \"entry_point\" 활용"
   ]
  },
  {
   "cell_type": "code",
   "execution_count": 62,
   "id": "07fdd40f-7bc8-461c-ae74-6955c2a876b6",
   "metadata": {
    "tags": []
   },
   "outputs": [
    {
     "data": {
      "text/plain": [
       "['./docker/code/cifar10.py',\n",
       " './docker/code/.ipynb_checkpoints/cifar10-checkpoint.py',\n",
       " './docker/code/.ipynb_checkpoints/requirements-checkpoint.txt',\n",
       " './docker/code/requirements.txt']"
      ]
     },
     "execution_count": 62,
     "metadata": {},
     "output_type": "execute_result"
    }
   ],
   "source": [
    "#copy_tree(\"./source/train\", \"./docker/code\") "
   ]
  },
  {
   "cell_type": "code",
   "execution_count": 63,
   "id": "719b288c-f1e6-4480-84d3-e20a352ee066",
   "metadata": {
    "tags": []
   },
   "outputs": [
    {
     "name": "stdout",
     "output_type": "stream",
     "text": [
      "\u001b[34mFROM\u001b[39;49;00m\u001b[37m \u001b[39;49;00m\u001b[33mpytorch/pytorch:1.4-cuda10.1-cudnn7-devel\u001b[39;49;00m\u001b[37m\u001b[39;49;00m\n",
      "\u001b[37m\u001b[39;49;00m\n",
      "\u001b[34mRUN\u001b[39;49;00m\u001b[37m \u001b[39;49;00mpython3\u001b[37m \u001b[39;49;00m-m\u001b[37m \u001b[39;49;00mpip\u001b[37m \u001b[39;49;00minstall\u001b[37m \u001b[39;49;00m--upgrade\u001b[37m \u001b[39;49;00mpip\u001b[37m\u001b[39;49;00m\n",
      "\u001b[34mRUN\u001b[39;49;00m\u001b[37m \u001b[39;49;00mpip3\u001b[37m \u001b[39;49;00minstall\u001b[37m \u001b[39;49;00mpyOpenSSL\u001b[37m \u001b[39;49;00m--upgrade\u001b[37m\u001b[39;49;00m\n",
      "\u001b[34mRUN\u001b[39;49;00m\u001b[37m \u001b[39;49;00mpip3\u001b[37m \u001b[39;49;00minstall\u001b[37m \u001b[39;49;00msagemaker-training\u001b[37m\u001b[39;49;00m\n",
      "\u001b[37m\u001b[39;49;00m\n",
      "\u001b[37m# Copies the training code inside the container\u001b[39;49;00m\u001b[37m\u001b[39;49;00m\n",
      "\u001b[37m#COPY ./code /opt/ml/code\u001b[39;49;00m\u001b[37m\u001b[39;49;00m\n",
      "\u001b[34mWORKDIR\u001b[39;49;00m\u001b[37m \u001b[39;49;00m\u001b[33m/opt/ml/code\u001b[39;49;00m\u001b[37m\u001b[39;49;00m\n",
      "\u001b[37m\u001b[39;49;00m\n",
      "\u001b[37m# Defines train.py as script entrypoint\u001b[39;49;00m\u001b[37m\u001b[39;49;00m\n",
      "\u001b[34mENV\u001b[39;49;00m\u001b[37m \u001b[39;49;00mSAGEMAKER_PROGRAM\u001b[37m \u001b[39;49;00mcifar10.py\u001b[37m\u001b[39;49;00m\n",
      "\u001b[34mENV\u001b[39;49;00m\u001b[37m \u001b[39;49;00mPYTHONUNBUFFERED\u001b[37m \u001b[39;49;00mTRUE\u001b[37m\u001b[39;49;00m\n"
     ]
    }
   ],
   "source": [
    "! pygmentize docker/Dockerfile"
   ]
  },
  {
   "cell_type": "code",
   "execution_count": 64,
   "id": "35872858-ac49-4aac-b7e8-169a8d245797",
   "metadata": {
    "tags": []
   },
   "outputs": [],
   "source": [
    "strRepositoryName = strPrefix + \"pytorch-container\"\n",
    "strRepositoryName = strRepositoryName.lower()\n",
    "strDockerDir = \"./docker/\"\n",
    "strTag = \":latest\"\n",
    "strRegionName=pm.get_params(key=strPrefix + \"REGION\")\n",
    "strAccountId=pm.get_params(key=strPrefix + \"ACCOUNT-ID\")  "
   ]
  },
  {
   "cell_type": "code",
   "execution_count": 65,
   "id": "ed367ff0-0a64-4b25-bf55-ec633fe7b241",
   "metadata": {
    "collapsed": true,
    "jupyter": {
     "outputs_hidden": true
    },
    "tags": []
   },
   "outputs": [
    {
     "name": "stdout",
     "output_type": "stream",
     "text": [
      "/home/ec2-user/SageMaker/sagemaker-train-deploy\n",
      "/home/ec2-user/SageMaker/sagemaker-train-deploy/docker\n",
      "Sending build context to Docker daemon  22.02kB\n",
      "\n",
      "Step 1/7 : FROM pytorch/pytorch:1.4-cuda10.1-cudnn7-devel\n",
      "1.4-cuda10.1-cudnn7-devel: Pulling from pytorch/pytorch\n",
      "7ddbc47eeb70: Pulling fs layer\n",
      "c1bbdc448b72: Pulling fs layer\n",
      "8c3b70e39044: Pulling fs layer\n",
      "45d437916d57: Pulling fs layer\n",
      "d8f1569ddae6: Pulling fs layer\n",
      "85386706b020: Pulling fs layer\n",
      "ee9b457b77d0: Pulling fs layer\n",
      "be4f3343ecd3: Pulling fs layer\n",
      "30b4effda4fd: Pulling fs layer\n",
      "b398e882f414: Pulling fs layer\n",
      "64e532b06236: Pulling fs layer\n",
      "31188d0173e6: Pulling fs layer\n",
      "4a1386f93f29: Pulling fs layer\n",
      "87d47d0287c7: Pulling fs layer\n",
      "7a932c9d3ad4: Pulling fs layer\n",
      "85386706b020: Waiting\n",
      "45d437916d57: Waiting\n",
      "be4f3343ecd3: Waiting\n",
      "b398e882f414: Waiting\n",
      "ee9b457b77d0: Waiting\n",
      "30b4effda4fd: Waiting\n",
      "64e532b06236: Waiting\n",
      "4a1386f93f29: Waiting\n",
      "31188d0173e6: Waiting\n",
      "7a932c9d3ad4: Waiting\n",
      "87d47d0287c7: Waiting\n",
      "d8f1569ddae6: Waiting\n",
      "8c3b70e39044: Verifying Checksum\n",
      "8c3b70e39044: Download complete\n",
      "c1bbdc448b72: Verifying Checksum\n",
      "c1bbdc448b72: Download complete\n",
      "7ddbc47eeb70: Verifying Checksum\n",
      "7ddbc47eeb70: Download complete\n",
      "45d437916d57: Verifying Checksum\n",
      "45d437916d57: Download complete\n",
      "d8f1569ddae6: Verifying Checksum\n",
      "d8f1569ddae6: Download complete\n",
      "7ddbc47eeb70: Pull complete\n",
      "c1bbdc448b72: Pull complete\n",
      "8c3b70e39044: Pull complete\n",
      "45d437916d57: Pull complete\n",
      "ee9b457b77d0: Verifying Checksum\n",
      "ee9b457b77d0: Download complete\n",
      "85386706b020: Verifying Checksum\n",
      "85386706b020: Download complete\n",
      "d8f1569ddae6: Pull complete\n",
      "85386706b020: Pull complete\n",
      "ee9b457b77d0: Pull complete\n",
      "b398e882f414: Download complete\n",
      "be4f3343ecd3: Verifying Checksum\n",
      "be4f3343ecd3: Download complete\n",
      "64e532b06236: Verifying Checksum\n",
      "64e532b06236: Download complete\n",
      "30b4effda4fd: Verifying Checksum\n",
      "30b4effda4fd: Download complete\n",
      "87d47d0287c7: Verifying Checksum\n",
      "87d47d0287c7: Download complete\n",
      "7a932c9d3ad4: Verifying Checksum\n",
      "7a932c9d3ad4: Download complete\n",
      "be4f3343ecd3: Pull complete\n",
      "4a1386f93f29: Download complete\n",
      "30b4effda4fd: Pull complete\n",
      "b398e882f414: Pull complete\n",
      "64e532b06236: Pull complete\n",
      "31188d0173e6: Verifying Checksum\n",
      "31188d0173e6: Download complete\n",
      "31188d0173e6: Pull complete\n",
      "4a1386f93f29: Pull complete\n",
      "87d47d0287c7: Pull complete\n",
      "7a932c9d3ad4: Pull complete\n",
      "Digest: sha256:c612782acc39256aac0637d58d297644066c62f6f84f0b88cfdc335bb25d0d22\n",
      "Status: Downloaded newer image for pytorch/pytorch:1.4-cuda10.1-cudnn7-devel\n",
      " ---> 76c152fbfd03\n",
      "Step 2/7 : RUN python3 -m pip install --upgrade pip\n",
      " ---> Running in 927c259a3320\n",
      "Collecting pip\n",
      "  Downloading https://files.pythonhosted.org/packages/07/51/2c0959c5adf988c44d9e1e0d940f5b074516ecc87e96b1af25f59de9ba38/pip-23.0.1-py3-none-any.whl (2.1MB)\n",
      "Installing collected packages: pip\n",
      "  Found existing installation: pip 19.3.1\n",
      "    Uninstalling pip-19.3.1:\n",
      "      Successfully uninstalled pip-19.3.1\n",
      "Successfully installed pip-23.0.1\n",
      "Removing intermediate container 927c259a3320\n",
      " ---> 261a0ceb214a\n",
      "Step 3/7 : RUN pip3 install pyOpenSSL --upgrade\n",
      " ---> Running in 79036cb15c7d\n",
      "Requirement already satisfied: pyOpenSSL in /opt/conda/lib/python3.7/site-packages (19.0.0)\n",
      "Collecting pyOpenSSL\n",
      "  Downloading pyOpenSSL-23.0.0-py3-none-any.whl (57 kB)\n",
      "     ━━━━━━━━━━━━━━━━━━━━━━━━━━━━━━━━━━━━━━━━ 57.3/57.3 kB 8.4 MB/s eta 0:00:00\n",
      "Collecting cryptography<40,>=38.0.0\n",
      "  Downloading cryptography-39.0.1-cp36-abi3-manylinux_2_24_x86_64.whl (4.1 MB)\n",
      "     ━━━━━━━━━━━━━━━━━━━━━━━━━━━━━━━━━━━━━━━━ 4.1/4.1 MB 96.7 MB/s eta 0:00:00\n",
      "Requirement already satisfied: cffi>=1.12 in /opt/conda/lib/python3.7/site-packages (from cryptography<40,>=38.0.0->pyOpenSSL) (1.13.0)\n",
      "Requirement already satisfied: pycparser in /opt/conda/lib/python3.7/site-packages (from cffi>=1.12->cryptography<40,>=38.0.0->pyOpenSSL) (2.19)\n",
      "Installing collected packages: cryptography, pyOpenSSL\n",
      "  Attempting uninstall: cryptography\n",
      "    Found existing installation: cryptography 2.8\n",
      "    Uninstalling cryptography-2.8:\n",
      "      Successfully uninstalled cryptography-2.8\n",
      "  Attempting uninstall: pyOpenSSL\n",
      "    Found existing installation: pyOpenSSL 19.0.0\n",
      "    Uninstalling pyOpenSSL-19.0.0:\n",
      "      Successfully uninstalled pyOpenSSL-19.0.0\n",
      "Successfully installed cryptography-39.0.1 pyOpenSSL-23.0.0\n",
      "\u001b[91mWARNING: Running pip as the 'root' user can result in broken permissions and conflicting behaviour with the system package manager. It is recommended to use a virtual environment instead: https://pip.pypa.io/warnings/venv\n",
      "\u001b[0mRemoving intermediate container 79036cb15c7d\n",
      " ---> eac4d5b38af0\n",
      "Step 4/7 : RUN pip3 install sagemaker-training\n",
      " ---> Running in c21a461b5cc2\n",
      "Collecting sagemaker-training\n",
      "  Downloading sagemaker_training-4.4.6.tar.gz (58 kB)\n",
      "     ━━━━━━━━━━━━━━━━━━━━━━━━━━━━━━━━━━━━━━━━ 58.6/58.6 kB 9.3 MB/s eta 0:00:00\n",
      "  Preparing metadata (setup.py): started\n",
      "  Preparing metadata (setup.py): finished with status 'done'\n",
      "Requirement already satisfied: numpy in /opt/conda/lib/python3.7/site-packages (from sagemaker-training) (1.17.4)\n",
      "Collecting boto3\n",
      "  Downloading boto3-1.26.82-py3-none-any.whl (134 kB)\n",
      "     ━━━━━━━━━━━━━━━━━━━━━━━━━━━━━━━━━━━━━━ 134.7/134.7 kB 29.1 MB/s eta 0:00:00\n",
      "Requirement already satisfied: six in /opt/conda/lib/python3.7/site-packages (from sagemaker-training) (1.12.0)\n",
      "Requirement already satisfied: pip in /opt/conda/lib/python3.7/site-packages (from sagemaker-training) (23.0.1)\n",
      "Collecting retrying>=1.3.3\n",
      "  Downloading retrying-1.3.4-py3-none-any.whl (11 kB)\n",
      "Collecting gevent\n",
      "  Downloading gevent-22.10.2-cp37-cp37m-manylinux_2_17_x86_64.manylinux2014_x86_64.whl (6.0 MB)\n",
      "     ━━━━━━━━━━━━━━━━━━━━━━━━━━━━━━━━━━━━━━━━ 6.0/6.0 MB 112.3 MB/s eta 0:00:00\n",
      "Collecting inotify_simple==1.2.1\n",
      "  Downloading inotify_simple-1.2.1.tar.gz (7.9 kB)\n",
      "  Preparing metadata (setup.py): started\n",
      "  Preparing metadata (setup.py): finished with status 'done'\n",
      "Collecting werkzeug>=0.15.5\n",
      "  Downloading Werkzeug-2.2.3-py3-none-any.whl (233 kB)\n",
      "     ━━━━━━━━━━━━━━━━━━━━━━━━━━━━━━━━━━━━━━ 233.6/233.6 kB 53.2 MB/s eta 0:00:00\n",
      "Collecting paramiko>=2.4.2\n",
      "  Downloading paramiko-3.0.0-py3-none-any.whl (210 kB)\n",
      "     ━━━━━━━━━━━━━━━━━━━━━━━━━━━━━━━━━━━━━━ 210.8/210.8 kB 48.2 MB/s eta 0:00:00\n",
      "Requirement already satisfied: psutil>=5.6.7 in /opt/conda/lib/python3.7/site-packages (from sagemaker-training) (5.6.7)\n",
      "Collecting protobuf<=3.20.2,>=3.9.2\n",
      "  Downloading protobuf-3.20.2-cp37-cp37m-manylinux_2_5_x86_64.manylinux1_x86_64.whl (1.0 MB)\n",
      "     ━━━━━━━━━━━━━━━━━━━━━━━━━━━━━━━━━━━━━━━━ 1.0/1.0 MB 93.5 MB/s eta 0:00:00\n",
      "Collecting scipy>=1.2.2\n",
      "  Downloading scipy-1.7.3-cp37-cp37m-manylinux_2_12_x86_64.manylinux2010_x86_64.whl (38.1 MB)\n",
      "     ━━━━━━━━━━━━━━━━━━━━━━━━━━━━━━━━━━━━━━━━ 38.1/38.1 MB 52.2 MB/s eta 0:00:00\n",
      "Collecting bcrypt>=3.2\n",
      "  Downloading bcrypt-4.0.1-cp36-abi3-manylinux_2_24_x86_64.whl (593 kB)\n",
      "     ━━━━━━━━━━━━━━━━━━━━━━━━━━━━━━━━━━━━━━ 593.2/593.2 kB 84.0 MB/s eta 0:00:00\n",
      "Requirement already satisfied: cryptography>=3.3 in /opt/conda/lib/python3.7/site-packages (from paramiko>=2.4.2->sagemaker-training) (39.0.1)\n",
      "Collecting pynacl>=1.5\n",
      "  Downloading PyNaCl-1.5.0-cp36-abi3-manylinux_2_17_x86_64.manylinux2014_x86_64.manylinux_2_24_x86_64.whl (856 kB)\n",
      "     ━━━━━━━━━━━━━━━━━━━━━━━━━━━━━━━━━━━━━━ 856.7/856.7 kB 97.7 MB/s eta 0:00:00\n",
      "Collecting MarkupSafe>=2.1.1\n",
      "  Downloading MarkupSafe-2.1.2-cp37-cp37m-manylinux_2_17_x86_64.manylinux2014_x86_64.whl (25 kB)\n",
      "Collecting s3transfer<0.7.0,>=0.6.0\n",
      "  Downloading s3transfer-0.6.0-py3-none-any.whl (79 kB)\n",
      "     ━━━━━━━━━━━━━━━━━━━━━━━━━━━━━━━━━━━━━━━━ 79.6/79.6 kB 25.0 MB/s eta 0:00:00\n",
      "Collecting jmespath<2.0.0,>=0.7.1\n",
      "  Downloading jmespath-1.0.1-py3-none-any.whl (20 kB)\n",
      "Collecting botocore<1.30.0,>=1.29.82\n",
      "  Downloading botocore-1.29.82-py3-none-any.whl (10.5 MB)\n",
      "     ━━━━━━━━━━━━━━━━━━━━━━━━━━━━━━━━━━━━━━━ 10.5/10.5 MB 116.8 MB/s eta 0:00:00\n",
      "Collecting zope.interface\n",
      "  Downloading zope.interface-5.5.2-cp37-cp37m-manylinux_2_5_x86_64.manylinux1_x86_64.manylinux_2_12_x86_64.manylinux2010_x86_64.whl (254 kB)\n",
      "     ━━━━━━━━━━━━━━━━━━━━━━━━━━━━━━━━━━━━━━ 254.2/254.2 kB 53.9 MB/s eta 0:00:00\n",
      "Requirement already satisfied: setuptools in /opt/conda/lib/python3.7/site-packages (from gevent->sagemaker-training) (41.4.0)\n",
      "Collecting greenlet>=2.0.0\n",
      "  Downloading greenlet-2.0.2-cp37-cp37m-manylinux_2_17_x86_64.manylinux2014_x86_64.whl (566 kB)\n",
      "     ━━━━━━━━━━━━━━━━━━━━━━━━━━━━━━━━━━━━━━ 566.1/566.1 kB 76.8 MB/s eta 0:00:00\n",
      "Collecting zope.event\n",
      "  Downloading zope.event-4.6-py2.py3-none-any.whl (6.8 kB)\n",
      "Collecting urllib3<1.27,>=1.25.4\n",
      "  Downloading urllib3-1.26.14-py2.py3-none-any.whl (140 kB)\n",
      "     ━━━━━━━━━━━━━━━━━━━━━━━━━━━━━━━━━━━━━━ 140.6/140.6 kB 39.0 MB/s eta 0:00:00\n",
      "Collecting python-dateutil<3.0.0,>=2.1\n",
      "  Downloading python_dateutil-2.8.2-py2.py3-none-any.whl (247 kB)\n",
      "     ━━━━━━━━━━━━━━━━━━━━━━━━━━━━━━━━━━━━━━ 247.7/247.7 kB 53.5 MB/s eta 0:00:00\n",
      "Requirement already satisfied: cffi>=1.12 in /opt/conda/lib/python3.7/site-packages (from cryptography>=3.3->paramiko>=2.4.2->sagemaker-training) (1.13.0)\n",
      "Requirement already satisfied: pycparser in /opt/conda/lib/python3.7/site-packages (from cffi>=1.12->cryptography>=3.3->paramiko>=2.4.2->sagemaker-training) (2.19)\n",
      "Building wheels for collected packages: sagemaker-training, inotify_simple\n",
      "  Building wheel for sagemaker-training (setup.py): started\n",
      "  Building wheel for sagemaker-training (setup.py): finished with status 'done'\n",
      "  Created wheel for sagemaker-training: filename=sagemaker_training-4.4.6-cp37-cp37m-linux_x86_64.whl size=92614 sha256=24beb305e41943ee977c9c7c5a95e3694af513b6a6825a06e676cc2c925b8d61\n",
      "  Stored in directory: /root/.cache/pip/wheels/78/4a/ff/7baa1673fc2748f222813d1e7bfbfaa800a473684486ecd422\n",
      "  Building wheel for inotify_simple (setup.py): started\n",
      "  Building wheel for inotify_simple (setup.py): finished with status 'done'\n",
      "  Created wheel for inotify_simple: filename=inotify_simple-1.2.1-py3-none-any.whl size=8204 sha256=375ae88470219ab7cd36e68a6e8d830efac5b02cc57a417cb93fda2760e22955\n",
      "  Stored in directory: /root/.cache/pip/wheels/ef/7e/4a/bfeb3216a60ab5e077958f5a1e980cc3de9663155cfb31c660\n",
      "Successfully built sagemaker-training inotify_simple\n",
      "Installing collected packages: inotify_simple, zope.interface, zope.event, urllib3, scipy, retrying, python-dateutil, protobuf, MarkupSafe, jmespath, greenlet, bcrypt, werkzeug, pynacl, gevent, botocore, s3transfer, paramiko, boto3, sagemaker-training\n",
      "  Attempting uninstall: urllib3\n",
      "    Found existing installation: urllib3 1.24.2\n",
      "    Uninstalling urllib3-1.24.2:\n",
      "      Successfully uninstalled urllib3-1.24.2\n",
      "  Attempting uninstall: MarkupSafe\n",
      "    Found existing installation: MarkupSafe 1.1.1\n",
      "    Uninstalling MarkupSafe-1.1.1:\n",
      "      Successfully uninstalled MarkupSafe-1.1.1\n",
      "\u001b[91mERROR: pip's dependency resolver does not currently take into account all the packages that are installed. This behaviour is the source of the following dependency conflicts.\n",
      "requests 2.22.0 requires urllib3!=1.25.0,!=1.25.1,<1.26,>=1.21.1, but you have urllib3 1.26.14 which is incompatible.\n",
      "\u001b[0mSuccessfully installed MarkupSafe-2.1.2 bcrypt-4.0.1 boto3-1.26.82 botocore-1.29.82 gevent-22.10.2 greenlet-2.0.2 inotify_simple-1.2.1 jmespath-1.0.1 paramiko-3.0.0 protobuf-3.20.2 pynacl-1.5.0 python-dateutil-2.8.2 retrying-1.3.4 s3transfer-0.6.0 sagemaker-training-4.4.6 scipy-1.7.3 urllib3-1.26.14 werkzeug-2.2.3 zope.event-4.6 zope.interface-5.5.2\n",
      "\u001b[91mWARNING: Running pip as the 'root' user can result in broken permissions and conflicting behaviour with the system package manager. It is recommended to use a virtual environment instead: https://pip.pypa.io/warnings/venv\n",
      "\u001b[0mRemoving intermediate container c21a461b5cc2\n",
      " ---> 4d6e9e7836a7\n",
      "Step 5/7 : WORKDIR /opt/ml/code\n",
      " ---> Running in 91b22055cfd2\n",
      "Removing intermediate container 91b22055cfd2\n",
      " ---> 101093693bba\n",
      "Step 6/7 : ENV SAGEMAKER_PROGRAM cifar10.py\n",
      " ---> Running in 8bbceccdcf9e\n",
      "Removing intermediate container 8bbceccdcf9e\n",
      " ---> 3027fb3acb6a\n",
      "Step 7/7 : ENV PYTHONUNBUFFERED TRUE\n",
      " ---> Running in 31b437030a88\n",
      "Removing intermediate container 31b437030a88\n",
      " ---> bbadbadc1d45\n",
      "Successfully built bbadbadc1d45\n",
      "Successfully tagged sm-byom-pytorch-container:latest\n",
      "\n",
      "/home/ec2-user/SageMaker/sagemaker-train-deploy\n"
     ]
    }
   ],
   "source": [
    "ecr.build_docker(strDockerDir, strRepositoryName)"
   ]
  },
  {
   "cell_type": "code",
   "execution_count": 66,
   "id": "04b31962-527d-4ff5-9a19-6d9ababa179b",
   "metadata": {
    "tags": []
   },
   "outputs": [
    {
     "name": "stdout",
     "output_type": "stream",
     "text": [
      "== REGISTER AN IMAGE TO ECR ==\n",
      "  processing_repository_uri: 419974056037.dkr.ecr.ap-northeast-2.amazonaws.com/sm-byom-pytorch-container:latest\n",
      "aws ecr get-login --region 'ap-northeast-2' --registry-ids '419974056037' --no-include-email\n"
     ]
    },
    {
     "name": "stderr",
     "output_type": "stream",
     "text": [
      "WARNING! Using --password via the CLI is insecure. Use --password-stdin.\n",
      "WARNING! Your password will be stored unencrypted in /home/ec2-user/.docker/config.json.\n",
      "Configure a credential helper to remove this warning. See\n",
      "https://docs.docker.com/engine/reference/commandline/login/#credentials-store\n",
      "\n"
     ]
    },
    {
     "name": "stdout",
     "output_type": "stream",
     "text": [
      "Login Succeeded\n",
      "\n",
      "aws ecr create-repository --repository-name 'sm-byom-pytorch-container'\n",
      "docker tag 'sm-byom-pytorch-container:latest' '419974056037.dkr.ecr.ap-northeast-2.amazonaws.com/sm-byom-pytorch-container:latest'\n",
      "docker push '419974056037.dkr.ecr.ap-northeast-2.amazonaws.com/sm-byom-pytorch-container:latest'\n",
      "== REGISTER AN IMAGE TO ECR ==\n",
      "==============================\n"
     ]
    },
    {
     "data": {
      "text/plain": [
       "'Store suceess'"
      ]
     },
     "execution_count": 66,
     "metadata": {},
     "output_type": "execute_result"
    }
   ],
   "source": [
    "strEcrRepositoryUri = ecr.register_image_to_ecr(strRegionName, strAccountId, strRepositoryName, strTag)\n",
    "pm.put_params(key=strPrefix + \"PYTORCH-ECR-URI\", value=strEcrRepositoryUri, overwrite=True)"
   ]
  },
  {
   "cell_type": "markdown",
   "id": "6d6ee5f7-e9d8-4506-9ce0-1252eadbcfc1",
   "metadata": {},
   "source": [
    "#### 2.2.2. Train model with the custom image\n",
    "* https://docs.aws.amazon.com/sagemaker/latest/dg/adapt-training-container.html#:%7E:text=Step%202%3A%20Create%20and%20upload%20the%20Dockerfile%20and%20Python%20training%20scripts"
   ]
  },
  {
   "cell_type": "code",
   "execution_count": 67,
   "id": "b22ca55c-5b94-4eb7-919b-00224db7876a",
   "metadata": {
    "tags": []
   },
   "outputs": [],
   "source": [
    "from distutils.dir_util import copy_tree\n",
    "from sagemaker.estimator import Estimator"
   ]
  },
  {
   "cell_type": "code",
   "execution_count": 72,
   "id": "9c66e7fb-8e47-4d97-aa37-b27a79063aed",
   "metadata": {
    "tags": []
   },
   "outputs": [],
   "source": [
    "estimator=Estimator(\n",
    "    source_dir=\"./source/train\",\n",
    "    entry_point=\"cifar10.py\",\n",
    "    image_uri=pm.get_params(key=strPrefix + \"PYTORCH-ECR-URI\"),\n",
    "    role=pm.get_params(key=strPrefix + \"SAGEMAKER-ROLE-ARN\"), \n",
    "    instance_count=1,\n",
    "    #instance_type=\"ml.g4dn.xlarge\",\n",
    "    instance_type=\"local_gpu\",\n",
    "    volume_size=30,\n",
    "    max_run=360000,\n",
    "    input_mode= 'File',\n",
    "    output_path=f\"s3://{pm.get_params(key=strPrefix + 'BUCKET')}/{'byom-model-output'}\"\n",
    "    #sagemaker_session=self.pipeline_session ## add\n",
    ")"
   ]
  },
  {
   "cell_type": "code",
   "execution_count": 74,
   "id": "918faef4-d289-4533-a9db-8d404421161c",
   "metadata": {
    "collapsed": true,
    "jupyter": {
     "outputs_hidden": true
    },
    "tags": []
   },
   "outputs": [
    {
     "name": "stdout",
     "output_type": "stream",
     "text": [
      "Creating nexzhhg804-algo-1-6k6rc ... \n",
      "Creating nexzhhg804-algo-1-6k6rc ... done\n",
      "Attaching to nexzhhg804-algo-1-6k6rc\n",
      "\u001b[36mnexzhhg804-algo-1-6k6rc |\u001b[0m 2023-03-02 07:07:17,858 botocore.credentials INFO     Found credentials from IAM Role: BaseNotebookInstanceEc2InstanceRole\n",
      "\u001b[36mnexzhhg804-algo-1-6k6rc |\u001b[0m 2023-03-02 07:07:18,018 sagemaker-training-toolkit INFO     Installing dependencies from requirements.txt:\n",
      "\u001b[36mnexzhhg804-algo-1-6k6rc |\u001b[0m /opt/conda/bin/python3 -m pip install -r requirements.txt\n",
      "\u001b[36mnexzhhg804-algo-1-6k6rc |\u001b[0m Collecting sagemaker\n",
      "\u001b[36mnexzhhg804-algo-1-6k6rc |\u001b[0m   Downloading sagemaker-2.135.1.post0.tar.gz (674 kB)\n",
      "\u001b[2K     \u001b[90m━━━━━━━━━━━━━━━━━━━━━━━━━━━━━━━━━━━━━━\u001b[0m \u001b[32m674.4/674.4 kB\u001b[0m \u001b[31m48.2 MB/s\u001b[0m eta \u001b[36m0:00:00\u001b[0m31m?\u001b[0m eta \u001b[36m-:--:--\u001b[0m\n",
      "\u001b[36mnexzhhg804-algo-1-6k6rc |\u001b[0m \u001b[?25h  Preparing metadata (setup.py) ... \u001b[?25ldone\n",
      "\u001b[36mnexzhhg804-algo-1-6k6rc |\u001b[0m \u001b[?25hRequirement already satisfied: boto3 in /opt/conda/lib/python3.7/site-packages (from -r requirements.txt (line 2)) (1.26.82)\n",
      "\u001b[36mnexzhhg804-algo-1-6k6rc |\u001b[0m Requirement already satisfied: botocore in /opt/conda/lib/python3.7/site-packages (from -r requirements.txt (line 3)) (1.29.82)\n",
      "\u001b[36mnexzhhg804-algo-1-6k6rc |\u001b[0m Collecting pandas\n",
      "\u001b[36mnexzhhg804-algo-1-6k6rc |\u001b[0m   Downloading pandas-1.3.5-cp37-cp37m-manylinux_2_17_x86_64.manylinux2014_x86_64.whl (11.3 MB)\n",
      "\u001b[2K     \u001b[90m━━━━━━━━━━━━━━━━━━━━━━━━━━━━━━━━━━━━━━━\u001b[0m \u001b[32m11.3/11.3 MB\u001b[0m \u001b[31m110.4 MB/s\u001b[0m eta \u001b[36m0:00:00\u001b[0m00:01\u001b[0m00:01\u001b[0m:--:--\u001b[0m\n",
      "\u001b[36mnexzhhg804-algo-1-6k6rc |\u001b[0m \u001b[?25hCollecting nvgpu\n",
      "\u001b[36mnexzhhg804-algo-1-6k6rc |\u001b[0m   Downloading nvgpu-0.9.0-py2.py3-none-any.whl (9.4 kB)\n",
      "\u001b[36mnexzhhg804-algo-1-6k6rc |\u001b[0m Collecting attrs<23,>=20.3.0\n",
      "\u001b[36mnexzhhg804-algo-1-6k6rc |\u001b[0m   Downloading attrs-22.2.0-py3-none-any.whl (60 kB)\n",
      "\u001b[2K     \u001b[90m━━━━━━━━━━━━━━━━━━━━━━━━━━━━━━━━━━━━━━━━\u001b[0m \u001b[32m60.0/60.0 kB\u001b[0m \u001b[31m13.7 MB/s\u001b[0m eta \u001b[36m0:00:00\u001b[0m1m?\u001b[0m eta \u001b[36m-:--:--\u001b[0m\n",
      "\u001b[36mnexzhhg804-algo-1-6k6rc |\u001b[0m \u001b[?25hCollecting google-pasta\n",
      "\u001b[36mnexzhhg804-algo-1-6k6rc |\u001b[0m   Downloading google_pasta-0.2.0-py3-none-any.whl (57 kB)\n",
      "\u001b[2K     \u001b[90m━━━━━━━━━━━━━━━━━━━━━━━━━━━━━━━━━━━━━━━━\u001b[0m \u001b[32m57.5/57.5 kB\u001b[0m \u001b[31m13.6 MB/s\u001b[0m eta \u001b[36m0:00:00\u001b[0m1m?\u001b[0m eta \u001b[36m-:--:--\u001b[0m\n",
      "\u001b[36mnexzhhg804-algo-1-6k6rc |\u001b[0m \u001b[?25hRequirement already satisfied: numpy<2.0,>=1.9.0 in /opt/conda/lib/python3.7/site-packages (from sagemaker->-r requirements.txt (line 1)) (1.17.4)\n",
      "\u001b[36mnexzhhg804-algo-1-6k6rc |\u001b[0m Requirement already satisfied: protobuf<4.0,>=3.1 in /opt/conda/lib/python3.7/site-packages (from sagemaker->-r requirements.txt (line 1)) (3.20.2)\n",
      "\u001b[36mnexzhhg804-algo-1-6k6rc |\u001b[0m Collecting protobuf3-to-dict<1.0,>=0.1.5\n",
      "\u001b[36mnexzhhg804-algo-1-6k6rc |\u001b[0m   Downloading protobuf3-to-dict-0.1.5.tar.gz (3.5 kB)\n",
      "\u001b[36mnexzhhg804-algo-1-6k6rc |\u001b[0m   Preparing metadata (setup.py) ... \u001b[?25ldone\n",
      "\u001b[36mnexzhhg804-algo-1-6k6rc |\u001b[0m \u001b[?25hCollecting smdebug_rulesconfig==1.0.1\n",
      "\u001b[36mnexzhhg804-algo-1-6k6rc |\u001b[0m   Downloading smdebug_rulesconfig-1.0.1-py2.py3-none-any.whl (20 kB)\n",
      "\u001b[36mnexzhhg804-algo-1-6k6rc |\u001b[0m Collecting importlib-metadata<5.0,>=1.4.0\n",
      "\u001b[36mnexzhhg804-algo-1-6k6rc |\u001b[0m   Downloading importlib_metadata-4.13.0-py3-none-any.whl (23 kB)\n",
      "\u001b[36mnexzhhg804-algo-1-6k6rc |\u001b[0m Collecting packaging>=20.0\n",
      "\u001b[36mnexzhhg804-algo-1-6k6rc |\u001b[0m   Downloading packaging-23.0-py3-none-any.whl (42 kB)\n",
      "\u001b[2K     \u001b[90m━━━━━━━━━━━━━━━━━━━━━━━━━━━━━━━━━━━━━━━━\u001b[0m \u001b[32m42.7/42.7 kB\u001b[0m \u001b[31m12.7 MB/s\u001b[0m eta \u001b[36m0:00:00\u001b[0m1m?\u001b[0m eta \u001b[36m-:--:--\u001b[0m\n",
      "\u001b[36mnexzhhg804-algo-1-6k6rc |\u001b[0m \u001b[?25hCollecting pathos\n",
      "\u001b[36mnexzhhg804-algo-1-6k6rc |\u001b[0m   Downloading pathos-0.3.0-py3-none-any.whl (79 kB)\n",
      "\u001b[2K     \u001b[90m━━━━━━━━━━━━━━━━━━━━━━━━━━━━━━━━━━━━━━━━\u001b[0m \u001b[32m79.8/79.8 kB\u001b[0m \u001b[31m19.8 MB/s\u001b[0m eta \u001b[36m0:00:00\u001b[0m1m?\u001b[0m eta \u001b[36m-:--:--\u001b[0m\n",
      "\u001b[36mnexzhhg804-algo-1-6k6rc |\u001b[0m \u001b[?25hCollecting schema\n",
      "\u001b[36mnexzhhg804-algo-1-6k6rc |\u001b[0m   Downloading schema-0.7.5-py2.py3-none-any.whl (17 kB)\n",
      "\u001b[36mnexzhhg804-algo-1-6k6rc |\u001b[0m Requirement already satisfied: s3transfer<0.7.0,>=0.6.0 in /opt/conda/lib/python3.7/site-packages (from boto3->-r requirements.txt (line 2)) (0.6.0)\n",
      "\u001b[36mnexzhhg804-algo-1-6k6rc |\u001b[0m Requirement already satisfied: jmespath<2.0.0,>=0.7.1 in /opt/conda/lib/python3.7/site-packages (from boto3->-r requirements.txt (line 2)) (1.0.1)\n",
      "\u001b[36mnexzhhg804-algo-1-6k6rc |\u001b[0m Requirement already satisfied: urllib3<1.27,>=1.25.4 in /opt/conda/lib/python3.7/site-packages (from botocore->-r requirements.txt (line 3)) (1.26.14)\n",
      "\u001b[36mnexzhhg804-algo-1-6k6rc |\u001b[0m Requirement already satisfied: python-dateutil<3.0.0,>=2.1 in /opt/conda/lib/python3.7/site-packages (from botocore->-r requirements.txt (line 3)) (2.8.2)\n",
      "\u001b[36mnexzhhg804-algo-1-6k6rc |\u001b[0m Requirement already satisfied: pytz>=2017.3 in /opt/conda/lib/python3.7/site-packages (from pandas->-r requirements.txt (line 4)) (2019.3)\n",
      "\u001b[36mnexzhhg804-algo-1-6k6rc |\u001b[0m Collecting tabulate\n",
      "\u001b[36mnexzhhg804-algo-1-6k6rc |\u001b[0m   Downloading tabulate-0.9.0-py3-none-any.whl (35 kB)\n",
      "\u001b[36mnexzhhg804-algo-1-6k6rc |\u001b[0m Collecting arrow\n",
      "\u001b[36mnexzhhg804-algo-1-6k6rc |\u001b[0m   Downloading arrow-1.2.3-py3-none-any.whl (66 kB)\n",
      "\u001b[2K     \u001b[90m━━━━━━━━━━━━━━━━━━━━━━━━━━━━━━━━━━━━━━━━\u001b[0m \u001b[32m66.4/66.4 kB\u001b[0m \u001b[31m16.1 MB/s\u001b[0m eta \u001b[36m0:00:00\u001b[0m1m?\u001b[0m eta \u001b[36m-:--:--\u001b[0m\n",
      "\u001b[36mnexzhhg804-algo-1-6k6rc |\u001b[0m \u001b[?25hCollecting flask\n",
      "\u001b[36mnexzhhg804-algo-1-6k6rc |\u001b[0m   Downloading Flask-2.2.3-py3-none-any.whl (101 kB)\n",
      "\u001b[2K     \u001b[90m━━━━━━━━━━━━━━━━━━━━━━━━━━━━━━━━━━━━━━\u001b[0m \u001b[32m101.8/101.8 kB\u001b[0m \u001b[31m21.9 MB/s\u001b[0m eta \u001b[36m0:00:00\u001b[0m31m?\u001b[0m eta \u001b[36m-:--:--\u001b[0m\n",
      "\u001b[36mnexzhhg804-algo-1-6k6rc |\u001b[0m \u001b[?25hRequirement already satisfied: requests in /opt/conda/lib/python3.7/site-packages (from nvgpu->-r requirements.txt (line 5)) (2.22.0)\n",
      "\u001b[36mnexzhhg804-algo-1-6k6rc |\u001b[0m Requirement already satisfied: six in /opt/conda/lib/python3.7/site-packages (from nvgpu->-r requirements.txt (line 5)) (1.12.0)\n",
      "\u001b[36mnexzhhg804-algo-1-6k6rc |\u001b[0m Collecting flask-restful\n",
      "\u001b[36mnexzhhg804-algo-1-6k6rc |\u001b[0m   Downloading Flask_RESTful-0.3.9-py2.py3-none-any.whl (25 kB)\n",
      "\u001b[36mnexzhhg804-algo-1-6k6rc |\u001b[0m Collecting ansi2html\n",
      "\u001b[36mnexzhhg804-algo-1-6k6rc |\u001b[0m   Downloading ansi2html-1.8.0-py3-none-any.whl (16 kB)\n",
      "\u001b[36mnexzhhg804-algo-1-6k6rc |\u001b[0m Collecting pynvml\n",
      "\u001b[36mnexzhhg804-algo-1-6k6rc |\u001b[0m   Downloading pynvml-11.5.0-py3-none-any.whl (53 kB)\n",
      "\u001b[2K     \u001b[90m━━━━━━━━━━━━━━━━━━━━━━━━━━━━━━━━━━━━━━━━\u001b[0m \u001b[32m53.1/53.1 kB\u001b[0m \u001b[31m15.6 MB/s\u001b[0m eta \u001b[36m0:00:00\u001b[0m1m?\u001b[0m eta \u001b[36m-:--:--\u001b[0m\n",
      "\u001b[36mnexzhhg804-algo-1-6k6rc |\u001b[0m \u001b[?25hRequirement already satisfied: psutil in /opt/conda/lib/python3.7/site-packages (from nvgpu->-r requirements.txt (line 5)) (5.6.7)\n",
      "\u001b[36mnexzhhg804-algo-1-6k6rc |\u001b[0m Collecting termcolor\n",
      "\u001b[36mnexzhhg804-algo-1-6k6rc |\u001b[0m   Downloading termcolor-2.2.0-py3-none-any.whl (6.6 kB)\n",
      "\u001b[36mnexzhhg804-algo-1-6k6rc |\u001b[0m Collecting zipp>=0.5\n",
      "\u001b[36mnexzhhg804-algo-1-6k6rc |\u001b[0m   Downloading zipp-3.15.0-py3-none-any.whl (6.8 kB)\n",
      "\u001b[36mnexzhhg804-algo-1-6k6rc |\u001b[0m Collecting typing-extensions>=3.6.4\n",
      "\u001b[36mnexzhhg804-algo-1-6k6rc |\u001b[0m   Downloading typing_extensions-4.5.0-py3-none-any.whl (27 kB)\n",
      "\u001b[36mnexzhhg804-algo-1-6k6rc |\u001b[0m Requirement already satisfied: Werkzeug>=2.2.2 in /opt/conda/lib/python3.7/site-packages (from flask->nvgpu->-r requirements.txt (line 5)) (2.2.3)\n",
      "\u001b[36mnexzhhg804-algo-1-6k6rc |\u001b[0m Collecting Jinja2>=3.0\n",
      "\u001b[36mnexzhhg804-algo-1-6k6rc |\u001b[0m   Downloading Jinja2-3.1.2-py3-none-any.whl (133 kB)\n",
      "\u001b[2K     \u001b[90m━━━━━━━━━━━━━━━━━━━━━━━━━━━━━━━━━━━━━━\u001b[0m \u001b[32m133.1/133.1 kB\u001b[0m \u001b[31m36.3 MB/s\u001b[0m eta \u001b[36m0:00:00\u001b[0m31m?\u001b[0m eta \u001b[36m-:--:--\u001b[0m\n",
      "\u001b[36mnexzhhg804-algo-1-6k6rc |\u001b[0m \u001b[?25hCollecting itsdangerous>=2.0\n",
      "\u001b[36mnexzhhg804-algo-1-6k6rc |\u001b[0m   Downloading itsdangerous-2.1.2-py3-none-any.whl (15 kB)\n",
      "\u001b[36mnexzhhg804-algo-1-6k6rc |\u001b[0m Collecting click>=8.0\n",
      "\u001b[36mnexzhhg804-algo-1-6k6rc |\u001b[0m   Downloading click-8.1.3-py3-none-any.whl (96 kB)\n",
      "\u001b[2K     \u001b[90m━━━━━━━━━━━━━━━━━━━━━━━━━━━━━━━━━━━━━━━━\u001b[0m \u001b[32m96.6/96.6 kB\u001b[0m \u001b[31m23.2 MB/s\u001b[0m eta \u001b[36m0:00:00\u001b[0m1m?\u001b[0m eta \u001b[36m-:--:--\u001b[0m\n",
      "\u001b[36mnexzhhg804-algo-1-6k6rc |\u001b[0m \u001b[?25hCollecting aniso8601>=0.82\n",
      "\u001b[36mnexzhhg804-algo-1-6k6rc |\u001b[0m   Downloading aniso8601-9.0.1-py2.py3-none-any.whl (52 kB)\n",
      "\u001b[2K     \u001b[90m━━━━━━━━━━━━━━━━━━━━━━━━━━━━━━━━━━━━━━━━\u001b[0m \u001b[32m52.8/52.8 kB\u001b[0m \u001b[31m16.6 MB/s\u001b[0m eta \u001b[36m0:00:00\u001b[0m1m?\u001b[0m eta \u001b[36m-:--:--\u001b[0m\n",
      "\u001b[36mnexzhhg804-algo-1-6k6rc |\u001b[0m \u001b[?25hCollecting multiprocess>=0.70.14\n",
      "\u001b[36mnexzhhg804-algo-1-6k6rc |\u001b[0m   Downloading multiprocess-0.70.14-py37-none-any.whl (115 kB)\n",
      "\u001b[2K     \u001b[90m━━━━━━━━━━━━━━━━━━━━━━━━━━━━━━━━━━━━━━\u001b[0m \u001b[32m115.7/115.7 kB\u001b[0m \u001b[31m34.6 MB/s\u001b[0m eta \u001b[36m0:00:00\u001b[0m31m?\u001b[0m eta \u001b[36m-:--:--\u001b[0m\n",
      "\u001b[36mnexzhhg804-algo-1-6k6rc |\u001b[0m \u001b[?25hCollecting dill>=0.3.6\n",
      "\u001b[36mnexzhhg804-algo-1-6k6rc |\u001b[0m   Downloading dill-0.3.6-py3-none-any.whl (110 kB)\n",
      "\u001b[2K     \u001b[90m━━━━━━━━━━━━━━━━━━━━━━━━━━━━━━━━━━━━━━\u001b[0m \u001b[32m110.5/110.5 kB\u001b[0m \u001b[31m23.5 MB/s\u001b[0m eta \u001b[36m0:00:00\u001b[0m31m?\u001b[0m eta \u001b[36m-:--:--\u001b[0m\n",
      "\u001b[36mnexzhhg804-algo-1-6k6rc |\u001b[0m \u001b[?25hCollecting pox>=0.3.2\n",
      "\u001b[36mnexzhhg804-algo-1-6k6rc |\u001b[0m   Downloading pox-0.3.2-py3-none-any.whl (29 kB)\n",
      "\u001b[36mnexzhhg804-algo-1-6k6rc |\u001b[0m Collecting ppft>=1.7.6.6\n",
      "\u001b[36mnexzhhg804-algo-1-6k6rc |\u001b[0m   Downloading ppft-1.7.6.6-py3-none-any.whl (52 kB)\n",
      "\u001b[2K     \u001b[90m━━━━━━━━━━━━━━━━━━━━━━━━━━━━━━━━━━━━━━━━\u001b[0m \u001b[32m52.8/52.8 kB\u001b[0m \u001b[31m17.4 MB/s\u001b[0m eta \u001b[36m0:00:00\u001b[0m1m?\u001b[0m eta \u001b[36m-:--:--\u001b[0m\n",
      "\u001b[36mnexzhhg804-algo-1-6k6rc |\u001b[0m \u001b[?25hRequirement already satisfied: certifi>=2017.4.17 in /opt/conda/lib/python3.7/site-packages (from requests->nvgpu->-r requirements.txt (line 5)) (2019.11.28)\n",
      "\u001b[36mnexzhhg804-algo-1-6k6rc |\u001b[0m Requirement already satisfied: chardet<3.1.0,>=3.0.2 in /opt/conda/lib/python3.7/site-packages (from requests->nvgpu->-r requirements.txt (line 5)) (3.0.4)\n",
      "\u001b[36mnexzhhg804-algo-1-6k6rc |\u001b[0m Requirement already satisfied: idna<2.9,>=2.5 in /opt/conda/lib/python3.7/site-packages (from requests->nvgpu->-r requirements.txt (line 5)) (2.8)\n",
      "\u001b[36mnexzhhg804-algo-1-6k6rc |\u001b[0m Collecting urllib3<1.27,>=1.25.4\n",
      "\u001b[36mnexzhhg804-algo-1-6k6rc |\u001b[0m   Downloading urllib3-1.25.11-py2.py3-none-any.whl (127 kB)\n",
      "\u001b[2K     \u001b[90m━━━━━━━━━━━━━━━━━━━━━━━━━━━━━━━━━━━━━━\u001b[0m \u001b[32m128.0/128.0 kB\u001b[0m \u001b[31m34.6 MB/s\u001b[0m eta \u001b[36m0:00:00\u001b[0m31m?\u001b[0m eta \u001b[36m-:--:--\u001b[0m\n",
      "\u001b[36mnexzhhg804-algo-1-6k6rc |\u001b[0m \u001b[?25hCollecting contextlib2>=0.5.5\n",
      "\u001b[36mnexzhhg804-algo-1-6k6rc |\u001b[0m   Downloading contextlib2-21.6.0-py2.py3-none-any.whl (13 kB)\n",
      "\u001b[36mnexzhhg804-algo-1-6k6rc |\u001b[0m Requirement already satisfied: MarkupSafe>=2.0 in /opt/conda/lib/python3.7/site-packages (from Jinja2>=3.0->flask->nvgpu->-r requirements.txt (line 5)) (2.1.2)\n",
      "\u001b[36mnexzhhg804-algo-1-6k6rc |\u001b[0m Building wheels for collected packages: sagemaker, protobuf3-to-dict\n",
      "\u001b[36mnexzhhg804-algo-1-6k6rc |\u001b[0m   Building wheel for sagemaker (setup.py) ... \u001b[?25ldone\n",
      "\u001b[36mnexzhhg804-algo-1-6k6rc |\u001b[0m \u001b[?25h  Created wheel for sagemaker: filename=sagemaker-2.135.1.post0-py2.py3-none-any.whl size=911929 sha256=bd47e1643456cfedf85142803d2f3e152771b489f48bdcbbb5ea0a6fe47a3845\n",
      "\u001b[36mnexzhhg804-algo-1-6k6rc |\u001b[0m   Stored in directory: /root/.cache/pip/wheels/a7/27/f2/5548fa5c8150562b57808525fe8b695493c51edf625277ea62\n",
      "\u001b[36mnexzhhg804-algo-1-6k6rc |\u001b[0m   Building wheel for protobuf3-to-dict (setup.py) ... \u001b[?25ldone\n",
      "\u001b[36mnexzhhg804-algo-1-6k6rc |\u001b[0m \u001b[?25h  Created wheel for protobuf3-to-dict: filename=protobuf3_to_dict-0.1.5-py3-none-any.whl size=4030 sha256=9b9d61c6fb09fe026eaafa8538e8dac80c01bc2a9eabfbe349b2f868eecb3a77\n",
      "\u001b[36mnexzhhg804-algo-1-6k6rc |\u001b[0m   Stored in directory: /root/.cache/pip/wheels/ce/a0/8b/995ce2fbaf0e9fe7eb91da84e99e84d1b35cfaa555f2b8f1c7\n",
      "\u001b[36mnexzhhg804-algo-1-6k6rc |\u001b[0m Successfully built sagemaker protobuf3-to-dict\n",
      "\u001b[36mnexzhhg804-algo-1-6k6rc |\u001b[0m Installing collected packages: aniso8601, zipp, urllib3, typing-extensions, termcolor, tabulate, smdebug_rulesconfig, pynvml, protobuf3-to-dict, ppft, pox, packaging, Jinja2, itsdangerous, google-pasta, dill, contextlib2, attrs, schema, pandas, multiprocess, importlib-metadata, arrow, pathos, click, ansi2html, flask, sagemaker, flask-restful, nvgpu\n",
      "\u001b[36mnexzhhg804-algo-1-6k6rc |\u001b[0m   Attempting uninstall: urllib3\n",
      "\u001b[36mnexzhhg804-algo-1-6k6rc |\u001b[0m     Found existing installation: urllib3 1.26.14\n",
      "\u001b[36mnexzhhg804-algo-1-6k6rc |\u001b[0m     Uninstalling urllib3-1.26.14:\n",
      "\u001b[36mnexzhhg804-algo-1-6k6rc |\u001b[0m       Successfully uninstalled urllib3-1.26.14\n",
      "\u001b[36mnexzhhg804-algo-1-6k6rc |\u001b[0m   Attempting uninstall: Jinja2\n",
      "\u001b[36mnexzhhg804-algo-1-6k6rc |\u001b[0m     Found existing installation: Jinja2 2.10.3\n",
      "\u001b[36mnexzhhg804-algo-1-6k6rc |\u001b[0m     Uninstalling Jinja2-2.10.3:\n",
      "\u001b[36mnexzhhg804-algo-1-6k6rc |\u001b[0m       Successfully uninstalled Jinja2-2.10.3\n",
      "\u001b[36mnexzhhg804-algo-1-6k6rc |\u001b[0m Successfully installed Jinja2-3.1.2 aniso8601-9.0.1 ansi2html-1.8.0 arrow-1.2.3 attrs-22.2.0 click-8.1.3 contextlib2-21.6.0 dill-0.3.6 flask-2.2.3 flask-restful-0.3.9 google-pasta-0.2.0 importlib-metadata-4.13.0 itsdangerous-2.1.2 multiprocess-0.70.14 nvgpu-0.9.0 packaging-23.0 pandas-1.3.5 pathos-0.3.0 pox-0.3.2 ppft-1.7.6.6 protobuf3-to-dict-0.1.5 pynvml-11.5.0 sagemaker-2.135.1.post0 schema-0.7.5 smdebug_rulesconfig-1.0.1 tabulate-0.9.0 termcolor-2.2.0 typing-extensions-4.5.0 urllib3-1.25.11 zipp-3.15.0\n",
      "\u001b[36mnexzhhg804-algo-1-6k6rc |\u001b[0m \u001b[33mWARNING: Running pip as the 'root' user can result in broken permissions and conflicting behaviour with the system package manager. It is recommended to use a virtual environment instead: https://pip.pypa.io/warnings/venv\u001b[0m\u001b[33m\n",
      "\u001b[36mnexzhhg804-algo-1-6k6rc |\u001b[0m \u001b[0m2023-03-02 07:07:26,972 sagemaker-training-toolkit INFO     No Neurons detected (normal if no neurons installed)\n",
      "\u001b[36mnexzhhg804-algo-1-6k6rc |\u001b[0m 2023-03-02 07:07:26,981 sagemaker-training-toolkit INFO     instance_groups entry not present in resource_config\n",
      "\u001b[36mnexzhhg804-algo-1-6k6rc |\u001b[0m 2023-03-02 07:07:27,006 sagemaker-training-toolkit INFO     No Neurons detected (normal if no neurons installed)\n",
      "\u001b[36mnexzhhg804-algo-1-6k6rc |\u001b[0m 2023-03-02 07:07:27,015 sagemaker-training-toolkit INFO     instance_groups entry not present in resource_config\n",
      "\u001b[36mnexzhhg804-algo-1-6k6rc |\u001b[0m 2023-03-02 07:07:27,040 sagemaker-training-toolkit INFO     No Neurons detected (normal if no neurons installed)\n",
      "\u001b[36mnexzhhg804-algo-1-6k6rc |\u001b[0m 2023-03-02 07:07:27,049 sagemaker-training-toolkit INFO     instance_groups entry not present in resource_config\n",
      "\u001b[36mnexzhhg804-algo-1-6k6rc |\u001b[0m 2023-03-02 07:07:27,053 sagemaker-training-toolkit INFO     Invoking user script\n",
      "\u001b[36mnexzhhg804-algo-1-6k6rc |\u001b[0m \n",
      "\u001b[36mnexzhhg804-algo-1-6k6rc |\u001b[0m Training Env:\n",
      "\u001b[36mnexzhhg804-algo-1-6k6rc |\u001b[0m \n",
      "\u001b[36mnexzhhg804-algo-1-6k6rc |\u001b[0m {\n",
      "\u001b[36mnexzhhg804-algo-1-6k6rc |\u001b[0m     \"additional_framework_parameters\": {},\n",
      "\u001b[36mnexzhhg804-algo-1-6k6rc |\u001b[0m     \"channel_input_dirs\": {\n",
      "\u001b[36mnexzhhg804-algo-1-6k6rc |\u001b[0m         \"TR\": \"/opt/ml/input/data/TR\"\n",
      "\u001b[36mnexzhhg804-algo-1-6k6rc |\u001b[0m     },\n",
      "\u001b[36mnexzhhg804-algo-1-6k6rc |\u001b[0m     \"current_host\": \"algo-1-6k6rc\",\n",
      "\u001b[36mnexzhhg804-algo-1-6k6rc |\u001b[0m     \"current_instance_group\": \"homogeneousCluster\",\n",
      "\u001b[36mnexzhhg804-algo-1-6k6rc |\u001b[0m     \"current_instance_group_hosts\": [],\n",
      "\u001b[36mnexzhhg804-algo-1-6k6rc |\u001b[0m     \"current_instance_type\": \"local\",\n",
      "\u001b[36mnexzhhg804-algo-1-6k6rc |\u001b[0m     \"distribution_hosts\": [\n",
      "\u001b[36mnexzhhg804-algo-1-6k6rc |\u001b[0m         \"algo-1-6k6rc\"\n",
      "\u001b[36mnexzhhg804-algo-1-6k6rc |\u001b[0m     ],\n",
      "\u001b[36mnexzhhg804-algo-1-6k6rc |\u001b[0m     \"distribution_instance_groups\": [],\n",
      "\u001b[36mnexzhhg804-algo-1-6k6rc |\u001b[0m     \"framework_module\": null,\n",
      "\u001b[36mnexzhhg804-algo-1-6k6rc |\u001b[0m     \"hosts\": [\n",
      "\u001b[36mnexzhhg804-algo-1-6k6rc |\u001b[0m         \"algo-1-6k6rc\"\n",
      "\u001b[36mnexzhhg804-algo-1-6k6rc |\u001b[0m     ],\n",
      "\u001b[36mnexzhhg804-algo-1-6k6rc |\u001b[0m     \"hyperparameters\": {},\n",
      "\u001b[36mnexzhhg804-algo-1-6k6rc |\u001b[0m     \"input_config_dir\": \"/opt/ml/input/config\",\n",
      "\u001b[36mnexzhhg804-algo-1-6k6rc |\u001b[0m     \"input_data_config\": {\n",
      "\u001b[36mnexzhhg804-algo-1-6k6rc |\u001b[0m         \"TR\": {\n",
      "\u001b[36mnexzhhg804-algo-1-6k6rc |\u001b[0m             \"TrainingInputMode\": \"File\"\n",
      "\u001b[36mnexzhhg804-algo-1-6k6rc |\u001b[0m         }\n",
      "\u001b[36mnexzhhg804-algo-1-6k6rc |\u001b[0m     },\n",
      "\u001b[36mnexzhhg804-algo-1-6k6rc |\u001b[0m     \"input_dir\": \"/opt/ml/input\",\n",
      "\u001b[36mnexzhhg804-algo-1-6k6rc |\u001b[0m     \"instance_groups\": [],\n",
      "\u001b[36mnexzhhg804-algo-1-6k6rc |\u001b[0m     \"instance_groups_dict\": {},\n",
      "\u001b[36mnexzhhg804-algo-1-6k6rc |\u001b[0m     \"is_hetero\": false,\n",
      "\u001b[36mnexzhhg804-algo-1-6k6rc |\u001b[0m     \"is_master\": true,\n",
      "\u001b[36mnexzhhg804-algo-1-6k6rc |\u001b[0m     \"is_modelparallel_enabled\": null,\n",
      "\u001b[36mnexzhhg804-algo-1-6k6rc |\u001b[0m     \"is_smddpmprun_installed\": false,\n",
      "\u001b[36mnexzhhg804-algo-1-6k6rc |\u001b[0m     \"job_name\": \"sm-byom-pytorch-container-2023-03-02-07-07-14-836\",\n",
      "\u001b[36mnexzhhg804-algo-1-6k6rc |\u001b[0m     \"log_level\": 20,\n",
      "\u001b[36mnexzhhg804-algo-1-6k6rc |\u001b[0m     \"master_hostname\": \"algo-1-6k6rc\",\n",
      "\u001b[36mnexzhhg804-algo-1-6k6rc |\u001b[0m     \"model_dir\": \"/opt/ml/model\",\n",
      "\u001b[36mnexzhhg804-algo-1-6k6rc |\u001b[0m     \"module_dir\": \"s3://sagemaker-ap-northeast-2-419974056037/sm-byom-pytorch-container-2023-03-02-07-07-14-836/source/sourcedir.tar.gz\",\n",
      "\u001b[36mnexzhhg804-algo-1-6k6rc |\u001b[0m     \"module_name\": \"cifar10\",\n",
      "\u001b[36mnexzhhg804-algo-1-6k6rc |\u001b[0m     \"network_interface_name\": \"eth0\",\n",
      "\u001b[36mnexzhhg804-algo-1-6k6rc |\u001b[0m     \"num_cpus\": 8,\n",
      "\u001b[36mnexzhhg804-algo-1-6k6rc |\u001b[0m     \"num_gpus\": 1,\n",
      "\u001b[36mnexzhhg804-algo-1-6k6rc |\u001b[0m     \"num_neurons\": 0,\n",
      "\u001b[36mnexzhhg804-algo-1-6k6rc |\u001b[0m     \"output_data_dir\": \"/opt/ml/output/data\",\n",
      "\u001b[36mnexzhhg804-algo-1-6k6rc |\u001b[0m     \"output_dir\": \"/opt/ml/output\",\n",
      "\u001b[36mnexzhhg804-algo-1-6k6rc |\u001b[0m     \"output_intermediate_dir\": \"/opt/ml/output/intermediate\",\n",
      "\u001b[36mnexzhhg804-algo-1-6k6rc |\u001b[0m     \"resource_config\": {\n",
      "\u001b[36mnexzhhg804-algo-1-6k6rc |\u001b[0m         \"current_host\": \"algo-1-6k6rc\",\n",
      "\u001b[36mnexzhhg804-algo-1-6k6rc |\u001b[0m         \"hosts\": [\n",
      "\u001b[36mnexzhhg804-algo-1-6k6rc |\u001b[0m             \"algo-1-6k6rc\"\n",
      "\u001b[36mnexzhhg804-algo-1-6k6rc |\u001b[0m         ]\n",
      "\u001b[36mnexzhhg804-algo-1-6k6rc |\u001b[0m     },\n",
      "\u001b[36mnexzhhg804-algo-1-6k6rc |\u001b[0m     \"user_entry_point\": \"cifar10.py\"\n",
      "\u001b[36mnexzhhg804-algo-1-6k6rc |\u001b[0m }\n",
      "\u001b[36mnexzhhg804-algo-1-6k6rc |\u001b[0m \n",
      "\u001b[36mnexzhhg804-algo-1-6k6rc |\u001b[0m Environment variables:\n",
      "\u001b[36mnexzhhg804-algo-1-6k6rc |\u001b[0m \n",
      "\u001b[36mnexzhhg804-algo-1-6k6rc |\u001b[0m SM_HOSTS=[\"algo-1-6k6rc\"]\n",
      "\u001b[36mnexzhhg804-algo-1-6k6rc |\u001b[0m SM_NETWORK_INTERFACE_NAME=eth0\n",
      "\u001b[36mnexzhhg804-algo-1-6k6rc |\u001b[0m SM_HPS={}\n",
      "\u001b[36mnexzhhg804-algo-1-6k6rc |\u001b[0m SM_USER_ENTRY_POINT=cifar10.py\n",
      "\u001b[36mnexzhhg804-algo-1-6k6rc |\u001b[0m SM_FRAMEWORK_PARAMS={}\n",
      "\u001b[36mnexzhhg804-algo-1-6k6rc |\u001b[0m SM_RESOURCE_CONFIG={\"current_host\":\"algo-1-6k6rc\",\"hosts\":[\"algo-1-6k6rc\"]}\n",
      "\u001b[36mnexzhhg804-algo-1-6k6rc |\u001b[0m SM_INPUT_DATA_CONFIG={\"TR\":{\"TrainingInputMode\":\"File\"}}\n",
      "\u001b[36mnexzhhg804-algo-1-6k6rc |\u001b[0m SM_OUTPUT_DATA_DIR=/opt/ml/output/data\n",
      "\u001b[36mnexzhhg804-algo-1-6k6rc |\u001b[0m SM_CHANNELS=[\"TR\"]\n",
      "\u001b[36mnexzhhg804-algo-1-6k6rc |\u001b[0m SM_CURRENT_HOST=algo-1-6k6rc\n",
      "\u001b[36mnexzhhg804-algo-1-6k6rc |\u001b[0m SM_CURRENT_INSTANCE_TYPE=local\n",
      "\u001b[36mnexzhhg804-algo-1-6k6rc |\u001b[0m SM_CURRENT_INSTANCE_GROUP=homogeneousCluster\n",
      "\u001b[36mnexzhhg804-algo-1-6k6rc |\u001b[0m SM_CURRENT_INSTANCE_GROUP_HOSTS=[]\n",
      "\u001b[36mnexzhhg804-algo-1-6k6rc |\u001b[0m SM_INSTANCE_GROUPS=[]\n",
      "\u001b[36mnexzhhg804-algo-1-6k6rc |\u001b[0m SM_INSTANCE_GROUPS_DICT={}\n",
      "\u001b[36mnexzhhg804-algo-1-6k6rc |\u001b[0m SM_DISTRIBUTION_INSTANCE_GROUPS=[]\n",
      "\u001b[36mnexzhhg804-algo-1-6k6rc |\u001b[0m SM_IS_HETERO=false\n",
      "\u001b[36mnexzhhg804-algo-1-6k6rc |\u001b[0m SM_MODULE_NAME=cifar10\n",
      "\u001b[36mnexzhhg804-algo-1-6k6rc |\u001b[0m SM_LOG_LEVEL=20\n",
      "\u001b[36mnexzhhg804-algo-1-6k6rc |\u001b[0m SM_FRAMEWORK_MODULE=\n",
      "\u001b[36mnexzhhg804-algo-1-6k6rc |\u001b[0m SM_INPUT_DIR=/opt/ml/input\n",
      "\u001b[36mnexzhhg804-algo-1-6k6rc |\u001b[0m SM_INPUT_CONFIG_DIR=/opt/ml/input/config\n",
      "\u001b[36mnexzhhg804-algo-1-6k6rc |\u001b[0m SM_OUTPUT_DIR=/opt/ml/output\n",
      "\u001b[36mnexzhhg804-algo-1-6k6rc |\u001b[0m SM_NUM_CPUS=8\n",
      "\u001b[36mnexzhhg804-algo-1-6k6rc |\u001b[0m SM_NUM_GPUS=1\n",
      "\u001b[36mnexzhhg804-algo-1-6k6rc |\u001b[0m SM_NUM_NEURONS=0\n",
      "\u001b[36mnexzhhg804-algo-1-6k6rc |\u001b[0m SM_MODEL_DIR=/opt/ml/model\n",
      "\u001b[36mnexzhhg804-algo-1-6k6rc |\u001b[0m SM_MODULE_DIR=s3://sagemaker-ap-northeast-2-419974056037/sm-byom-pytorch-container-2023-03-02-07-07-14-836/source/sourcedir.tar.gz\n",
      "\u001b[36mnexzhhg804-algo-1-6k6rc |\u001b[0m SM_TRAINING_ENV={\"additional_framework_parameters\":{},\"channel_input_dirs\":{\"TR\":\"/opt/ml/input/data/TR\"},\"current_host\":\"algo-1-6k6rc\",\"current_instance_group\":\"homogeneousCluster\",\"current_instance_group_hosts\":[],\"current_instance_type\":\"local\",\"distribution_hosts\":[\"algo-1-6k6rc\"],\"distribution_instance_groups\":[],\"framework_module\":null,\"hosts\":[\"algo-1-6k6rc\"],\"hyperparameters\":{},\"input_config_dir\":\"/opt/ml/input/config\",\"input_data_config\":{\"TR\":{\"TrainingInputMode\":\"File\"}},\"input_dir\":\"/opt/ml/input\",\"instance_groups\":[],\"instance_groups_dict\":{},\"is_hetero\":false,\"is_master\":true,\"is_modelparallel_enabled\":null,\"is_smddpmprun_installed\":false,\"job_name\":\"sm-byom-pytorch-container-2023-03-02-07-07-14-836\",\"log_level\":20,\"master_hostname\":\"algo-1-6k6rc\",\"model_dir\":\"/opt/ml/model\",\"module_dir\":\"s3://sagemaker-ap-northeast-2-419974056037/sm-byom-pytorch-container-2023-03-02-07-07-14-836/source/sourcedir.tar.gz\",\"module_name\":\"cifar10\",\"network_interface_name\":\"eth0\",\"num_cpus\":8,\"num_gpus\":1,\"num_neurons\":0,\"output_data_dir\":\"/opt/ml/output/data\",\"output_dir\":\"/opt/ml/output\",\"output_intermediate_dir\":\"/opt/ml/output/intermediate\",\"resource_config\":{\"current_host\":\"algo-1-6k6rc\",\"hosts\":[\"algo-1-6k6rc\"]},\"user_entry_point\":\"cifar10.py\"}\n",
      "\u001b[36mnexzhhg804-algo-1-6k6rc |\u001b[0m SM_USER_ARGS=[]\n",
      "\u001b[36mnexzhhg804-algo-1-6k6rc |\u001b[0m SM_OUTPUT_INTERMEDIATE_DIR=/opt/ml/output/intermediate\n",
      "\u001b[36mnexzhhg804-algo-1-6k6rc |\u001b[0m SM_CHANNEL_TR=/opt/ml/input/data/TR\n",
      "\u001b[36mnexzhhg804-algo-1-6k6rc |\u001b[0m PYTHONPATH=/opt/ml/code:/opt/conda/bin:/opt/conda/lib/python37.zip:/opt/conda/lib/python3.7:/opt/conda/lib/python3.7/lib-dynload:/opt/conda/lib/python3.7/site-packages\n",
      "\u001b[36mnexzhhg804-algo-1-6k6rc |\u001b[0m \n",
      "\u001b[36mnexzhhg804-algo-1-6k6rc |\u001b[0m Invoking script with the following command:\n",
      "\u001b[36mnexzhhg804-algo-1-6k6rc |\u001b[0m \n",
      "\u001b[36mnexzhhg804-algo-1-6k6rc |\u001b[0m /opt/conda/bin/python3 cifar10.py\n",
      "\u001b[36mnexzhhg804-algo-1-6k6rc |\u001b[0m \n",
      "\u001b[36mnexzhhg804-algo-1-6k6rc |\u001b[0m \n",
      "\u001b[36mnexzhhg804-algo-1-6k6rc |\u001b[0m 2023-03-02 07:07:27,054 sagemaker-training-toolkit INFO     Exceptions not imported for SageMaker Debugger as it is not installed.\n",
      "\u001b[36mnexzhhg804-algo-1-6k6rc |\u001b[0m 2023-03-02 07:07:27,054 sagemaker-training-toolkit INFO     Exceptions not imported for SageMaker TF as Tensorflow is not installed.\n",
      "\u001b[36mnexzhhg804-algo-1-6k6rc |\u001b[0m [1,  2000] loss: 2.256\n",
      "\u001b[36mnexzhhg804-algo-1-6k6rc |\u001b[0m [1,  4000] loss: 1.899\n",
      "\u001b[36mnexzhhg804-algo-1-6k6rc |\u001b[0m [1,  6000] loss: 1.692\n",
      "\u001b[36mnexzhhg804-algo-1-6k6rc |\u001b[0m [1,  8000] loss: 1.594\n",
      "\u001b[36mnexzhhg804-algo-1-6k6rc |\u001b[0m [1, 10000] loss: 1.527\n",
      "\u001b[36mnexzhhg804-algo-1-6k6rc |\u001b[0m [1, 12000] loss: 1.461\n",
      "\u001b[36mnexzhhg804-algo-1-6k6rc |\u001b[0m [2,  2000] loss: 1.414\n",
      "\u001b[36mnexzhhg804-algo-1-6k6rc |\u001b[0m [2,  4000] loss: 1.370\n",
      "\u001b[36mnexzhhg804-algo-1-6k6rc |\u001b[0m [2,  6000] loss: 1.339\n",
      "\u001b[36mnexzhhg804-algo-1-6k6rc |\u001b[0m [2,  8000] loss: 1.299\n",
      "\u001b[36mnexzhhg804-algo-1-6k6rc |\u001b[0m [2, 10000] loss: 1.281\n",
      "\u001b[36mnexzhhg804-algo-1-6k6rc |\u001b[0m [2, 12000] loss: 1.278\n",
      "\u001b[36mnexzhhg804-algo-1-6k6rc |\u001b[0m Finished Training\n",
      "\u001b[36mnexzhhg804-algo-1-6k6rc |\u001b[0m 2023-03-02 07:08:30,305 sagemaker-training-toolkit INFO     Reporting training SUCCESS\n",
      "\u001b[36mnexzhhg804-algo-1-6k6rc exited with code 0\n",
      "\u001b[0mAborting on container exit...\n",
      "===== Job Complete =====\n"
     ]
    }
   ],
   "source": [
    "strDataChannel = \"TR\"\n",
    "\n",
    "estimator.fit(\n",
    "    #inputs=pm.get_params(key=strPrefix + \"DATA-PATH\"),\n",
    "    inputs={strDataChannel: pm.get_params(key=strPrefix + \"DATA-PATH\")},\n",
    "    wait=True\n",
    ")"
   ]
  },
  {
   "cell_type": "code",
   "execution_count": null,
   "id": "c478634d-bc2c-4921-8f3b-4fd8221bf9ad",
   "metadata": {},
   "outputs": [],
   "source": []
  }
 ],
 "metadata": {
  "kernelspec": {
   "display_name": "conda_pytorch_p39",
   "language": "python",
   "name": "conda_pytorch_p39"
  },
  "language_info": {
   "codemirror_mode": {
    "name": "ipython",
    "version": 3
   },
   "file_extension": ".py",
   "mimetype": "text/x-python",
   "name": "python",
   "nbconvert_exporter": "python",
   "pygments_lexer": "ipython3",
   "version": "3.9.15"
  },
  "vscode": {
   "interpreter": {
    "hash": "1f4a227f2552de404565d6626d9115986c409361ad6ef0bf195ad88ccd012b73"
   }
  }
 },
 "nbformat": 4,
 "nbformat_minor": 5
}
