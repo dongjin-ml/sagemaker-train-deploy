{
 "cells": [
  {
   "cell_type": "markdown",
   "id": "302fc930-df6b-40b8-90b5-9dd4d1671895",
   "metadata": {},
   "source": [
    "# <B> Clean up </B>"
   ]
  },
  {
   "cell_type": "markdown",
   "id": "0cca329c-e82d-4297-a385-051354db5ba8",
   "metadata": {},
   "source": [
    "## AutoReload"
   ]
  },
  {
   "cell_type": "code",
   "execution_count": 1,
   "id": "a1201c9f-b765-4716-adcc-1fae82a14e39",
   "metadata": {
    "tags": []
   },
   "outputs": [],
   "source": [
    "%load_ext autoreload\n",
    "%autoreload 2"
   ]
  },
  {
   "cell_type": "markdown",
   "id": "ea2c8dec-f2ab-4e31-96b6-7d3be9105279",
   "metadata": {},
   "source": [
    "## clean"
   ]
  },
  {
   "cell_type": "code",
   "execution_count": 2,
   "id": "bb7594d9-b92a-4287-b65d-af6e2c9dce02",
   "metadata": {
    "tags": []
   },
   "outputs": [],
   "source": [
    "import os\n",
    "import time\n",
    "import boto3\n",
    "from utils.ssm import parameter_store"
   ]
  },
  {
   "cell_type": "code",
   "execution_count": 3,
   "id": "fc4b9dfc-41db-4886-ad8c-1d4795914630",
   "metadata": {
    "tags": []
   },
   "outputs": [],
   "source": [
    "strRegionName=boto3.Session().region_name\n",
    "pm = parameter_store(strRegionName)\n",
    "strPrefix = pm.get_params(key=\"PREFIX\")"
   ]
  },
  {
   "cell_type": "markdown",
   "id": "df4ef32e-7dfc-47c0-b9c1-68c1295f15c0",
   "metadata": {},
   "source": [
    "* S3 Bucket"
   ]
  },
  {
   "cell_type": "code",
   "execution_count": 4,
   "id": "10cca5aa-6052-4e92-8128-d53d92cb5205",
   "metadata": {
    "tags": []
   },
   "outputs": [],
   "source": [
    "strBucketName = pm.get_params(key=strPrefix + \"BUCKET\")"
   ]
  },
  {
   "cell_type": "code",
   "execution_count": 5,
   "id": "8b5dc5d3-3ded-424f-92d7-5c526bf4cca0",
   "metadata": {
    "tags": []
   },
   "outputs": [
    {
     "name": "stderr",
     "output_type": "stream",
     "text": [
      "remove_bucket failed: s3://sagemaker-us-east-1-419974056037 An error occurred (AccessDenied) when calling the DeleteBucket operation: Access Denied\n"
     ]
    }
   ],
   "source": [
    "strQuery = \"\".join([\"aws s3 rm --recursive \", '\"s3://', strBucketName, '\"'])\n",
    "strResponse = os.popen(strQuery).read()\n",
    "strQuery = \"\".join([\"aws s3 rb \", '\"s3://', strBucketName, '\"'])\n",
    "strResponse = os.popen(strQuery).read()"
   ]
  },
  {
   "cell_type": "markdown",
   "id": "9bf6fc86-12bf-4202-b9b4-37c7de2f3944",
   "metadata": {},
   "source": [
    "* endpoint"
   ]
  },
  {
   "cell_type": "code",
   "execution_count": 6,
   "id": "4ad0907d-ac69-461f-a5de-4840c72d4c94",
   "metadata": {
    "tags": []
   },
   "outputs": [],
   "source": [
    "class clean_up():\n",
    "    \n",
    "    def __init__(self, ):    \n",
    "        pass\n",
    "    \n",
    "    def delete_endpoint(self, client, endpoint_name ,is_del_model=True):\n",
    "        \n",
    "        response = client.describe_endpoint(EndpointName=endpoint_name)\n",
    "        EndpointConfigName = response['EndpointConfigName']\n",
    "\n",
    "        response = client.describe_endpoint_config(EndpointConfigName=EndpointConfigName)\n",
    "        model_name = response['ProductionVariants'][0]['ModelName']    \n",
    "\n",
    "        if is_del_model: # 모델도 삭제 여부 임.\n",
    "            client.delete_model(ModelName=model_name)    \n",
    "\n",
    "        client.delete_endpoint(EndpointName=endpoint_name)\n",
    "        client.delete_endpoint_config(EndpointConfigName=EndpointConfigName)    \n",
    "\n",
    "        print(f'--- Deleted model: {model_name}')\n",
    "        print(f'--- Deleted endpoint: {endpoint_name}')\n",
    "        print(f'--- Deleted endpoint_config: {EndpointConfigName}')  "
   ]
  },
  {
   "cell_type": "code",
   "execution_count": 7,
   "id": "37d7503c-52e3-442d-b68f-05187a967c68",
   "metadata": {
    "tags": []
   },
   "outputs": [
    {
     "name": "stdout",
     "output_type": "stream",
     "text": [
      "--- Deleted model: pytorch-inference-2023-04-06-01-06-42-638\n",
      "--- Deleted endpoint: endpoint-model-2303041680741691\n",
      "--- Deleted endpoint_config: endpoint-model-2303041680741691\n"
     ]
    }
   ],
   "source": [
    "clean = clean_up()\n",
    "sm_client = boto3.client('sagemaker')\n",
    "strEndPointName = pm.get_params(key=strPrefix + \"ENDPOINT-NAME\")\n",
    "clean.delete_endpoint(sm_client, strEndPointName ,is_del_model=True)"
   ]
  },
  {
   "cell_type": "markdown",
   "id": "e5fec6db-a3ac-4f96-9853-e94e9dcabb5d",
   "metadata": {},
   "source": [
    "* pipeline"
   ]
  },
  {
   "cell_type": "code",
   "execution_count": 8,
   "id": "3423aa17-6938-43d3-a2d6-a77645cee113",
   "metadata": {
    "tags": []
   },
   "outputs": [
    {
     "data": {
      "text/plain": [
       "'SM-MLOPS-PIPELINE-PIPELINE-TRAIN-model-230304'"
      ]
     },
     "execution_count": 8,
     "metadata": {},
     "output_type": "execute_result"
    }
   ],
   "source": [
    "strPipelineName = pm.get_params(key=strPrefix + \"PIPELINE-NAME\")\n",
    "strPipelineName"
   ]
  },
  {
   "cell_type": "code",
   "execution_count": 9,
   "id": "bdb42535-2698-470f-927b-6e27e79970c1",
   "metadata": {
    "tags": []
   },
   "outputs": [
    {
     "name": "stdout",
     "output_type": "stream",
     "text": [
      "{\n",
      "    \"PipelineArn\": \"arn:aws:sagemaker:us-east-1:419974056037:pipeline/sm-mlops-pipeline-pipeline-train-model-230304\"\n",
      "}\n"
     ]
    }
   ],
   "source": [
    "!aws sagemaker delete-pipeline --pipeline-name $strPipelineName "
   ]
  },
  {
   "cell_type": "markdown",
   "id": "3c7dd492-8f71-4f41-a612-68614222f9dd",
   "metadata": {
    "tags": []
   },
   "source": [
    "* model registry"
   ]
  },
  {
   "cell_type": "code",
   "execution_count": 10,
   "id": "7a6bff9d-8980-4a07-8e44-82f7cf378d5f",
   "metadata": {
    "tags": []
   },
   "outputs": [],
   "source": [
    "sagemaker_client = boto3.client('sagemaker')"
   ]
  },
  {
   "cell_type": "code",
   "execution_count": 11,
   "id": "8c635bd9-39df-4a65-b7fd-a7ddb10a2a56",
   "metadata": {
    "tags": []
   },
   "outputs": [],
   "source": [
    "def empty_and_delete_model_package(sagemaker_client, mpg_name):\n",
    "    mpg = sagemaker_client.list_model_packages(\n",
    "        ModelPackageGroupName=mpg_name,\n",
    "    )\n",
    "    \n",
    "    # Delete model packages if Group not empty\n",
    "    model_packages = mpg.get('ModelPackageSummaryList')\n",
    "    if model_packages:\n",
    "        for mp in model_packages:\n",
    "            sagemaker_client.delete_model_package(\n",
    "                ModelPackageName=mp['ModelPackageArn']\n",
    "            )\n",
    "            time.sleep(1)\n",
    "\n",
    "    # Delete model package group\n",
    "    sagemaker_client.delete_model_package_group(\n",
    "        ModelPackageGroupName=mpg_name\n",
    "    )"
   ]
  },
  {
   "cell_type": "code",
   "execution_count": 12,
   "id": "13cf88ea-5f19-4de6-8578-4ed4ca13cb08",
   "metadata": {
    "tags": []
   },
   "outputs": [],
   "source": [
    "DeleteModelGroupName = pm.get_params(key=strPrefix + \"MODEL-GROUP-NAME\")\n",
    "#DeleteModelGroupName = \"model-24\"\n",
    "empty_and_delete_model_package(sagemaker_client, DeleteModelGroupName)"
   ]
  },
  {
   "cell_type": "markdown",
   "id": "2c199f79-cc6e-494c-b5cc-99a58c67f4d1",
   "metadata": {},
   "source": [
    "* parameter store"
   ]
  },
  {
   "cell_type": "code",
   "execution_count": 17,
   "id": "28474240-f9fd-4851-8c82-f819dd2d5e4e",
   "metadata": {
    "tags": []
   },
   "outputs": [
    {
     "data": {
      "text/plain": [
       "['SM-MLOPS-PIPELINE-ACCOUNT-ID',\n",
       " 'SM-MLOPS-PIPELINE-BUCKET',\n",
       " 'SM-MLOPS-PIPELINE-CODE-BUILD-ROLE-ARN',\n",
       " 'SM-MLOPS-PIPELINE-CODE-PIPELINE-ROLE-ARN',\n",
       " 'SM-MLOPS-PIPELINE-DATA-PATH',\n",
       " 'SM-MLOPS-PIPELINE-ENDPOINT-NAME',\n",
       " 'SM-MLOPS-PIPELINE-LAMBDA-ROLE-ARN',\n",
       " 'SM-MLOPS-PIPELINE-MODEL-GROUP-NAME',\n",
       " 'SM-MLOPS-PIPELINE-PIPELINE-NAME',\n",
       " 'SM-MLOPS-PIPELINE-REGION',\n",
       " 'SM-MLOPS-PIPELINE-SAGEMAKER-ROLE-ARN',\n",
       " 'PREFIX']"
      ]
     },
     "execution_count": 17,
     "metadata": {},
     "output_type": "execute_result"
    }
   ],
   "source": [
    "listParams = pm.get_all_params()\n",
    "listParams = [strParam for strParam in listParams if strPrefix in strParam] + [\"PREFIX\"]\n",
    "\n",
    "total_size = len(listParams)\n",
    "for idx in range(0, total_size, 10):\n",
    "    start = idx\n",
    "    if start + 10 < total_size: end = start + 10\n",
    "    else: end = total_size\n",
    "    listSubParams = listParams[start:end]\n",
    "    pm.delete_param(listSubParams)"
   ]
  },
  {
   "cell_type": "markdown",
   "id": "2d03c581-1204-46fe-b3c3-82546a4b5706",
   "metadata": {},
   "source": [
    "* code commit, buldand pipeline"
   ]
  },
  {
   "cell_type": "code",
   "execution_count": 14,
   "id": "9aa10007-47ab-4b5b-aaef-dddf20ae7c08",
   "metadata": {
    "tags": []
   },
   "outputs": [],
   "source": [
    "from utils.code_pipeline import code_pipeline_handler\n",
    "cph = code_pipeline_handler()"
   ]
  },
  {
   "cell_type": "code",
   "execution_count": 15,
   "id": "9d1ec912-8425-447a-bb63-5b45b56cd879",
   "metadata": {
    "tags": []
   },
   "outputs": [
    {
     "name": "stdout",
     "output_type": "stream",
     "text": [
      "== DELETE REPO ==\n",
      "  Repository name [SM-MLOPS-PIPELINE-MLOPS] was successfully deleted!!\n",
      "''\n",
      "''\n"
     ]
    }
   ],
   "source": [
    "cph.delete_repository(strRepoName=\"SM-MLOPS-PIPELINE-MLOPS\")\n",
    "cph.delete_build_project(strCodeBuildPJTName=\"demo-mlops-build\")\n",
    "cph.delete_pipeline(strPipeLineName=\"demo-mlops-code-pipeline\")"
   ]
  }
 ],
 "metadata": {
  "kernelspec": {
   "display_name": "conda_python3",
   "language": "python",
   "name": "conda_python3"
  },
  "language_info": {
   "codemirror_mode": {
    "name": "ipython",
    "version": 3
   },
   "file_extension": ".py",
   "mimetype": "text/x-python",
   "name": "python",
   "nbconvert_exporter": "python",
   "pygments_lexer": "ipython3",
   "version": "3.10.8"
  }
 },
 "nbformat": 4,
 "nbformat_minor": 5
}
