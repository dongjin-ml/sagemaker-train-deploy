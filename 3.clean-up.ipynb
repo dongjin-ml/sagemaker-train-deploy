{
 "cells": [
  {
   "cell_type": "markdown",
   "id": "302fc930-df6b-40b8-90b5-9dd4d1671895",
   "metadata": {},
   "source": [
    "# <B> Clean up </B>"
   ]
  },
  {
   "cell_type": "markdown",
   "id": "0cca329c-e82d-4297-a385-051354db5ba8",
   "metadata": {},
   "source": [
    "## AutoReload"
   ]
  },
  {
   "cell_type": "code",
   "execution_count": 20,
   "id": "a1201c9f-b765-4716-adcc-1fae82a14e39",
   "metadata": {},
   "outputs": [
    {
     "name": "stdout",
     "output_type": "stream",
     "text": [
      "The autoreload extension is already loaded. To reload it, use:\n",
      "  %reload_ext autoreload\n"
     ]
    }
   ],
   "source": [
    "%load_ext autoreload\n",
    "%autoreload 2"
   ]
  },
  {
   "cell_type": "markdown",
   "id": "ea2c8dec-f2ab-4e31-96b6-7d3be9105279",
   "metadata": {},
   "source": [
    "## clean"
   ]
  },
  {
   "cell_type": "code",
   "execution_count": 21,
   "id": "bb7594d9-b92a-4287-b65d-af6e2c9dce02",
   "metadata": {},
   "outputs": [],
   "source": [
    "import os\n",
    "import boto3\n",
    "from utils.ssm import parameter_store"
   ]
  },
  {
   "cell_type": "code",
   "execution_count": 22,
   "id": "fc4b9dfc-41db-4886-ad8c-1d4795914630",
   "metadata": {},
   "outputs": [],
   "source": [
    "strRegionName=boto3.Session().region_name\n",
    "pm = parameter_store(strRegionName)\n",
    "strPrefix = pm.get_params(key=\"PREFIX\")"
   ]
  },
  {
   "cell_type": "markdown",
   "id": "df4ef32e-7dfc-47c0-b9c1-68c1295f15c0",
   "metadata": {},
   "source": [
    "* S3 Bucket"
   ]
  },
  {
   "cell_type": "code",
   "execution_count": 23,
   "id": "10cca5aa-6052-4e92-8128-d53d92cb5205",
   "metadata": {},
   "outputs": [],
   "source": [
    "strBucketName = pm.get_params(key=strPrefix + \"BUCKET\")"
   ]
  },
  {
   "cell_type": "code",
   "execution_count": 24,
   "id": "8b5dc5d3-3ded-424f-92d7-5c526bf4cca0",
   "metadata": {},
   "outputs": [],
   "source": [
    "strQuery = \"\".join([\"aws s3 rm --recursive \", '\"s3://', strBucketName, '\"'])\n",
    "strResponse = os.popen(strQuery).read()\n",
    "strQuery = \"\".join([\"aws s3 rb \", '\"s3://', strBucketName, '\"'])\n",
    "strResponse = os.popen(strQuery).read()"
   ]
  },
  {
   "cell_type": "markdown",
   "id": "9bf6fc86-12bf-4202-b9b4-37c7de2f3944",
   "metadata": {},
   "source": [
    "* endpoint"
   ]
  },
  {
   "cell_type": "code",
   "execution_count": 25,
   "id": "4ad0907d-ac69-461f-a5de-4840c72d4c94",
   "metadata": {},
   "outputs": [],
   "source": [
    "class clean_up():\n",
    "    \n",
    "    def __init__(self, ):    \n",
    "        pass\n",
    "    \n",
    "    def delete_endpoint(self, client, endpoint_name ,is_del_model=True):\n",
    "        \n",
    "        response = client.describe_endpoint(EndpointName=endpoint_name)\n",
    "        EndpointConfigName = response['EndpointConfigName']\n",
    "\n",
    "        response = client.describe_endpoint_config(EndpointConfigName=EndpointConfigName)\n",
    "        model_name = response['ProductionVariants'][0]['ModelName']    \n",
    "\n",
    "        if is_del_model: # 모델도 삭제 여부 임.\n",
    "            client.delete_model(ModelName=model_name)    \n",
    "\n",
    "        client.delete_endpoint(EndpointName=endpoint_name)\n",
    "        client.delete_endpoint_config(EndpointConfigName=EndpointConfigName)    \n",
    "\n",
    "        print(f'--- Deleted model: {model_name}')\n",
    "        print(f'--- Deleted endpoint: {endpoint_name}')\n",
    "        print(f'--- Deleted endpoint_config: {EndpointConfigName}')  "
   ]
  },
  {
   "cell_type": "code",
   "execution_count": 26,
   "id": "37d7503c-52e3-442d-b68f-05187a967c68",
   "metadata": {},
   "outputs": [
    {
     "name": "stdout",
     "output_type": "stream",
     "text": [
      "--- Deleted model: pytorch-inference-2023-02-16-01-02-18-894\n",
      "--- Deleted endpoint: endpoint-SM-BYOM-1676509337\n",
      "--- Deleted endpoint_config: endpoint-SM-BYOM-1676509337\n"
     ]
    }
   ],
   "source": [
    "clean = clean_up()\n",
    "sm_client = boto3.client('sagemaker')\n",
    "strEndPointName = pm.get_params(key=strPrefix + \"ENDPOINT-NAME\")\n",
    "clean.delete_endpoint(sm_client, strEndPointName ,is_del_model=True)"
   ]
  },
  {
   "cell_type": "markdown",
   "id": "2c199f79-cc6e-494c-b5cc-99a58c67f4d1",
   "metadata": {},
   "source": [
    "* parameter store"
   ]
  },
  {
   "cell_type": "code",
   "execution_count": 27,
   "id": "28474240-f9fd-4851-8c82-f819dd2d5e4e",
   "metadata": {},
   "outputs": [
    {
     "name": "stdout",
     "output_type": "stream",
     "text": [
      "  parameters: ['SM-BYOM-ACCOUNT-ID', 'SM-BYOM-BUCKET', 'SM-BYOM-DATA-PATH', 'SM-BYOM-ENDPOINT-NAME', 'SM-BYOM-REGION', 'SM-BYOM-S3-MODEL-ARTIFACT', 'SM-BYOM-SAGEMAKER-ROLE-ARN', 'SM-BYOM-TRAIN-IMAGE-URI', 'PREFIX'] is deleted successfully\n"
     ]
    }
   ],
   "source": [
    "listParams = pm.get_all_params()\n",
    "listParams = [strParam for strParam in listParams if strPrefix in strParam] + [\"PREFIX\"]\n",
    "pm.delete_param(listParams)"
   ]
  },
  {
   "cell_type": "code",
   "execution_count": null,
   "id": "3a266692-a754-4b35-a9b0-4635ca9db800",
   "metadata": {},
   "outputs": [],
   "source": []
  }
 ],
 "metadata": {
  "kernelspec": {
   "display_name": "conda_python3",
   "language": "python",
   "name": "conda_python3"
  },
  "language_info": {
   "codemirror_mode": {
    "name": "ipython",
    "version": 3
   },
   "file_extension": ".py",
   "mimetype": "text/x-python",
   "name": "python",
   "nbconvert_exporter": "python",
   "pygments_lexer": "ipython3",
   "version": "3.10.6"
  }
 },
 "nbformat": 4,
 "nbformat_minor": 5
}
