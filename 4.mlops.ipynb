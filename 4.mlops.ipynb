{
 "cells": [
  {
   "cell_type": "markdown",
   "id": "7ad65ba3-68c2-45a4-8b22-4800173cd070",
   "metadata": {
    "tags": []
   },
   "source": [
    "# <B> Setup for MLOps pipeline with code-pipeline </B>\n",
    "* Container: conda_python3"
   ]
  },
  {
   "cell_type": "markdown",
   "id": "acee0072-892e-4997-837a-3de1099e67dd",
   "metadata": {
    "tags": []
   },
   "source": [
    "## AutoReload"
   ]
  },
  {
   "cell_type": "code",
   "execution_count": 1,
   "id": "1048b0ac-e79d-40fc-8eb8-4a68f68fc553",
   "metadata": {
    "tags": []
   },
   "outputs": [],
   "source": [
    "%load_ext autoreload\n",
    "%autoreload 2"
   ]
  },
  {
   "cell_type": "markdown",
   "id": "ace36063-610f-4df9-8357-1878a92e2d1d",
   "metadata": {},
   "source": [
    "## 1. parameter store 셋팅"
   ]
  },
  {
   "cell_type": "code",
   "execution_count": 2,
   "id": "49c3e785-2e57-48b4-8899-0b9b4a56366e",
   "metadata": {
    "tags": []
   },
   "outputs": [],
   "source": [
    "import boto3\n",
    "from utils.ssm import parameter_store"
   ]
  },
  {
   "cell_type": "code",
   "execution_count": 3,
   "id": "a16c7467-653f-4761-86bc-e2c0d7a3f41e",
   "metadata": {
    "tags": []
   },
   "outputs": [
    {
     "data": {
      "text/plain": [
       "'SM-MLOPS-PIPELINE-'"
      ]
     },
     "execution_count": 3,
     "metadata": {},
     "output_type": "execute_result"
    }
   ],
   "source": [
    "strRegionName=boto3.Session().region_name\n",
    "pm = parameter_store(strRegionName)\n",
    "strPrefix = pm.get_params(key=\"PREFIX\")\n",
    "strPrefix"
   ]
  },
  {
   "cell_type": "markdown",
   "id": "0d4aef26-02a8-4d26-9643-1a2d5b210925",
   "metadata": {},
   "source": [
    "## 2. Set code-pipeLine"
   ]
  },
  {
   "cell_type": "code",
   "execution_count": 4,
   "id": "737bd354-6d7e-44f4-9855-edd7f19bd1eb",
   "metadata": {
    "tags": []
   },
   "outputs": [],
   "source": [
    "import os\n",
    "import sagemaker\n",
    "from os import path\n",
    "from utils.code_pipeline import code_pipeline_handler"
   ]
  },
  {
   "cell_type": "code",
   "execution_count": 5,
   "id": "77b947b1-5d44-48c1-ba5a-8a67ee4780b4",
   "metadata": {
    "tags": []
   },
   "outputs": [],
   "source": [
    "cph = code_pipeline_handler()"
   ]
  },
  {
   "cell_type": "markdown",
   "id": "439a56f7-2591-4958-ad06-1079ba8ec46e",
   "metadata": {},
   "source": [
    "* args for codecommit, build and pipeline"
   ]
  },
  {
   "cell_type": "code",
   "execution_count": 6,
   "id": "4c455ba6-332c-4402-9f60-96d3fe8b2bc3",
   "metadata": {
    "tags": []
   },
   "outputs": [],
   "source": [
    "strRepoName = strPrefix + \"MLOPS\"\n",
    "strReopDesc = \"DEMO - MLOps with code-pipeline\"\n",
    "strSrcDir = os.path.join(os.getcwd(), \"./mlops/\")"
   ]
  },
  {
   "cell_type": "code",
   "execution_count": 7,
   "id": "ab284e82-0067-4e32-aa36-490b18de1fd4",
   "metadata": {
    "tags": []
   },
   "outputs": [
    {
     "data": {
      "text/plain": [
       "'SM-MLOPS-PIPELINE-MLOPS'"
      ]
     },
     "execution_count": 7,
     "metadata": {},
     "output_type": "execute_result"
    }
   ],
   "source": [
    "strRepoName"
   ]
  },
  {
   "cell_type": "markdown",
   "id": "62c7a92c-1d19-4d19-b44e-182a8d903bab",
   "metadata": {},
   "source": [
    "### 2.1 code-commit"
   ]
  },
  {
   "cell_type": "code",
   "execution_count": 8,
   "id": "fbdc44d0-24a0-4b04-8e50-1261a0b30608",
   "metadata": {
    "tags": []
   },
   "outputs": [],
   "source": [
    "## 최초 1회만!!!\n",
    "! rm -rf .git/"
   ]
  },
  {
   "cell_type": "code",
   "execution_count": 9,
   "id": "15aa9c2e-e4f0-4ed6-8bce-e192ad02efa9",
   "metadata": {
    "tags": []
   },
   "outputs": [
    {
     "name": "stdout",
     "output_type": "stream",
     "text": [
      "== CREATE REPO ==\n",
      "  Repository name [SM-MLOPS-PIPELINE-MLOPS] was successfully created!!\n"
     ]
    },
    {
     "name": "stderr",
     "output_type": "stream",
     "text": [
      "Cloning into 'tmp'...\n",
      "warning: You appear to have cloned an empty repository.\n"
     ]
    },
    {
     "name": "stdout",
     "output_type": "stream",
     "text": [
      "\n",
      "\n",
      "/home/ec2-user/SageMaker/sagemaker-train-deploy\n",
      "/home/ec2-user/SageMaker/sagemaker-train-deploy/mlops\n",
      "\n",
      "[master (root-commit) d9135d1] Initial commit\n",
      " Committer: EC2 Default User <ec2-user@ip-172-16-94-199.ec2.internal>\n",
      "Your name and email address were configured automatically based\n",
      "on your username and hostname. Please check that they are accurate.\n",
      "You can suppress this message by setting them explicitly:\n",
      "\n",
      "    git config --global user.name \"Your Name\"\n",
      "    git config --global user.email you@example.com\n",
      "\n",
      "After doing this, you may fix the identity used for this commit with:\n",
      "\n",
      "    git commit --amend --reset-author\n",
      "\n",
      " 22 files changed, 5407 insertions(+)\n",
      " create mode 100644 ReadMe.md\n",
      " create mode 100644 codebuild-buildspec.yml\n",
      " create mode 100644 pipeline/Untitled.ipynb\n",
      " create mode 100644 pipeline/config/__pycache__/config.cpython-37.pyc\n",
      " create mode 100644 pipeline/config/config.ini\n",
      " create mode 100644 pipeline/config/config.py\n",
      " create mode 100644 pipeline/mlops_pipeline.py\n",
      " create mode 100644 pipeline/mlops_pipeline_ref.py\n",
      " create mode 100644 pipeline/utils/__pycache__/s3.cpython-37.pyc\n",
      " create mode 100644 pipeline/utils/__pycache__/ssm.cpython-37.pyc\n",
      " create mode 100644 pipeline/utils/s3.py\n",
      " create mode 100644 pipeline/utils/ssm.py\n",
      " create mode 100644 sources/approval/approval_lambda_handler.py\n",
      " create mode 100644 sources/deploy/deploy.py\n",
      " create mode 100644 sources/deploy/inference.py\n",
      " create mode 100644 sources/deploy/requirements.txt\n",
      " create mode 100644 sources/evaluation/evaluation.py\n",
      " create mode 100644 sources/evaluation/requirements.txt\n",
      " create mode 100644 sources/preprocessing/preprocessing.py\n",
      " create mode 100644 sources/preprocessing/requirements.txt\n",
      " create mode 100644 sources/train/cifar10.py\n",
      " create mode 100644 sources/train/requirements.txt\n",
      "\n"
     ]
    },
    {
     "name": "stderr",
     "output_type": "stream",
     "text": [
      "remote: Validating objects: 0%        \r"
     ]
    },
    {
     "name": "stdout",
     "output_type": "stream",
     "text": [
      "\n"
     ]
    },
    {
     "name": "stderr",
     "output_type": "stream",
     "text": [
      "remote: Validating objects: 100%        \n",
      "To https://git-codecommit.us-east-1.amazonaws.com/v1/repos/SM-MLOPS-PIPELINE-MLOPS\n",
      " * [new branch]      master -> master\n"
     ]
    }
   ],
   "source": [
    "strCloneURL = cph.create_repository(strRepoName, strReopDesc)\n",
    "cph.clone_from_url(strSrcDir, strCloneURL)\n",
    "cph.initial_commit_push(strSrcDir)\n",
    "#cph.delete_repository(strRepoName)"
   ]
  },
  {
   "cell_type": "markdown",
   "id": "756f1e2d-96a2-4ce8-816c-35c1ce03537b",
   "metadata": {},
   "source": [
    "### 2.2 CodeBuild"
   ]
  },
  {
   "cell_type": "code",
   "execution_count": 10,
   "id": "184cea6c-2065-4ac9-af52-095faf0f4ca0",
   "metadata": {
    "tags": []
   },
   "outputs": [],
   "source": [
    "strCodeBuildPJTName=\"demo-mlops-build\""
   ]
  },
  {
   "cell_type": "code",
   "execution_count": 11,
   "id": "fc1f294a-91dc-46e7-b544-d5eac5c45410",
   "metadata": {
    "tags": []
   },
   "outputs": [
    {
     "name": "stdout",
     "output_type": "stream",
     "text": [
      "Argments for CodeBuild below:\n",
      "{'artifacts': {'name': 'demo-mlops-build', 'type': 'CODEPIPELINE'},\n",
      " 'badgeEnabled': False,\n",
      " 'cache': {'type': 'NO_CACHE'},\n",
      " 'description': 'Hello Build Project',\n",
      " 'environment': {'computeType': 'BUILD_GENERAL1_SMALL',\n",
      "                 'environmentVariables': [{'name': 'IMAGE_REPO_NAME',\n",
      "                                           'type': 'PLAINTEXT',\n",
      "                                           'value': 'iris-model'},\n",
      "                                          {'name': 'IMAGE_TAG',\n",
      "                                           'type': 'PLAINTEXT',\n",
      "                                           'value': 'latest'},\n",
      "                                          {'name': 'AWS_ACCOUNT_ID',\n",
      "                                           'type': 'PLAINTEXT',\n",
      "                                           'value': '419974056037'},\n",
      "                                          {'name': 'AWS_DEFAULT_REGION',\n",
      "                                           'type': 'PLAINTEXT',\n",
      "                                           'value': 'us-east-1'},\n",
      "                                          {'name': 'TEMPLATE_BUCKET',\n",
      "                                           'type': 'PLAINTEXT',\n",
      "                                           'value': 'sagemaker-us-east-1-419974056037'},\n",
      "                                          {'name': 'TEMPLATE_PREFIX',\n",
      "                                           'type': 'PLAINTEXT',\n",
      "                                           'value': 'codebuild'}],\n",
      "                 'image': 'aws/codebuild/amazonlinux2-x86_64-standard:3.0',\n",
      "                 'imagePullCredentialsType': 'CODEBUILD',\n",
      "                 'privilegedMode': False,\n",
      "                 'type': 'LINUX_CONTAINER'},\n",
      " 'logsConfig': {'cloudWatchLogs': {'status': 'ENABLED'},\n",
      "                's3Logs': {'encryptionDisabled': False, 'status': 'DISABLED'}},\n",
      " 'name': 'demo-mlops-build',\n",
      " 'queuedTimeoutInMinutes': 480,\n",
      " 'serviceRole': 'arn:aws:iam::419974056037:role/SM-MLOPS-PIPELINE-CodeBuildRole',\n",
      " 'source': {'buildspec': 'codebuild-buildspec.yml', 'type': 'CODEPIPELINE'},\n",
      " 'timeoutInMinutes': 60}\n"
     ]
    }
   ],
   "source": [
    "cph.create_build_project(\n",
    "    strCodeBuildPJTName=strCodeBuildPJTName,\n",
    "    strAccountId=pm.get_params(key=\"\".join([strPrefix, \"ACCOUNT-ID\"])),\n",
    "    strBuildServiceRoleARN=pm.get_params(key=\"\".join([strPrefix, \"CODE-BUILD-ROLE-ARN\"])),\n",
    "    strRegionName=pm.get_params(key=\"\".join([strPrefix, \"REGION\"])),\n",
    "    strBucketName=pm.get_params(key=\"\".join([strPrefix, \"BUCKET\"]))\n",
    ")\n",
    "#!aws codebuild delete-project --name \"demo-mlops-build\""
   ]
  },
  {
   "cell_type": "markdown",
   "id": "dba1bcc8-90cf-4fd5-b58f-ea7f415a50b7",
   "metadata": {},
   "source": [
    "### 2.3 Edit buildspec.yml\n",
    "* dependency, excution command, argument 등 수정\n"
   ]
  },
  {
   "cell_type": "code",
   "execution_count": 12,
   "id": "7aeadcf8-7959-4c5a-b65c-9c3c6d06a474",
   "metadata": {
    "tags": []
   },
   "outputs": [
    {
     "name": "stdout",
     "output_type": "stream",
     "text": [
      "\u001b[94mversion\u001b[39;49;00m:\u001b[37m \u001b[39;49;00m0.2\u001b[37m\u001b[39;49;00m\n",
      "\u001b[94mphases\u001b[39;49;00m:\u001b[37m\u001b[39;49;00m\n",
      "\u001b[37m  \u001b[39;49;00m\u001b[94minstall\u001b[39;49;00m:\u001b[37m\u001b[39;49;00m\n",
      "\u001b[37m    \u001b[39;49;00m\u001b[94mruntime-versions\u001b[39;49;00m:\u001b[37m\u001b[39;49;00m\n",
      "\u001b[37m      \u001b[39;49;00m\u001b[94mpython\u001b[39;49;00m:\u001b[37m \u001b[39;49;00m3.8\u001b[37m\u001b[39;49;00m\n",
      "\u001b[37m    \u001b[39;49;00m\u001b[94mcommands\u001b[39;49;00m:\u001b[37m\u001b[39;49;00m\n",
      "\u001b[37m      \u001b[39;49;00m-\u001b[37m \u001b[39;49;00mpip3 install --upgrade --force-reinstall awscli sagemaker\u001b[37m\u001b[39;49;00m\n",
      "\u001b[37m      \u001b[39;49;00m\u001b[37m\u001b[39;49;00m\n",
      "\u001b[37m  \u001b[39;49;00m\u001b[94mbuild\u001b[39;49;00m:\u001b[37m\u001b[39;49;00m\n",
      "\u001b[37m    \u001b[39;49;00m\u001b[94mcommands\u001b[39;49;00m:\u001b[37m\u001b[39;49;00m\n",
      "\u001b[37m      \u001b[39;49;00m-\u001b[37m \u001b[39;49;00mset -e\u001b[37m\u001b[39;49;00m\n",
      "\u001b[37m      \u001b[39;49;00m-\u001b[37m \u001b[39;49;00mecho \"Starting SageMaker Pipeline for Train Execution\"\u001b[37m\u001b[39;49;00m\n",
      "\u001b[37m      \u001b[39;49;00m-\u001b[37m \u001b[39;49;00mexport PYTHONUNBUFFERED=TRUE\u001b[37m\u001b[39;49;00m\n",
      "\u001b[37m      \u001b[39;49;00m-\u001b[37m \u001b[39;49;00mpushd pipeline\u001b[37m\u001b[39;49;00m\n",
      "\u001b[37m      \u001b[39;49;00m-\u001b[37m \u001b[39;49;00mpython3 mlops_pipeline.py\u001b[37m\u001b[39;49;00m\n",
      "\u001b[37m      \u001b[39;49;00m-\u001b[37m \u001b[39;49;00mecho \"Create/Update of the SageMaker Pipeline and execution completed.\"\u001b[37m\u001b[39;49;00m\n",
      "\u001b[37m      \u001b[39;49;00m\u001b[37m#- popd\u001b[39;49;00m\u001b[37m\u001b[39;49;00m\n",
      "\u001b[37m\u001b[39;49;00m\n",
      "\u001b[94martifacts\u001b[39;49;00m:\u001b[37m\u001b[39;49;00m\n",
      "\u001b[37m  \u001b[39;49;00m\u001b[94mfiles\u001b[39;49;00m:\u001b[37m\u001b[39;49;00m\n",
      "\u001b[37m    \u001b[39;49;00m-\u001b[37m \u001b[39;49;00m\u001b[33m'\u001b[39;49;00m\u001b[33m**/*\u001b[39;49;00m\u001b[33m'\u001b[39;49;00m\u001b[37m\u001b[39;49;00m\n"
     ]
    }
   ],
   "source": [
    "!pygmentize mlops/codebuild-buildspec.yml"
   ]
  },
  {
   "cell_type": "markdown",
   "id": "c029cf4b-1297-4f70-8c9d-f7dbf67557f8",
   "metadata": {
    "tags": []
   },
   "source": [
    "### 2.3. CodePipeline"
   ]
  },
  {
   "cell_type": "markdown",
   "id": "865cbce1-7e2e-4ee9-9eb5-353efe4e405d",
   "metadata": {},
   "source": [
    "git push 할 때 파이프라인을 실행하고 싶을 경우 code_pipeline.json에서 PollForSourceChanges 를 True로 변경하면 된다. "
   ]
  },
  {
   "cell_type": "code",
   "execution_count": 13,
   "id": "f6e33cde-2326-4590-99a4-a054a6b05546",
   "metadata": {
    "tags": []
   },
   "outputs": [],
   "source": [
    "strCodePipelineName = \"demo-mlops-code-pipeline\""
   ]
  },
  {
   "cell_type": "code",
   "execution_count": 14,
   "id": "9099ebb7-06f7-4b02-b793-26f5024eb9a8",
   "metadata": {
    "tags": []
   },
   "outputs": [
    {
     "name": "stdout",
     "output_type": "stream",
     "text": [
      "Couldn't find Pipeline: [demo-mlops-code-pipeline], so, create new pipeline.\n",
      "Create CodePipeline\n",
      "Argments for CodeBuild below:\n",
      "{'pipeline': {'artifactStore': {'location': 'sagemaker-us-east-1-419974056037',\n",
      "                                'type': 'S3'},\n",
      "              'name': 'demo-mlops-code-pipeline',\n",
      "              'roleArn': 'arn:aws:iam::419974056037:role/SM-MLOPS-PIPELINE-CodePipelineRole',\n",
      "              'stages': [{'actions': [{'actionTypeId': {'category': 'Source',\n",
      "                                                        'owner': 'AWS',\n",
      "                                                        'provider': 'CodeCommit',\n",
      "                                                        'version': '1'},\n",
      "                                       'configuration': {'BranchName': 'master',\n",
      "                                                         'OutputArtifactFormat': 'CODE_ZIP',\n",
      "                                                         'PollForSourceChanges': 'false',\n",
      "                                                         'RepositoryName': 'SM-MLOPS-PIPELINE-MLOPS'},\n",
      "                                       'inputArtifacts': [],\n",
      "                                       'name': 'Source',\n",
      "                                       'namespace': 'SourceVariables',\n",
      "                                       'outputArtifacts': [{'name': 'SourceArtifact'}],\n",
      "                                       'region': 'us-east-1',\n",
      "                                       'runOrder': 1}],\n",
      "                          'name': 'Source'},\n",
      "                         {'actions': [{'actionTypeId': {'category': 'Build',\n",
      "                                                        'owner': 'AWS',\n",
      "                                                        'provider': 'CodeBuild',\n",
      "                                                        'version': '1'},\n",
      "                                       'configuration': {'ProjectName': 'demo-mlops-build'},\n",
      "                                       'inputArtifacts': [{'name': 'SourceArtifact'}],\n",
      "                                       'name': 'BuildAndExecuteSageMakerPipeline',\n",
      "                                       'namespace': 'BuildVariables',\n",
      "                                       'outputArtifacts': [{'name': 'BuildArtifact'}],\n",
      "                                       'region': 'us-east-1',\n",
      "                                       'runOrder': 1}],\n",
      "                          'name': 'Build'}],\n",
      "              'version': 1}}\n"
     ]
    }
   ],
   "source": [
    "#cph = code_pipeline_handler()\n",
    "cph.create_execute_code_pipeline(\n",
    "    strCodePipelineName=strCodePipelineName,\n",
    "    strPipelineRoleARN=pm.get_params(key=\"\".join([strPrefix, \"CODE-PIPELINE-ROLE-ARN\"])),\n",
    "    strRegionName=pm.get_params(key=\"\".join([strPrefix, \"REGION\"])),\n",
    "    strBucketName=pm.get_params(key=\"\".join([strPrefix, \"BUCKET\"])),\n",
    "    strRepoName=strRepoName,\n",
    "    strCodeBuildPJTName=strCodeBuildPJTName,\n",
    ")\n",
    "#!aws codepipeline delete-pipeline --name \"demo-mlops-code-pipeline\""
   ]
  },
  {
   "cell_type": "markdown",
   "id": "9ab788ff-9fad-4806-9984-5e8b903a05a0",
   "metadata": {},
   "source": [
    "* restart"
   ]
  },
  {
   "cell_type": "code",
   "execution_count": 16,
   "id": "1d711852-ed6f-4335-ba61-9a129f81d427",
   "metadata": {
    "tags": []
   },
   "outputs": [
    {
     "name": "stdout",
     "output_type": "stream",
     "text": [
      "Start pipeline execution for [demo-mlops-code-pipeline]\n"
     ]
    }
   ],
   "source": [
    "cph.start_pipeline_execution(strCodePipelineName)"
   ]
  },
  {
   "cell_type": "code",
   "execution_count": null,
   "id": "ebdded16-906f-47aa-b330-9cf792ba03cf",
   "metadata": {},
   "outputs": [],
   "source": []
  }
 ],
 "metadata": {
  "kernelspec": {
   "display_name": "conda_python3",
   "language": "python",
   "name": "conda_python3"
  },
  "language_info": {
   "codemirror_mode": {
    "name": "ipython",
    "version": 3
   },
   "file_extension": ".py",
   "mimetype": "text/x-python",
   "name": "python",
   "nbconvert_exporter": "python",
   "pygments_lexer": "ipython3",
   "version": "3.10.8"
  }
 },
 "nbformat": 4,
 "nbformat_minor": 5
}
